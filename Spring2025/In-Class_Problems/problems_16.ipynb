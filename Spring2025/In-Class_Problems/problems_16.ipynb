{
  "nbformat": 4,
  "nbformat_minor": 0,
  "metadata": {
    "colab": {
      "provenance": [],
      "include_colab_link": true
    },
    "kernelspec": {
      "name": "python3",
      "display_name": "Python 3"
    },
    "language_info": {
      "name": "python"
    }
  },
  "cells": [
    {
      "cell_type": "markdown",
      "metadata": {
        "id": "view-in-github",
        "colab_type": "text"
      },
      "source": [
        "<a href=\"https://colab.research.google.com/github/Nick-Azzarano/Machine-Learning-Practice/blob/main/Spring2025/In-Class_Problems/problems_16.ipynb\" target=\"_parent\"><img src=\"https://colab.research.google.com/assets/colab-badge.svg\" alt=\"Open In Colab\"/></a>"
      ]
    },
    {
      "cell_type": "markdown",
      "metadata": {
        "id": "gRbe8Kcr8GWN"
      },
      "source": [
        "#**Introduction to PyTorch: Automatic Differentiation**"
      ]
    },
    {
      "cell_type": "code",
      "metadata": {
        "id": "qFUAFYyiYnX4"
      },
      "source": [
        "import numpy as np\n",
        "import torch\n",
        "import sklearn.datasets\n",
        "import matplotlib.pyplot as plt\n",
        "from IPython.display import clear_output\n",
        "#%matplotlib inline"
      ],
      "execution_count": 1,
      "outputs": []
    },
    {
      "cell_type": "code",
      "metadata": {
        "colab": {
          "base_uri": "https://localhost:8080/"
        },
        "id": "kHyc1g0M-qPe",
        "outputId": "2c7dfea0-1743-4bde-d7d3-e13e53083307"
      },
      "source": [
        "# Create tensors\n",
        "a = torch.tensor(5, dtype = torch.long)\n",
        "b = torch.tensor(5, dtype = torch.int32)\n",
        "b.dtype"
      ],
      "execution_count": 23,
      "outputs": [
        {
          "output_type": "execute_result",
          "data": {
            "text/plain": [
              "torch.int32"
            ]
          },
          "metadata": {},
          "execution_count": 23
        }
      ]
    },
    {
      "cell_type": "markdown",
      "source": [
        "Comparison with numpy:\n",
        "https://github.com/torch/torch7/wiki/Torch-for-Numpy-users"
      ],
      "metadata": {
        "id": "iYmts6eMCjzN"
      }
    },
    {
      "cell_type": "code",
      "metadata": {
        "colab": {
          "base_uri": "https://localhost:8080/"
        },
        "id": "spLLH87sIboL",
        "outputId": "e9ddb220-b605-4ea1-afa9-6cef231c8894"
      },
      "source": [
        "c = torch.ones(6)\n",
        "print(c, c.dtype)"
      ],
      "execution_count": 24,
      "outputs": [
        {
          "output_type": "stream",
          "name": "stdout",
          "text": [
            "tensor([1., 1., 1., 1., 1., 1.]) torch.float32\n"
          ]
        }
      ]
    },
    {
      "cell_type": "code",
      "metadata": {
        "colab": {
          "base_uri": "https://localhost:8080/"
        },
        "id": "k7TD7pTyLhx4",
        "outputId": "ac0bfefd-2691-4863-e012-dc8f2f8e30d2"
      },
      "source": [
        "# Shape\n",
        "c.size() #equivalent to x.shape in NumPy"
      ],
      "execution_count": 25,
      "outputs": [
        {
          "output_type": "execute_result",
          "data": {
            "text/plain": [
              "torch.Size([6])"
            ]
          },
          "metadata": {},
          "execution_count": 25
        }
      ]
    },
    {
      "cell_type": "code",
      "metadata": {
        "colab": {
          "base_uri": "https://localhost:8080/"
        },
        "id": "fOhZ8j7NImGR",
        "outputId": "c86b2ed3-94e1-41da-e103-587cfdbd7793"
      },
      "source": [
        "# Broadcasting\n",
        "d = c + 1\n",
        "print(d)"
      ],
      "execution_count": 26,
      "outputs": [
        {
          "output_type": "stream",
          "name": "stdout",
          "text": [
            "tensor([2., 2., 2., 2., 2., 2.])\n"
          ]
        }
      ]
    },
    {
      "cell_type": "code",
      "metadata": {
        "colab": {
          "base_uri": "https://localhost:8080/"
        },
        "id": "rVDo0fFREEfX",
        "outputId": "213d28d1-9f94-4de6-a8c8-1054031444a2"
      },
      "source": [
        "# Change type\n",
        "b.float() #b.to(torch.float)\n",
        "b.dtype\n",
        "# \".to puts everything on the GPU\""
      ],
      "execution_count": 27,
      "outputs": [
        {
          "output_type": "execute_result",
          "data": {
            "text/plain": [
              "torch.int32"
            ]
          },
          "metadata": {},
          "execution_count": 27
        }
      ]
    },
    {
      "cell_type": "code",
      "metadata": {
        "colab": {
          "base_uri": "https://localhost:8080/"
        },
        "id": "UQ3LsvLjFOxZ",
        "outputId": "735528ee-b73f-4185-941a-c3efcb65a872"
      },
      "source": [
        "# Reshape tensors\n",
        "c.view(2,3)"
      ],
      "execution_count": 28,
      "outputs": [
        {
          "output_type": "execute_result",
          "data": {
            "text/plain": [
              "tensor([[1., 1., 1.],\n",
              "        [1., 1., 1.]])"
            ]
          },
          "metadata": {},
          "execution_count": 28
        }
      ]
    },
    {
      "cell_type": "code",
      "source": [
        "c.size()"
      ],
      "metadata": {
        "colab": {
          "base_uri": "https://localhost:8080/"
        },
        "id": "MxudVgfa70tT",
        "outputId": "97a8c6ef-40b5-4845-8608-8937c885e893"
      },
      "execution_count": 29,
      "outputs": [
        {
          "output_type": "execute_result",
          "data": {
            "text/plain": [
              "torch.Size([6])"
            ]
          },
          "metadata": {},
          "execution_count": 29
        }
      ]
    },
    {
      "cell_type": "code",
      "metadata": {
        "colab": {
          "base_uri": "https://localhost:8080/"
        },
        "id": "43qSMP_JGS1s",
        "outputId": "99f995fd-1d3a-49d4-f9bc-d42b46c70a68"
      },
      "source": [
        "# Squeeze/Unsqueeze   notice that we've added another dimension to tensor c\n",
        "c.unsqueeze(dim=0).shape"
      ],
      "execution_count": 30,
      "outputs": [
        {
          "output_type": "execute_result",
          "data": {
            "text/plain": [
              "torch.Size([1, 6])"
            ]
          },
          "metadata": {},
          "execution_count": 30
        }
      ]
    },
    {
      "cell_type": "code",
      "source": [
        "# c.unsqueeze(dim=1).shape"
      ],
      "metadata": {
        "id": "ukj8g6jd787N"
      },
      "execution_count": 31,
      "outputs": []
    },
    {
      "cell_type": "code",
      "source": [
        "# c.unsqueeze(dim=1)"
      ],
      "metadata": {
        "id": "aPTC2dAg7_X_"
      },
      "execution_count": 32,
      "outputs": []
    },
    {
      "cell_type": "code",
      "metadata": {
        "id": "8NyOgp8SFS9z"
      },
      "source": [
        "# Dot product VS matrix multiplication"
      ],
      "execution_count": 33,
      "outputs": []
    },
    {
      "cell_type": "code",
      "metadata": {
        "id": "ZqTkukyHY_Xe",
        "colab": {
          "base_uri": "https://localhost:8080/"
        },
        "outputId": "e1cd286e-5b58-4e62-c449-252c6be5fe2b"
      },
      "source": [
        "d.dot(c) #torch.matmul(d.T,c)"
      ],
      "execution_count": 34,
      "outputs": [
        {
          "output_type": "execute_result",
          "data": {
            "text/plain": [
              "tensor(12.)"
            ]
          },
          "metadata": {},
          "execution_count": 34
        }
      ]
    },
    {
      "cell_type": "markdown",
      "source": [
        "###In-place operations\n",
        "\n",
        "The memory must be used efficiently when working with large tensors. Some operations create new object as the result of computations, others just change given object (in-place operations). In pytorch, these operations usually differ by adding an underscore:\n",
        "\n",
        "`x.exp()   # not-in-place operation`\n",
        "\n",
        "`x.exp_()  # in-place operation`\n",
        "\n"
      ],
      "metadata": {
        "id": "Id9lu0peFpZt"
      }
    },
    {
      "cell_type": "markdown",
      "metadata": {
        "id": "xI7lcI40HnLO"
      },
      "source": [
        "## Automatic Differentiation\n",
        "tensor.data, tensor.grad, tensor.grad_fn\n",
        "## Detaching variables\n",
        "\n",
        "`.detach()` returns a copy of a variable, through which backpropagation doesn't pass. If you average or just store batch losses during the optimization, you'd better detach those losses before averaging or storing. Otherwise the computational graphs for each batch would be stored in memory as well as batch losses, so you run out of memory very fast.\n",
        "\n",
        "Also there is in-place version (`.detach_()`) which doesn't create detached copy of the variable, but detach variable itself from its computational graph."
      ]
    },
    {
      "cell_type": "code",
      "metadata": {
        "id": "ccvARo18HmFW"
      },
      "source": [
        "a = torch.rand(1, requires_grad=True) # When we pass 'a' into a function, its children will also require a gradient\n",
        "b = torch.sin(a)"
      ],
      "execution_count": 62,
      "outputs": []
    },
    {
      "cell_type": "code",
      "source": [
        "a"
      ],
      "metadata": {
        "colab": {
          "base_uri": "https://localhost:8080/"
        },
        "id": "3cOGe2Iu8Utr",
        "outputId": "f70c1979-a9de-4243-e6f3-10e673a91bb7"
      },
      "execution_count": 63,
      "outputs": [
        {
          "output_type": "execute_result",
          "data": {
            "text/plain": [
              "tensor([0.3532], requires_grad=True)"
            ]
          },
          "metadata": {},
          "execution_count": 63
        }
      ]
    },
    {
      "cell_type": "code",
      "source": [
        "b"
      ],
      "metadata": {
        "colab": {
          "base_uri": "https://localhost:8080/"
        },
        "id": "b8zGzmiM8V_V",
        "outputId": "805a6f02-87c8-49e0-f1d5-08f8172ecfdc"
      },
      "execution_count": 64,
      "outputs": [
        {
          "output_type": "execute_result",
          "data": {
            "text/plain": [
              "tensor([0.3459], grad_fn=<SinBackward0>)"
            ]
          },
          "metadata": {},
          "execution_count": 64
        }
      ]
    },
    {
      "cell_type": "markdown",
      "metadata": {
        "id": "VNi4wxsEmWpz"
      },
      "source": [
        "Use method tensor.backward() for b and print the derivative of b with respect to a (a.grad)."
      ]
    },
    {
      "cell_type": "code",
      "metadata": {
        "id": "b8X73_H7mW7_",
        "colab": {
          "base_uri": "https://localhost:8080/"
        },
        "outputId": "240e934a-fee7-4493-c723-adb2b898dd02"
      },
      "source": [
        "b.backward() # runs the back propogation\n",
        "print(a.grad, torch.cos(a.data)) # the derivative of sine is cosine\n",
        "\n",
        "# \"The gradient of sine is cosine\""
      ],
      "execution_count": 65,
      "outputs": [
        {
          "output_type": "stream",
          "name": "stdout",
          "text": [
            "tensor([0.9383]) tensor([0.9383])\n"
          ]
        }
      ]
    },
    {
      "cell_type": "code",
      "source": [
        "x = torch.randn(4, requires_grad=True) # create a random tensor of 4 values\n",
        "y0 = torch.randn(4, requires_grad=True) # create a random tensor of 4 values\n",
        "y = y0.detach() # we detached the gradient from y\n",
        "z = x * y + 10\n",
        "p = z.sum()\n",
        "p.backward()\n",
        "print('x:', x.data)\n",
        "print('y:', y.data)\n",
        "print('dp / dx:', x.grad)\n",
        "print('dp / dy:', y.grad)"
      ],
      "metadata": {
        "id": "zkcjo9z5H1_-",
        "colab": {
          "base_uri": "https://localhost:8080/"
        },
        "outputId": "6202f3bb-e4da-4bd4-d0b6-526248ed2af0"
      },
      "execution_count": 66,
      "outputs": [
        {
          "output_type": "stream",
          "name": "stdout",
          "text": [
            "x: tensor([-1.4455,  1.4874, -1.1895, -0.9691])\n",
            "y: tensor([ 0.2851,  0.0745,  0.3443, -1.6782])\n",
            "dp / dx: tensor([ 0.2851,  0.0745,  0.3443, -1.6782])\n",
            "dp / dy: None\n"
          ]
        }
      ]
    },
    {
      "cell_type": "markdown",
      "source": [
        "##Gradient reset"
      ],
      "metadata": {
        "id": "qPg0PpEWIEPo"
      }
    },
    {
      "cell_type": "code",
      "source": [
        "x = torch.tensor([1, 1, 1, 1.], requires_grad=True)\n",
        "y = x ** 2\n",
        "p = y.sum()\n",
        "p.backward()\n",
        "print('x:', x)\n",
        "print('dp / dx:', x.grad)\n",
        "x.grad.detach_()       # extracting gradient Variable from the previous computational graph (optional)\n",
        "x.grad.zero_()         # zero gradinents\n",
        "y = 1 / x\n",
        "p = y.sum()\n",
        "p.backward()\n",
        "print('x:', x)\n",
        "print('dp / dx:', x.grad)"
      ],
      "metadata": {
        "id": "Hm3nBbPGIIUd",
        "colab": {
          "base_uri": "https://localhost:8080/"
        },
        "outputId": "37fb13f5-0f7c-47ee-e2f1-e8edbe0bd262"
      },
      "execution_count": 67,
      "outputs": [
        {
          "output_type": "stream",
          "name": "stdout",
          "text": [
            "x: tensor([1., 1., 1., 1.], requires_grad=True)\n",
            "dp / dx: tensor([2., 2., 2., 2.])\n",
            "x: tensor([1., 1., 1., 1.], requires_grad=True)\n",
            "dp / dx: tensor([-1., -1., -1., -1.])\n"
          ]
        }
      ]
    },
    {
      "cell_type": "markdown",
      "source": [
        "##Leaf vs Non-leaf Variable"
      ],
      "metadata": {
        "id": "MAU6pqqmIU0J"
      }
    },
    {
      "cell_type": "code",
      "source": [
        "x = torch.randn(4, requires_grad=True)  # leaf variable\n",
        "y = x + 1                               # not a leaf variable\n",
        "p = y.sum()                             # not a leaf variable\n",
        "p.backward()\n",
        "print('x:', x)\n",
        "print('y:', y)\n",
        "print('p:', p)\n",
        "print('x.grad:', x.grad)\n",
        "print('y.grad:', y.grad)\n",
        "print('p.grad:', p.grad)"
      ],
      "metadata": {
        "id": "og5CoaMrIWN0",
        "colab": {
          "base_uri": "https://localhost:8080/"
        },
        "outputId": "b43c5074-10a0-4577-ff30-545dbe563a2c"
      },
      "execution_count": 68,
      "outputs": [
        {
          "output_type": "stream",
          "name": "stdout",
          "text": [
            "x: tensor([-1.4784,  1.7884, -0.0775, -0.7023], requires_grad=True)\n",
            "y: tensor([-0.4784,  2.7884,  0.9225,  0.2977], grad_fn=<AddBackward0>)\n",
            "p: tensor(3.5302, grad_fn=<SumBackward0>)\n",
            "x.grad: tensor([1., 1., 1., 1.])\n",
            "y.grad: None\n",
            "p.grad: None\n"
          ]
        },
        {
          "output_type": "stream",
          "name": "stderr",
          "text": [
            "<ipython-input-68-9cd951bbac27>:9: UserWarning: The .grad attribute of a Tensor that is not a leaf Tensor is being accessed. Its .grad attribute won't be populated during autograd.backward(). If you indeed want the .grad field to be populated for a non-leaf Tensor, use .retain_grad() on the non-leaf Tensor. If you access the non-leaf Tensor by mistake, make sure you access the leaf Tensor instead. See github.com/pytorch/pytorch/pull/30531 for more informations. (Triggered internally at /pytorch/build/aten/src/ATen/core/TensorBody.h:489.)\n",
            "  print('y.grad:', y.grad)\n",
            "<ipython-input-68-9cd951bbac27>:10: UserWarning: The .grad attribute of a Tensor that is not a leaf Tensor is being accessed. Its .grad attribute won't be populated during autograd.backward(). If you indeed want the .grad field to be populated for a non-leaf Tensor, use .retain_grad() on the non-leaf Tensor. If you access the non-leaf Tensor by mistake, make sure you access the leaf Tensor instead. See github.com/pytorch/pytorch/pull/30531 for more informations. (Triggered internally at /pytorch/build/aten/src/ATen/core/TensorBody.h:489.)\n",
            "  print('p.grad:', p.grad)\n"
          ]
        }
      ]
    },
    {
      "cell_type": "markdown",
      "source": [
        "##Gradients for non-leaf variables"
      ],
      "metadata": {
        "id": "BY1CXo_rIjNN"
      }
    },
    {
      "cell_type": "code",
      "source": [
        "x = torch.randn(4, requires_grad=True)   # leaf variable\n",
        "z = torch.randn(4, requires_grad=True)   # leaf variable\n",
        "w = z * 2      # not a leaf variable\n",
        "y = x * w + 1  # forward pass before retaining gradient is ok\n",
        "p = y.sum()\n",
        "\n",
        "w.retain_grad() # we get w from doing z*2, so it's kind of the beginnings of the gradient of MSE\n",
        "\n",
        "p.backward()\n",
        "print('dp / dx:', x.grad)\n",
        "print('dp / dz:', z.grad)\n",
        "print('dp / dw:', w.grad)"
      ],
      "metadata": {
        "id": "oQ8AK5u2Ikr6",
        "colab": {
          "base_uri": "https://localhost:8080/"
        },
        "outputId": "e9a3efef-f976-4651-b0d7-6cceb7f7d084"
      },
      "execution_count": 69,
      "outputs": [
        {
          "output_type": "stream",
          "name": "stdout",
          "text": [
            "dp / dx: tensor([-0.9167,  1.8454,  0.4926, -0.6543])\n",
            "dp / dz: tensor([ 2.4942,  1.2246, -0.4684,  1.2643])\n",
            "dp / dw: tensor([ 1.2471,  0.6123, -0.2342,  0.6322])\n"
          ]
        }
      ]
    },
    {
      "cell_type": "markdown",
      "metadata": {
        "id": "wyqHVvv7nCw4"
      },
      "source": [
        "## In this section, we use atomatic differentiation for the Gradient Descend"
      ]
    },
    {
      "cell_type": "code",
      "source": [
        "torch.manual_seed(0)\n",
        "x = torch.linspace(1, 5, 20)\n",
        "y = 2*x + 1 + 5*torch.rand(len(x))"
      ],
      "metadata": {
        "id": "OmyTS55GJrWr"
      },
      "execution_count": 70,
      "outputs": []
    },
    {
      "cell_type": "code",
      "source": [
        "plt.scatter(x,y)"
      ],
      "metadata": {
        "id": "HVDoWuQRKKmE",
        "outputId": "10685b2f-e04f-4f4d-de8b-1ad39f0c81eb",
        "colab": {
          "base_uri": "https://localhost:8080/",
          "height": 447
        }
      },
      "execution_count": 71,
      "outputs": [
        {
          "output_type": "execute_result",
          "data": {
            "text/plain": [
              "<matplotlib.collections.PathCollection at 0x7a8a1d8b5790>"
            ]
          },
          "metadata": {},
          "execution_count": 71
        },
        {
          "output_type": "display_data",
          "data": {
            "text/plain": [
              "<Figure size 640x480 with 1 Axes>"
            ],
            "image/png": "[encoded data removed]"
          },
          "metadata": {}
        }
      ]
    },
    {
      "cell_type": "markdown",
      "source": [
        "### Q1 (1 pt).   Initialize the weights and bais with gradients (see example with `sin(a)`)."
      ],
      "metadata": {
        "id": "I3MwUe-yiaEO"
      }
    },
    {
      "cell_type": "code",
      "source": [
        "# w = #your code\n",
        "w = torch.tensor(1., requires_grad=True)\n",
        "# b = #your code\n",
        "b = torch.tensor(1., requires_grad=True)"
      ],
      "metadata": {
        "id": "d8ptu7DYiUiY"
      },
      "execution_count": 72,
      "outputs": []
    },
    {
      "cell_type": "code",
      "source": [
        "w, b"
      ],
      "metadata": {
        "colab": {
          "base_uri": "https://localhost:8080/"
        },
        "id": "GlplS7Ir-QU2",
        "outputId": "913811be-db6f-4494-efc3-82ad07b65adc"
      },
      "execution_count": 73,
      "outputs": [
        {
          "output_type": "execute_result",
          "data": {
            "text/plain": [
              "(tensor(1., requires_grad=True), tensor(1., requires_grad=True))"
            ]
          },
          "metadata": {},
          "execution_count": 73
        }
      ]
    },
    {
      "cell_type": "markdown",
      "source": [
        "### Q2 (2pt). Write the gradient descent using automated calculation of the gradients of `w` and `b`."
      ],
      "metadata": {
        "id": "LhRDzO-8jZsS"
      }
    },
    {
      "cell_type": "code",
      "source": [
        "alpha = 0.001 #learning rate\n",
        "for i in range(100):   #number of epochs\n",
        "  #if the gradients are non empty, zero them:\n",
        "\n",
        "  # calculate prediction y_p = w*x+b:\n",
        "  y_p = w*x + b\n",
        "\n",
        "  # calculate loss mean((y_p-y)**2):\n",
        "  loss = ((y_p - y)**2).mean()\n",
        "\n",
        "  # run loss.backward() to calculate the derivatives\n",
        "  loss.backward()\n",
        "\n",
        "  # update the values of w and b, using learning rate alpha and gradients\n",
        "  w.data = w.data - alpha * w.grad.data\n",
        "  b.data = b.data - alpha * b.grad.data\n",
        "\n",
        "  #visualisation:\n",
        "  if (i + 1) % 5 == 0:\n",
        "    clear_output(True)\n",
        "    plt.figure(figsize=(10,8))\n",
        "    plt.scatter(x, y, label=\"data\")\n",
        "    plt.scatter(x, y_p.data.numpy(), color=\"orange\", linewidth=5, label=\"predictions\")\n",
        "    plt.xlabel(\"x\", fontsize=14)\n",
        "    plt.ylabel(\"y\", fontsize=14)\n",
        "    plt.title(\"Example\", fontsize=18)\n",
        "    plt.legend(fontsize=14)\n",
        "    plt.show()"
      ],
      "metadata": {
        "id": "PYepGweZiUyE",
        "colab": {
          "base_uri": "https://localhost:8080/",
          "height": 728
        },
        "outputId": "4990bb85-d2dd-487c-c7cb-e835545f0c12"
      },
      "execution_count": 74,
      "outputs": [
        {
          "output_type": "display_data",
          "data": {
            "text/plain": [
              "<Figure size 1000x800 with 1 Axes>"
            ],
            "image/png": "[encoded data removed]"
          },
          "metadata": {}
        }
      ]
    },
    {
      "cell_type": "code",
      "source": [],
      "metadata": {
        "id": "0BiSX3mzhyvu"
      },
      "execution_count": null,
      "outputs": []
    }
  ]
}