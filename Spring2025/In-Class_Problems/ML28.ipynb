{
  "nbformat": 4,
  "nbformat_minor": 0,
  "metadata": {
    "colab": {
      "provenance": [],
      "include_colab_link": true
    },
    "kernelspec": {
      "name": "python3",
      "display_name": "Python 3"
    },
    "language_info": {
      "name": "python"
    }
  },
  "cells": [
    {
      "cell_type": "markdown",
      "metadata": {
        "id": "view-in-github",
        "colab_type": "text"
      },
      "source": [
        "<a href=\"https://colab.research.google.com/github/Nick-Azzarano/Machine-Learning-Practice/blob/main/Spring2025/In-Class_Problems/ML28.ipynb\" target=\"_parent\"><img src=\"https://colab.research.google.com/assets/colab-badge.svg\" alt=\"Open In Colab\"/></a>"
      ]
    },
    {
      "cell_type": "markdown",
      "source": [
        "# Recurrent Neural Networks (RNN)\n",
        "Credits for the idea: https://youtu.be/WEV61GmmPrk?si=rH3aM34l6iGut_HG"
      ],
      "metadata": {
        "id": "HNgzS_63CQMv"
      }
    },
    {
      "cell_type": "code",
      "source": [
        "import string\n",
        "import unicodedata\n",
        "from pathlib import Path\n",
        "import torch\n",
        "from torch.utils.data import Dataset, DataLoader\n",
        "import torch.nn as nn"
      ],
      "metadata": {
        "id": "Yj3fU29reUQW"
      },
      "execution_count": 1,
      "outputs": []
    },
    {
      "cell_type": "code",
      "execution_count": 2,
      "metadata": {
        "colab": {
          "base_uri": "https://localhost:8080/"
        },
        "id": "5j4J-PRfb86y",
        "outputId": "54dade52-e9a1-4d52-e962-64726d2eee9d"
      },
      "outputs": [
        {
          "output_type": "stream",
          "name": "stdout",
          "text": [
            "--2025-04-24 19:48:42--  https://download.pytorch.org/tutorial/data.zip\n",
            "Resolving download.pytorch.org (download.pytorch.org)... 3.166.96.104, 3.166.96.3, 3.166.96.34, ...\n",
            "Connecting to download.pytorch.org (download.pytorch.org)|3.166.96.104|:443... connected.\n",
            "HTTP request sent, awaiting response... 200 OK\n",
            "Length: 2882130 (2.7M) [application/zip]\n",
            "Saving to: ‘data.zip’\n",
            "\n",
            "data.zip            100%[===================>]   2.75M  16.8MB/s    in 0.2s    \n",
            "\n",
            "2025-04-24 19:48:43 (16.8 MB/s) - ‘data.zip’ saved [2882130/2882130]\n",
            "\n"
          ]
        }
      ],
      "source": [
        "#dataset\n",
        "!wget \"https://download.pytorch.org/tutorial/data.zip\""
      ]
    },
    {
      "cell_type": "code",
      "source": [
        "!unzip data.zip"
      ],
      "metadata": {
        "colab": {
          "base_uri": "https://localhost:8080/"
        },
        "id": "M5RJPdrFcFvA",
        "outputId": "30e467a2-31c9-4402-c1d1-8e2ce8952c23"
      },
      "execution_count": 3,
      "outputs": [
        {
          "output_type": "stream",
          "name": "stdout",
          "text": [
            "Archive:  data.zip\n",
            "   creating: data/\n",
            "  inflating: data/eng-fra.txt        \n",
            "   creating: data/names/\n",
            "  inflating: data/names/Arabic.txt   \n",
            "  inflating: data/names/Chinese.txt  \n",
            "  inflating: data/names/Czech.txt    \n",
            "  inflating: data/names/Dutch.txt    \n",
            "  inflating: data/names/English.txt  \n",
            "  inflating: data/names/French.txt   \n",
            "  inflating: data/names/German.txt   \n",
            "  inflating: data/names/Greek.txt    \n",
            "  inflating: data/names/Irish.txt    \n",
            "  inflating: data/names/Italian.txt  \n",
            "  inflating: data/names/Japanese.txt  \n",
            "  inflating: data/names/Korean.txt   \n",
            "  inflating: data/names/Polish.txt   \n",
            "  inflating: data/names/Portuguese.txt  \n",
            "  inflating: data/names/Russian.txt  \n",
            "  inflating: data/names/Scottish.txt  \n",
            "  inflating: data/names/Spanish.txt  \n",
            "  inflating: data/names/Vietnamese.txt  \n"
          ]
        }
      ]
    },
    {
      "cell_type": "code",
      "source": [
        "ALL_LETTERS = string.ascii_letters + \" .,;'\""
      ],
      "metadata": {
        "id": "2o4QjQsPdt87"
      },
      "execution_count": 5,
      "outputs": []
    },
    {
      "cell_type": "code",
      "source": [
        "ALL_LETTERS"
      ],
      "metadata": {
        "colab": {
          "base_uri": "https://localhost:8080/",
          "height": 36
        },
        "id": "QT6ze4Z7eavr",
        "outputId": "a4ec8779-8efd-4dd6-916c-e05bbe29a48c"
      },
      "execution_count": 6,
      "outputs": [
        {
          "output_type": "execute_result",
          "data": {
            "text/plain": [
              "\"abcdefghijklmnopqrstuvwxyzABCDEFGHIJKLMNOPQRSTUVWXYZ .,;'\""
            ],
            "application/vnd.google.colaboratory.intrinsic+json": {
              "type": "string"
            }
          },
          "metadata": {},
          "execution_count": 6
        }
      ]
    },
    {
      "cell_type": "code",
      "source": [
        "def unicode_to_ascii(s):\n",
        "    return ''.join(\n",
        "        c for c in unicodedata.normalize('NFD', s)\n",
        "        if unicodedata.category(c) != 'Mn'\n",
        "        and c in ALL_LETTERS\n",
        "    )"
      ],
      "metadata": {
        "id": "rE0aabVoedty"
      },
      "execution_count": 7,
      "outputs": []
    },
    {
      "cell_type": "code",
      "source": [
        "path = Path('data/names')"
      ],
      "metadata": {
        "id": "9SeheQJjfCcy"
      },
      "execution_count": 8,
      "outputs": []
    },
    {
      "cell_type": "code",
      "source": [
        "paths = list(path.rglob('*.txt'))"
      ],
      "metadata": {
        "id": "sh-dPB54iT6H"
      },
      "execution_count": 9,
      "outputs": []
    },
    {
      "cell_type": "code",
      "source": [
        "paths[0].as_posix()"
      ],
      "metadata": {
        "colab": {
          "base_uri": "https://localhost:8080/",
          "height": 36
        },
        "id": "XXe-ZmorigFT",
        "outputId": "b8ce027a-5e3f-472f-c043-56053191ef91"
      },
      "execution_count": 10,
      "outputs": [
        {
          "output_type": "execute_result",
          "data": {
            "text/plain": [
              "'data/names/Portuguese.txt'"
            ],
            "application/vnd.google.colaboratory.intrinsic+json": {
              "type": "string"
            }
          },
          "metadata": {},
          "execution_count": 10
        }
      ]
    },
    {
      "cell_type": "code",
      "source": [
        "raw_data = []\n",
        "country_dic ={}\n",
        "idx = 0\n",
        "for path_to_file in paths:\n",
        "  country_dic[path_to_file.as_posix().split('/')[-1][:-4]] = idx\n",
        "  idx += 1\n",
        "  with open(path_to_file.as_posix()) as file:\n",
        "    for line in file:\n",
        "      raw_data.append((line.strip(), path_to_file.as_posix().split('/')[-1][:-4]))"
      ],
      "metadata": {
        "id": "w7XWsJe_jUBU"
      },
      "execution_count": 11,
      "outputs": []
    },
    {
      "cell_type": "code",
      "source": [
        "raw_data[0]"
      ],
      "metadata": {
        "colab": {
          "base_uri": "https://localhost:8080/"
        },
        "id": "1zOpimgkmklF",
        "outputId": "678458fc-a9f9-434c-a708-905eaef13b9b"
      },
      "execution_count": 12,
      "outputs": [
        {
          "output_type": "execute_result",
          "data": {
            "text/plain": [
              "('Abreu', 'Portuguese')"
            ]
          },
          "metadata": {},
          "execution_count": 12
        }
      ]
    },
    {
      "cell_type": "code",
      "source": [
        "country_dic"
      ],
      "metadata": {
        "colab": {
          "base_uri": "https://localhost:8080/"
        },
        "id": "QsLj6qGUmsjW",
        "outputId": "6261ed0c-72d7-48a3-88f6-33496c905d0a"
      },
      "execution_count": 13,
      "outputs": [
        {
          "output_type": "execute_result",
          "data": {
            "text/plain": [
              "{'Portuguese': 0,\n",
              " 'Scottish': 1,\n",
              " 'Arabic': 2,\n",
              " 'Irish': 3,\n",
              " 'Italian': 4,\n",
              " 'French': 5,\n",
              " 'Russian': 6,\n",
              " 'Japanese': 7,\n",
              " 'Korean': 8,\n",
              " 'Chinese': 9,\n",
              " 'English': 10,\n",
              " 'Greek': 11,\n",
              " 'Czech': 12,\n",
              " 'Spanish': 13,\n",
              " 'German': 14,\n",
              " 'Polish': 15,\n",
              " 'Dutch': 16,\n",
              " 'Vietnamese': 17}"
            ]
          },
          "metadata": {},
          "execution_count": 13
        }
      ]
    },
    {
      "cell_type": "code",
      "source": [
        "### Matt made a helper function\n",
        "def name_to_tensor(name):\n",
        "  name = unicode_to_ascii(name)\n",
        "  name_list = []\n",
        "  for char in name:\n",
        "    char_one_hot = torch.zeros((len(ALL_LETTERS),1))\n",
        "    char_one_hot[ALL_LETTERS.find(char),0] = 1\n",
        "    name_list.append(char_one_hot)\n",
        "  return torch.cat(name_list, dim=1).T"
      ],
      "metadata": {
        "id": "Yc_xbuehWWFZ"
      },
      "execution_count": 45,
      "outputs": []
    },
    {
      "cell_type": "code",
      "source": [
        "class MyData(Dataset):\n",
        "  def __init__(self, data, country_dict):\n",
        "    super().__init__()\n",
        "    self.data = data\n",
        "    self.country_dict = country_dict\n",
        "  def __len__(self):\n",
        "    return len(self.data)\n",
        "  def __getitem__(self, index):\n",
        "    name, country = self.data[index]\n",
        "    name = unicode_to_ascii(name)\n",
        "    country = country_dic[country]\n",
        "    name_list = []\n",
        "    for char in name:\n",
        "      char_one_hot = torch.zeros((len(ALL_LETTERS),1))\n",
        "      char_one_hot[ALL_LETTERS.find(char),0] = 1\n",
        "      name_list.append(char_one_hot)\n",
        "      #name_list.append(torch.tensor(ALL_LETTERS.find(char)))\n",
        "    return torch.cat(name_list, dim=1).T, torch.tensor(country)\n",
        "    #return torch.stack(name_list), torch.tensor(country)"
      ],
      "metadata": {
        "id": "g0ZBovU8oXp_"
      },
      "execution_count": 16,
      "outputs": []
    },
    {
      "cell_type": "code",
      "source": [
        "data = MyData(raw_data, country_dic)"
      ],
      "metadata": {
        "id": "SLuRkz6-nyf9"
      },
      "execution_count": 17,
      "outputs": []
    },
    {
      "cell_type": "code",
      "source": [
        "data[0][0].shape"
      ],
      "metadata": {
        "colab": {
          "base_uri": "https://localhost:8080/"
        },
        "id": "b6cwohEorXVQ",
        "outputId": "ca426267-8c72-4fd3-a995-e3dcf915e036"
      },
      "execution_count": 18,
      "outputs": [
        {
          "output_type": "execute_result",
          "data": {
            "text/plain": [
              "torch.Size([5, 57])"
            ]
          },
          "metadata": {},
          "execution_count": 18
        }
      ]
    },
    {
      "cell_type": "code",
      "source": [
        "data_loader = DataLoader(data, batch_size=1, shuffle=True)"
      ],
      "metadata": {
        "id": "u014j0derYf1"
      },
      "execution_count": 33,
      "outputs": []
    },
    {
      "cell_type": "code",
      "source": [
        "class RNN(nn.Module):\n",
        "  def __init__(self, in_size, hidden_size):\n",
        "    super().__init__()\n",
        "    self.in_size = in_size\n",
        "    self.hidden_size = hidden_size\n",
        "    # self.linear = nn.Linear(in_size+hidden_size, hidden_size)  # Basically our RNN layer\n",
        "    self.linear_out = nn.Linear(hidden_size, len(country_dic))\n",
        "    # For RNN\n",
        "    #self.rnn = nn.RNN(in_size, hidden_size, batch_first=True)\n",
        "    # For LSTM\n",
        "    self.lstm = nn.LSTM(in_size, hidden_size, batch_first=True)\n",
        "    self.emb = nn.Embedding(57,16)\n",
        "\n",
        "  def forward(self, x):\n",
        "    # self.h0 = torch.zeros((x.shape[0], self.hidden_size))\n",
        "    # out = []\n",
        "    # for i in range(x.shape[1]):\n",
        "    #   self.h0 = nn.functional.tanh(self.linear(torch.cat([self.h0,x[:,i,:]], dim=1)))\n",
        "    #   out.append(self.h0)\n",
        "    # return self.linear_out(out[-1])\n",
        "\n",
        "    # For RNN\n",
        "    # out, h = self.rnn(x)\n",
        "    # return self.linear_out(out[:,-1,:])\n",
        "\n",
        "    # For LSTM\n",
        "    x = self.emb(x)\n",
        "    out, _ = self.lstm(x)\n",
        "    return self.linear_out(out[:,-1,:])\n",
        "\n"
      ],
      "metadata": {
        "id": "jZ2BrXvTtiOb"
      },
      "execution_count": 34,
      "outputs": []
    },
    {
      "cell_type": "code",
      "source": [
        "my_RNN = RNN(57, 100)  # We have to leave 57 as is, but we can choose whatever we want for the size number\n",
        "#my_RNN = RNN(16, 32)"
      ],
      "metadata": {
        "id": "gXdCaVwCw5M0"
      },
      "execution_count": 35,
      "outputs": []
    },
    {
      "cell_type": "code",
      "source": [
        "#my_RNN.emb(torch.tensor([1,2,3,4])).shape"
      ],
      "metadata": {
        "id": "fVnJLK1gAfT0"
      },
      "execution_count": 36,
      "outputs": []
    },
    {
      "cell_type": "code",
      "source": [
        "creterion = nn.CrossEntropyLoss()\n",
        "optimizer = torch.optim.Adam(my_RNN.parameters())"
      ],
      "metadata": {
        "id": "URMbr0PZybXq"
      },
      "execution_count": 37,
      "outputs": []
    },
    {
      "cell_type": "code",
      "source": [
        "from tqdm import tqdm"
      ],
      "metadata": {
        "id": "9nOh-YzS1Hqd"
      },
      "execution_count": 38,
      "outputs": []
    },
    {
      "cell_type": "code",
      "source": [
        "for epoch in range(1):\n",
        "  pbar = tqdm(data_loader, total=len(data_loader))\n",
        "  for x, y in pbar: #data_loader:\n",
        "    y_pred = my_RNN.forward(x) #[-1]\n",
        "    #print(y_pred)\n",
        "    loss = creterion(y_pred, y)\n",
        "    loss.backward()\n",
        "    optimizer.step()\n",
        "    optimizer.zero_grad()\n",
        "    pbar.set_description(f\"Loss: {round(loss.item(), 4)} \")"
      ],
      "metadata": {
        "colab": {
          "base_uri": "https://localhost:8080/"
        },
        "id": "ZjiwmJnAxCse",
        "outputId": "56e30eeb-ed2a-42c9-a743-154b58ed6c35"
      },
      "execution_count": 39,
      "outputs": [
        {
          "output_type": "stream",
          "name": "stderr",
          "text": [
            "Loss: 0.0036 : 100%|██████████| 20074/20074 [01:46<00:00, 187.75it/s]\n"
          ]
        }
      ]
    },
    {
      "cell_type": "code",
      "source": [
        "sum = 0\n",
        "with torch.no_grad():\n",
        "  for x, y in data_loader:\n",
        "    sum += (y == my_RNN(x).argmax(-1))\n",
        "sum/len(data_loader)"
      ],
      "metadata": {
        "colab": {
          "base_uri": "https://localhost:8080/"
        },
        "id": "hwKDGwKJxOM8",
        "outputId": "ecb81271-5c6b-468f-8bc0-ff9a0ea48a43"
      },
      "execution_count": 40,
      "outputs": [
        {
          "output_type": "execute_result",
          "data": {
            "text/plain": [
              "tensor([0.7200])"
            ]
          },
          "metadata": {},
          "execution_count": 40
        }
      ]
    },
    {
      "cell_type": "code",
      "source": [
        "def predict_from_name(name):\n",
        "  print(list(country_dic.keys())[my_RNN(name_to_tensor(name).unsqueeze(0)).argmax(-1)])"
      ],
      "metadata": {
        "id": "CZIcmjBU3Vg-"
      },
      "execution_count": 46,
      "outputs": []
    },
    {
      "cell_type": "code",
      "source": [
        "predict_from_name(\"Anton\")"
      ],
      "metadata": {
        "colab": {
          "base_uri": "https://localhost:8080/"
        },
        "id": "a-D4zax1YoXn",
        "outputId": "00942f28-d16a-46f5-c488-719370836859"
      },
      "execution_count": 68,
      "outputs": [
        {
          "output_type": "stream",
          "name": "stdout",
          "text": [
            "English\n"
          ]
        }
      ]
    },
    {
      "cell_type": "code",
      "source": [],
      "metadata": {
        "id": "nPliI55TZiSN"
      },
      "execution_count": null,
      "outputs": []
    }
  ]
}