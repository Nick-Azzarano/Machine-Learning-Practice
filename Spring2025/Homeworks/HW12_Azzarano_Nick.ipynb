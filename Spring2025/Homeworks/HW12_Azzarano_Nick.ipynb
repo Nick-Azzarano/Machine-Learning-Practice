{
  "nbformat": 4,
  "nbformat_minor": 0,
  "metadata": {
    "colab": {
      "provenance": [],
      "include_colab_link": true
    },
    "kernelspec": {
      "name": "python3",
      "display_name": "Python 3"
    },
    "language_info": {
      "name": "python"
    }
  },
  "cells": [
    {
      "cell_type": "markdown",
      "metadata": {
        "id": "view-in-github",
        "colab_type": "text"
      },
      "source": [
        "<a href=\"https://colab.research.google.com/github/Nick-Azzarano/Machine-Learning-Practice/blob/main/Spring2025/Homeworks/HW12_Azzarano_Nick.ipynb\" target=\"_parent\"><img src=\"https://colab.research.google.com/assets/colab-badge.svg\" alt=\"Open In Colab\"/></a>"
      ]
    },
    {
      "cell_type": "markdown",
      "source": [
        "# Homework 12\n",
        "\n",
        "\n"
      ],
      "metadata": {
        "id": "Zp5Oj61Q08a2"
      }
    },
    {
      "cell_type": "markdown",
      "source": [
        "### Q1 (1pt) Download MNIST dataset from https://www.kaggle.com/datasets/playlist/mnistzip/"
      ],
      "metadata": {
        "id": "r4sbihcf20ww"
      }
    },
    {
      "cell_type": "code",
      "source": [],
      "metadata": {
        "id": "qBwx2QjI3A_F"
      },
      "execution_count": null,
      "outputs": []
    },
    {
      "cell_type": "code",
      "source": [],
      "metadata": {
        "id": "4jmiODtR3BCr"
      },
      "execution_count": null,
      "outputs": []
    },
    {
      "cell_type": "markdown",
      "source": [
        "### Q2 (2pt) Create Train and Validation Dataset and DataLoader objects"
      ],
      "metadata": {
        "id": "EgZnMPn03Byi"
      }
    },
    {
      "cell_type": "code",
      "source": [],
      "metadata": {
        "id": "jmpSdFnf3H6_"
      },
      "execution_count": null,
      "outputs": []
    },
    {
      "cell_type": "code",
      "source": [],
      "metadata": {
        "id": "pTKCpJWt3I_Y"
      },
      "execution_count": null,
      "outputs": []
    },
    {
      "cell_type": "code",
      "source": [],
      "metadata": {
        "id": "AXB53Uw13JCB"
      },
      "execution_count": null,
      "outputs": []
    },
    {
      "cell_type": "code",
      "source": [],
      "metadata": {
        "id": "V7opDVLO3JFa"
      },
      "execution_count": null,
      "outputs": []
    },
    {
      "cell_type": "markdown",
      "source": [
        "### Q3 (6pt) Define **the model** as in the image given in the writeup. Convolution stands for: Conv2d with kernel size 5, stride 1 and padding 2, BatchNorm2d, and ReLU. Subsampling is MaxPool2d. I didn’t use activation after the last max-pooling."
      ],
      "metadata": {
        "id": "EPnyhzLX3JiG"
      }
    },
    {
      "cell_type": "code",
      "source": [],
      "metadata": {
        "id": "ot3nwbnK3PJN"
      },
      "execution_count": null,
      "outputs": []
    },
    {
      "cell_type": "code",
      "source": [],
      "metadata": {
        "id": "z0GBB7EC3X1f"
      },
      "execution_count": null,
      "outputs": []
    },
    {
      "cell_type": "code",
      "source": [],
      "metadata": {
        "id": "rvURxmiT3X4N"
      },
      "execution_count": null,
      "outputs": []
    },
    {
      "cell_type": "code",
      "source": [],
      "metadata": {
        "id": "tviXAzat3X71"
      },
      "execution_count": null,
      "outputs": []
    },
    {
      "cell_type": "markdown",
      "source": [
        "### Q4 (5pt) Train the model and save the weights. The **accuracy** on the validation set should be > 0.99. You may want to use GPU, it took 3 minutes to train it on GPU. It can be Jupyter file or Python file."
      ],
      "metadata": {
        "id": "4pIA4yHI3Y1l"
      }
    },
    {
      "cell_type": "code",
      "source": [],
      "metadata": {
        "id": "JYe79h8T3gqY"
      },
      "execution_count": null,
      "outputs": []
    },
    {
      "cell_type": "code",
      "source": [],
      "metadata": {
        "id": "BTWaKLmO3lZq"
      },
      "execution_count": null,
      "outputs": []
    },
    {
      "cell_type": "code",
      "source": [],
      "metadata": {
        "id": "NJK6M2BQ3ldK"
      },
      "execution_count": null,
      "outputs": []
    },
    {
      "cell_type": "code",
      "source": [],
      "metadata": {
        "id": "xfcV2hLX3lmg"
      },
      "execution_count": null,
      "outputs": []
    },
    {
      "cell_type": "markdown",
      "source": [
        "### Q5 (5pt) Write a **Python script** that can be run on the input image and returns the prediction of the handwritten digit. The output should look like this: `C:\\Users\\laure\\Downloads>python hw12_detect.py five.png`"
      ],
      "metadata": {
        "id": "_qVjrvSy3l7K"
      }
    },
    {
      "cell_type": "markdown",
      "source": [
        "To read from the command line use sys.argv"
      ],
      "metadata": {
        "id": "Mii5CvtulHc2"
      }
    },
    {
      "cell_type": "code",
      "source": [
        "# Write the actual python script outside of Colab"
      ],
      "metadata": {
        "id": "8XF-u-dX3rhh"
      },
      "execution_count": null,
      "outputs": []
    },
    {
      "cell_type": "markdown",
      "source": [
        "### Q6 (1pt) Run your script on the images from HW 11. Comment on the performance in the notebook or Python script."
      ],
      "metadata": {
        "id": "tFkdl2Xs3si9"
      }
    },
    {
      "cell_type": "code",
      "source": [
        "# comment on performance here"
      ],
      "metadata": {
        "id": "M_ubzHBR34IT"
      },
      "execution_count": null,
      "outputs": []
    },
    {
      "cell_type": "markdown",
      "source": [
        "\n",
        "\n",
        "---\n",
        "\n"
      ],
      "metadata": {
        "id": "24JaLArclaPe"
      }
    },
    {
      "cell_type": "markdown",
      "source": [
        "### **Submit** both training and detection files with saved model weights and the test images in one archived file or as separate files."
      ],
      "metadata": {
        "id": "6cBGfin534jm"
      }
    },
    {
      "cell_type": "markdown",
      "source": [
        "\n",
        "\n",
        "---\n",
        "\n"
      ],
      "metadata": {
        "id": "Le2D6cVylY9C"
      }
    }
  ]
}