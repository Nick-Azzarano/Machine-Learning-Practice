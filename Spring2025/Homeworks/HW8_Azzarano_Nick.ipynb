{
  "cells": [
    {
      "cell_type": "markdown",
      "metadata": {
        "id": "view-in-github",
        "colab_type": "text"
      },
      "source": [
        "<a href=\"https://colab.research.google.com/github/Nick-Azzarano/Machine-Learning-Practice/blob/main/Spring2025/Homeworks/HW8_Azzarano_Nick.ipynb\" target=\"_parent\"><img src=\"https://colab.research.google.com/assets/colab-badge.svg\" alt=\"Open In Colab\"/></a>"
      ]
    },
    {
      "cell_type": "markdown",
      "source": [
        "Nick Azzarano\n",
        "<br/>\n",
        "CSCI 335\n",
        "<br/>\n",
        "Anton Selitskiy\n",
        "<br/>\n",
        "March 31, 2025"
      ],
      "metadata": {
        "id": "uhZ4_ZI_mhLe"
      }
    },
    {
      "cell_type": "code",
      "execution_count": 2,
      "metadata": {
        "id": "InITFBGfl3DV"
      },
      "outputs": [],
      "source": [
        "#from google.colab import drive\n",
        "#drive.mount(\"/content/gdrive\")\n",
        "import numpy as np\n",
        "import pandas as pd\n",
        "import random\n",
        "from sklearn.tree import DecisionTreeRegressor\n",
        "from sklearn.model_selection import train_test_split\n",
        "from sklearn.preprocessing import OneHotEncoder\n",
        "from sklearn.compose import ColumnTransformer\n",
        "import matplotlib.pyplot as plt"
      ]
    },
    {
      "cell_type": "markdown",
      "metadata": {
        "id": "rTEcsjs_1e4P"
      },
      "source": [
        "#Homework 8\n",
        "In this homework, we will write Gradient Boosting class and apply it to the date from the insuarance company about hospitalization chance. After transformation, data are numpy arrays, not dataframes."
      ]
    },
    {
      "cell_type": "code",
      "execution_count": 4,
      "metadata": {
        "id": "1O3g4yh6yIXH",
        "colab": {
          "base_uri": "https://localhost:8080/",
          "height": 206
        },
        "outputId": "b4caa493-376a-4d12-9ef5-937dc4f810b4"
      },
      "outputs": [
        {
          "output_type": "execute_result",
          "data": {
            "text/plain": [
              "   ClaimsTruncated  CharlsonIndex  LengthOfStay  AgeAtFirstClaim Sex  \\\n",
              "0                0              3             0               30   M   \n",
              "1                0              0             0               30   M   \n",
              "2                1              0             0               80   F   \n",
              "3                0              0             1               20   F   \n",
              "4                0              1             0               60   F   \n",
              "\n",
              "   DaysInHospital  \n",
              "0              -1  \n",
              "1              -1  \n",
              "2               1  \n",
              "3               1  \n",
              "4              -1  "
            ],
            "text/html": [
              "\n",
              "  <div id=\"df-356d2295-4363-4548-9334-64ed8fc48e75\" class=\"colab-df-container\">\n",
              "    <div>\n",
              "<style scoped>\n",
              "    .dataframe tbody tr th:only-of-type {\n",
              "        vertical-align: middle;\n",
              "    }\n",
              "\n",
              "    .dataframe tbody tr th {\n",
              "        vertical-align: top;\n",
              "    }\n",
              "\n",
              "    .dataframe thead th {\n",
              "        text-align: right;\n",
              "    }\n",
              "</style>\n",
              "<table border=\"1\" class=\"dataframe\">\n",
              "  <thead>\n",
              "    <tr style=\"text-align: right;\">\n",
              "      <th></th>\n",
              "      <th>ClaimsTruncated</th>\n",
              "      <th>CharlsonIndex</th>\n",
              "      <th>LengthOfStay</th>\n",
              "      <th>AgeAtFirstClaim</th>\n",
              "      <th>Sex</th>\n",
              "      <th>DaysInHospital</th>\n",
              "    </tr>\n",
              "  </thead>\n",
              "  <tbody>\n",
              "    <tr>\n",
              "      <th>0</th>\n",
              "      <td>0</td>\n",
              "      <td>3</td>\n",
              "      <td>0</td>\n",
              "      <td>30</td>\n",
              "      <td>M</td>\n",
              "      <td>-1</td>\n",
              "    </tr>\n",
              "    <tr>\n",
              "      <th>1</th>\n",
              "      <td>0</td>\n",
              "      <td>0</td>\n",
              "      <td>0</td>\n",
              "      <td>30</td>\n",
              "      <td>M</td>\n",
              "      <td>-1</td>\n",
              "    </tr>\n",
              "    <tr>\n",
              "      <th>2</th>\n",
              "      <td>1</td>\n",
              "      <td>0</td>\n",
              "      <td>0</td>\n",
              "      <td>80</td>\n",
              "      <td>F</td>\n",
              "      <td>1</td>\n",
              "    </tr>\n",
              "    <tr>\n",
              "      <th>3</th>\n",
              "      <td>0</td>\n",
              "      <td>0</td>\n",
              "      <td>1</td>\n",
              "      <td>20</td>\n",
              "      <td>F</td>\n",
              "      <td>1</td>\n",
              "    </tr>\n",
              "    <tr>\n",
              "      <th>4</th>\n",
              "      <td>0</td>\n",
              "      <td>1</td>\n",
              "      <td>0</td>\n",
              "      <td>60</td>\n",
              "      <td>F</td>\n",
              "      <td>-1</td>\n",
              "    </tr>\n",
              "  </tbody>\n",
              "</table>\n",
              "</div>\n",
              "    <div class=\"colab-df-buttons\">\n",
              "\n",
              "  <div class=\"colab-df-container\">\n",
              "    <button class=\"colab-df-convert\" onclick=\"convertToInteractive('df-356d2295-4363-4548-9334-64ed8fc48e75')\"\n",
              "            title=\"Convert this dataframe to an interactive table.\"\n",
              "            style=\"display:none;\">\n",
              "\n",
              "  <svg xmlns=\"http://www.w3.org/2000/svg\" height=\"24px\" viewBox=\"0 -960 960 960\">\n",
              "    <path d=\"M120-120v-720h720v720H120Zm60-500h600v-160H180v160Zm220 220h160v-160H400v160Zm0 220h160v-160H400v160ZM180-400h160v-160H180v160Zm440 0h160v-160H620v160ZM180-180h160v-160H180v160Zm440 0h160v-160H620v160Z\"/>\n",
              "  </svg>\n",
              "    </button>\n",
              "\n",
              "  <style>\n",
              "    .colab-df-container {\n",
              "      display:flex;\n",
              "      gap: 12px;\n",
              "    }\n",
              "\n",
              "    .colab-df-convert {\n",
              "      background-color: #E8F0FE;\n",
              "      border: none;\n",
              "      border-radius: 50%;\n",
              "      cursor: pointer;\n",
              "      display: none;\n",
              "      fill: #1967D2;\n",
              "      height: 32px;\n",
              "      padding: 0 0 0 0;\n",
              "      width: 32px;\n",
              "    }\n",
              "\n",
              "    .colab-df-convert:hover {\n",
              "      background-color: #E2EBFA;\n",
              "      box-shadow: 0px 1px 2px rgba(60, 64, 67, 0.3), 0px 1px 3px 1px rgba(60, 64, 67, 0.15);\n",
              "      fill: #174EA6;\n",
              "    }\n",
              "\n",
              "    .colab-df-buttons div {\n",
              "      margin-bottom: 4px;\n",
              "    }\n",
              "\n",
              "    [theme=dark] .colab-df-convert {\n",
              "      background-color: #3B4455;\n",
              "      fill: #D2E3FC;\n",
              "    }\n",
              "\n",
              "    [theme=dark] .colab-df-convert:hover {\n",
              "      background-color: #434B5C;\n",
              "      box-shadow: 0px 1px 3px 1px rgba(0, 0, 0, 0.15);\n",
              "      filter: drop-shadow(0px 1px 2px rgba(0, 0, 0, 0.3));\n",
              "      fill: #FFFFFF;\n",
              "    }\n",
              "  </style>\n",
              "\n",
              "    <script>\n",
              "      const buttonEl =\n",
              "        document.querySelector('#df-356d2295-4363-4548-9334-64ed8fc48e75 button.colab-df-convert');\n",
              "      buttonEl.style.display =\n",
              "        google.colab.kernel.accessAllowed ? 'block' : 'none';\n",
              "\n",
              "      async function convertToInteractive(key) {\n",
              "        const element = document.querySelector('#df-356d2295-4363-4548-9334-64ed8fc48e75');\n",
              "        const dataTable =\n",
              "          await google.colab.kernel.invokeFunction('convertToInteractive',\n",
              "                                                    [key], {});\n",
              "        if (!dataTable) return;\n",
              "\n",
              "        const docLinkHtml = 'Like what you see? Visit the ' +\n",
              "          '<a target=\"_blank\" href=https://colab.research.google.com/notebooks/data_table.ipynb>data table notebook</a>'\n",
              "          + ' to learn more about interactive tables.';\n",
              "        element.innerHTML = '';\n",
              "        dataTable['output_type'] = 'display_data';\n",
              "        await google.colab.output.renderOutput(dataTable, element);\n",
              "        const docLink = document.createElement('div');\n",
              "        docLink.innerHTML = docLinkHtml;\n",
              "        element.appendChild(docLink);\n",
              "      }\n",
              "    </script>\n",
              "  </div>\n",
              "\n",
              "\n",
              "<div id=\"df-d9a0dd02-5cb8-4790-a7dc-1273eaa79b52\">\n",
              "  <button class=\"colab-df-quickchart\" onclick=\"quickchart('df-d9a0dd02-5cb8-4790-a7dc-1273eaa79b52')\"\n",
              "            title=\"Suggest charts\"\n",
              "            style=\"display:none;\">\n",
              "\n",
              "<svg xmlns=\"http://www.w3.org/2000/svg\" height=\"24px\"viewBox=\"0 0 24 24\"\n",
              "     width=\"24px\">\n",
              "    <g>\n",
              "        <path d=\"M19 3H5c-1.1 0-2 .9-2 2v14c0 1.1.9 2 2 2h14c1.1 0 2-.9 2-2V5c0-1.1-.9-2-2-2zM9 17H7v-7h2v7zm4 0h-2V7h2v10zm4 0h-2v-4h2v4z\"/>\n",
              "    </g>\n",
              "</svg>\n",
              "  </button>\n",
              "\n",
              "<style>\n",
              "  .colab-df-quickchart {\n",
              "      --bg-color: #E8F0FE;\n",
              "      --fill-color: #1967D2;\n",
              "      --hover-bg-color: #E2EBFA;\n",
              "      --hover-fill-color: #174EA6;\n",
              "      --disabled-fill-color: #AAA;\n",
              "      --disabled-bg-color: #DDD;\n",
              "  }\n",
              "\n",
              "  [theme=dark] .colab-df-quickchart {\n",
              "      --bg-color: #3B4455;\n",
              "      --fill-color: #D2E3FC;\n",
              "      --hover-bg-color: #434B5C;\n",
              "      --hover-fill-color: #FFFFFF;\n",
              "      --disabled-bg-color: #3B4455;\n",
              "      --disabled-fill-color: #666;\n",
              "  }\n",
              "\n",
              "  .colab-df-quickchart {\n",
              "    background-color: var(--bg-color);\n",
              "    border: none;\n",
              "    border-radius: 50%;\n",
              "    cursor: pointer;\n",
              "    display: none;\n",
              "    fill: var(--fill-color);\n",
              "    height: 32px;\n",
              "    padding: 0;\n",
              "    width: 32px;\n",
              "  }\n",
              "\n",
              "  .colab-df-quickchart:hover {\n",
              "    background-color: var(--hover-bg-color);\n",
              "    box-shadow: 0 1px 2px rgba(60, 64, 67, 0.3), 0 1px 3px 1px rgba(60, 64, 67, 0.15);\n",
              "    fill: var(--button-hover-fill-color);\n",
              "  }\n",
              "\n",
              "  .colab-df-quickchart-complete:disabled,\n",
              "  .colab-df-quickchart-complete:disabled:hover {\n",
              "    background-color: var(--disabled-bg-color);\n",
              "    fill: var(--disabled-fill-color);\n",
              "    box-shadow: none;\n",
              "  }\n",
              "\n",
              "  .colab-df-spinner {\n",
              "    border: 2px solid var(--fill-color);\n",
              "    border-color: transparent;\n",
              "    border-bottom-color: var(--fill-color);\n",
              "    animation:\n",
              "      spin 1s steps(1) infinite;\n",
              "  }\n",
              "\n",
              "  @keyframes spin {\n",
              "    0% {\n",
              "      border-color: transparent;\n",
              "      border-bottom-color: var(--fill-color);\n",
              "      border-left-color: var(--fill-color);\n",
              "    }\n",
              "    20% {\n",
              "      border-color: transparent;\n",
              "      border-left-color: var(--fill-color);\n",
              "      border-top-color: var(--fill-color);\n",
              "    }\n",
              "    30% {\n",
              "      border-color: transparent;\n",
              "      border-left-color: var(--fill-color);\n",
              "      border-top-color: var(--fill-color);\n",
              "      border-right-color: var(--fill-color);\n",
              "    }\n",
              "    40% {\n",
              "      border-color: transparent;\n",
              "      border-right-color: var(--fill-color);\n",
              "      border-top-color: var(--fill-color);\n",
              "    }\n",
              "    60% {\n",
              "      border-color: transparent;\n",
              "      border-right-color: var(--fill-color);\n",
              "    }\n",
              "    80% {\n",
              "      border-color: transparent;\n",
              "      border-right-color: var(--fill-color);\n",
              "      border-bottom-color: var(--fill-color);\n",
              "    }\n",
              "    90% {\n",
              "      border-color: transparent;\n",
              "      border-bottom-color: var(--fill-color);\n",
              "    }\n",
              "  }\n",
              "</style>\n",
              "\n",
              "  <script>\n",
              "    async function quickchart(key) {\n",
              "      const quickchartButtonEl =\n",
              "        document.querySelector('#' + key + ' button');\n",
              "      quickchartButtonEl.disabled = true;  // To prevent multiple clicks.\n",
              "      quickchartButtonEl.classList.add('colab-df-spinner');\n",
              "      try {\n",
              "        const charts = await google.colab.kernel.invokeFunction(\n",
              "            'suggestCharts', [key], {});\n",
              "      } catch (error) {\n",
              "        console.error('Error during call to suggestCharts:', error);\n",
              "      }\n",
              "      quickchartButtonEl.classList.remove('colab-df-spinner');\n",
              "      quickchartButtonEl.classList.add('colab-df-quickchart-complete');\n",
              "    }\n",
              "    (() => {\n",
              "      let quickchartButtonEl =\n",
              "        document.querySelector('#df-d9a0dd02-5cb8-4790-a7dc-1273eaa79b52 button');\n",
              "      quickchartButtonEl.style.display =\n",
              "        google.colab.kernel.accessAllowed ? 'block' : 'none';\n",
              "    })();\n",
              "  </script>\n",
              "</div>\n",
              "\n",
              "    </div>\n",
              "  </div>\n"
            ],
            "application/vnd.google.colaboratory.intrinsic+json": {
              "type": "dataframe",
              "variable_name": "data",
              "summary": "{\n  \"name\": \"data\",\n  \"rows\": 76038,\n  \"fields\": [\n    {\n      \"column\": \"ClaimsTruncated\",\n      \"properties\": {\n        \"dtype\": \"number\",\n        \"std\": 0,\n        \"min\": 0,\n        \"max\": 1,\n        \"num_unique_values\": 2,\n        \"samples\": [\n          1,\n          0\n        ],\n        \"semantic_type\": \"\",\n        \"description\": \"\"\n      }\n    },\n    {\n      \"column\": \"CharlsonIndex\",\n      \"properties\": {\n        \"dtype\": \"number\",\n        \"std\": 0,\n        \"min\": 0,\n        \"max\": 5,\n        \"num_unique_values\": 4,\n        \"samples\": [\n          0,\n          5\n        ],\n        \"semantic_type\": \"\",\n        \"description\": \"\"\n      }\n    },\n    {\n      \"column\": \"LengthOfStay\",\n      \"properties\": {\n        \"dtype\": \"number\",\n        \"std\": 17,\n        \"min\": 0,\n        \"max\": 1744,\n        \"num_unique_values\": 187,\n        \"samples\": [\n          379,\n          254\n        ],\n        \"semantic_type\": \"\",\n        \"description\": \"\"\n      }\n    },\n    {\n      \"column\": \"AgeAtFirstClaim\",\n      \"properties\": {\n        \"dtype\": \"number\",\n        \"std\": 26,\n        \"min\": -1,\n        \"max\": 80,\n        \"num_unique_values\": 10,\n        \"samples\": [\n          10,\n          80\n        ],\n        \"semantic_type\": \"\",\n        \"description\": \"\"\n      }\n    },\n    {\n      \"column\": \"Sex\",\n      \"properties\": {\n        \"dtype\": \"category\",\n        \"num_unique_values\": 2,\n        \"samples\": [\n          \"F\",\n          \"M\"\n        ],\n        \"semantic_type\": \"\",\n        \"description\": \"\"\n      }\n    },\n    {\n      \"column\": \"DaysInHospital\",\n      \"properties\": {\n        \"dtype\": \"number\",\n        \"std\": 0,\n        \"min\": -1,\n        \"max\": 1,\n        \"num_unique_values\": 2,\n        \"samples\": [\n          1,\n          -1\n        ],\n        \"semantic_type\": \"\",\n        \"description\": \"\"\n      }\n    }\n  ]\n}"
            }
          },
          "metadata": {},
          "execution_count": 4
        }
      ],
      "source": [
        "data = pd.read_csv('https://raw.githubusercontent.com/anton-selitskiy/RIT_ML/refs/heads/main/2023_fall/Hospital.csv')\n",
        "data.head()"
      ]
    },
    {
      "cell_type": "code",
      "execution_count": 5,
      "metadata": {
        "id": "J3IVlpskyafP"
      },
      "outputs": [],
      "source": [
        "X = data.iloc[:,:-1]\n",
        "y = data.iloc[:,-1].values"
      ]
    },
    {
      "cell_type": "code",
      "execution_count": 6,
      "metadata": {
        "id": "GfPXBN47NAJs"
      },
      "outputs": [],
      "source": [
        "X_train, X_test, y_train, y_test = train_test_split(X, y, test_size=0.4, random_state=42)\n",
        "X_val, X_test, y_val, y_test = train_test_split(X_test, y_test, test_size=0.5, random_state=42)"
      ]
    },
    {
      "cell_type": "code",
      "execution_count": 7,
      "metadata": {
        "id": "ySV7wLciNAGN"
      },
      "outputs": [],
      "source": [
        "transform = ColumnTransformer([('OneHot', OneHotEncoder(drop='first', handle_unknown='infrequent_if_exist'), ['Sex'])], remainder='passthrough')"
      ]
    },
    {
      "cell_type": "code",
      "execution_count": 8,
      "metadata": {
        "id": "f-GYgbYgQx1a"
      },
      "outputs": [],
      "source": [
        "X_train_transformed = transform.fit_transform(X_train)\n",
        "X_val_transformed = transform.transform(X_val)\n",
        "X_test_transformed = transform.transform(X_test)"
      ]
    },
    {
      "cell_type": "markdown",
      "metadata": {
        "id": "hOU7RIFFLYAs"
      },
      "source": [
        "#Gradient Boosting\n",
        "\n",
        "$$\n",
        "a_N(x) = b_0(x)+\\sum_{n=1}^N \\gamma_n b_n(x) = b_0(x) + \\gamma_1 b_1(x) +\\ldots + \\gamma_N b_N(x)\n",
        "$$\n",
        "Prediction is\n",
        "$$\n",
        "\\hat{y}=\\operatorname{sign} a_N(x).\n",
        "$$\n",
        "\n",
        "After you built this sum, next model $b_{N+1}(x)$ is trained on\n",
        "$$\n",
        "s^{(i)} = -\\eta\\left.\\frac{\\partial L(y, z)}{\\partial z}\\right|_{z=a_N(x^{(i)})}.\n",
        "$$\n",
        "\n",
        "After that, $\\gamma_{N+1}$ is chosen from the following condition:\n",
        "$$\n",
        "L(y, a_N(x)+\\gamma_{N+1}b_{N+1}(x)) \\to \\underset{\\gamma_{N+1}}{\\min}.\n",
        "$$"
      ]
    },
    {
      "cell_type": "markdown",
      "metadata": {
        "id": "KIpdgoJhoPAo"
      },
      "source": [
        "##Q1 (12 pt). Implement boosting for binary classification.\n",
        "\n",
        "Since gradient boosting is trained by sequentially creating models, it may happen that the model that is optimal in terms of generalization is obtained at an intermediate iteration. Usually, to control this behavior, a validation dataset is also passed to the `fit` method, which allows you to assess the overall model quality during training. In addition, it's not usefull to train a really deep model with 1000 or more trees if the optimal ensemble was achieved, for example, at the 70th iteration and did not improve for some number of iterations. Therefore, we will also use early stopping if there are no improvements over a certain number of iterations.\n",
        "\n",
        "You will fill-in three things:\n",
        "\n",
        "1 (4 pt). Function `_fit_new_model`\n",
        "\n",
        "2 (4 pt). Early stopping in `fit`\n",
        "\n",
        "3 (4 pt). Function `predict_proba` (Convert $a(x)$ into probability as in logistic regression)."
      ]
    },
    {
      "cell_type": "code",
      "execution_count": 21,
      "metadata": {
        "id": "0LfhmdJLnZAT"
      },
      "outputs": [],
      "source": [
        "class Boosting:\n",
        "\n",
        "    def __init__(\n",
        "        self,\n",
        "        base_model_class=DecisionTreeRegressor,\n",
        "        base_model_params: dict={'max_features': 0.1},\n",
        "        n_estimators: int=10,\n",
        "        learning_rate: float=0.1,\n",
        "        subsample: float=0.3,\n",
        "        random_seed: int=228,\n",
        "        custom_loss: list or tuple=None,\n",
        "        use_best_model: bool=False,\n",
        "        n_iter_early_stopping: int=None\n",
        "    ):\n",
        "\n",
        "        # Base model class\n",
        "        self.base_model_class = base_model_class\n",
        "        # Parameters for the base model\n",
        "        self.base_model_params = base_model_params\n",
        "        # Number of the base models\n",
        "        self.n_estimators = n_estimators\n",
        "        # Learnin rate (eta)\n",
        "        self.learning_rate = learning_rate\n",
        "        # Fraction of the training data for training of the individual model\n",
        "        self.subsample = subsample\n",
        "        # seed for bootstrap (if we want to reproduse the model, we could use it in base_model parameters)\n",
        "        self.random_seed = random_seed\n",
        "        # Use the number of models with the lowest validation loss\n",
        "        self.use_best_model = use_best_model\n",
        "        # The number of iterations without decreasing of the validation loss\n",
        "        self.n_iter_early_stopping = n_iter_early_stopping\n",
        "\n",
        "        # Placeholder for the first model prediction (a_0)\n",
        "        self.initial_model_pred = None\n",
        "\n",
        "        # Lis of the weights\n",
        "        self.gammas = []\n",
        "\n",
        "        # List of the base models\n",
        "        self.models = [self.base_model_class(**self.base_model_params) for _ in range(self.n_estimators)]\n",
        "\n",
        "        # Log-loss, if user's loss, then pass list: custom_loss = [loss, derivative]\n",
        "        if custom_loss is not None:\n",
        "            self.loss_fn, self.loss_derivative = custom_loss\n",
        "        else:\n",
        "            self.sigmoid = lambda z: 1 / (1 + np.exp(-z))\n",
        "            self.loss_fn = lambda y, z: -np.log(self.sigmoid(y * z)).mean()  #for two arrays returns a number\n",
        "            self.loss_derivative = lambda y, z: (-y * self.sigmoid(-y * z)) #for two arrays returns an array\n",
        "\n",
        "    def _fit_initial_model(self, X, y):\n",
        "        \"\"\"\n",
        "        Function for the first model. It can be a constant, corresponding to the most popular class\n",
        "        or any other model. We will use a constant.\n",
        "        \"\"\"\n",
        "\n",
        "        idx = random.sample(range(X.shape[0]), int(self.subsample*X.shape[0]))\n",
        "        X_s = X[idx,:]\n",
        "        y_s = y[idx]\n",
        "\n",
        "        c, c_counts = np.unique(y_s, return_counts=True)\n",
        "\n",
        "        self.initial_model_pred = c[np.argmax(c_counts)]\n",
        "\n",
        "\n",
        "    def _fit_new_model(self, X: np.ndarray, y: np.ndarray or list, old_predictions: np.ndarray, n_model: int):\n",
        "        \"\"\"\n",
        "        Function for an individual model of the boosting\n",
        "        :param X: features\n",
        "        :param y: target\n",
        "        :param n_model: number of the current model\n",
        "        \"\"\"\n",
        "\n",
        "        # Your code is here ╰( ͡° ͜ʖ ͡° )つ──☆*:\n",
        "\n",
        "        # Take the fraction self.subsample of the data (X, y, old_predictions):\n",
        "        idx = random.sample(range(X.shape[0]), int(self.subsample*X.shape[0]))\n",
        "        X_subset = X[idx,:]\n",
        "        y_subset = y[idx]\n",
        "        old_predictions_subset = old_predictions[idx]\n",
        "\n",
        "        # Compute pseudo-residuals s using negative self.loss_derivative of y and old_predictions:\n",
        "        s = -self.loss_derivative(y_subset, old_predictions_subset)\n",
        "\n",
        "        # Fit n-th base model self.models[n_model].fit on (X_subset, s):\n",
        "        self.models[n_model].fit(X_subset, s)\n",
        "\n",
        "\n",
        "\n",
        "\n",
        "    def _find_optimal_gamma(self, y: np.ndarray or list, old_predictions: np.ndarray,\n",
        "                            new_predictions: np.ndarray, boundaries: tuple or list=(0.01, 1)):\n",
        "        \"\"\"\n",
        "        Function determines the best  gamma (the coeffitient for the new model).\n",
        "        :param y: target\n",
        "        :param old_predictions: prediction from the sum of previous models\n",
        "        :param new_predictions: prediction of the new model\n",
        "        :param boudnaries: array-like object with left and right boundaries for gamma\n",
        "        \"\"\"\n",
        "        # Define initial loss and gamma\n",
        "        loss, optimal_gamma = self.loss_fn(y, old_predictions), 0\n",
        "        # Gridsearch for gamma\n",
        "        gammas = np.linspace(*boundaries, 100)\n",
        "        for gamma in gammas:\n",
        "            predictions = old_predictions + gamma * new_predictions\n",
        "            gamma_loss = self.loss_fn(y, predictions)\n",
        "            if gamma_loss < loss:\n",
        "                optimal_gamma = gamma\n",
        "                loss = gamma_loss\n",
        "\n",
        "        return optimal_gamma\n",
        "\n",
        "\n",
        "    def fit(self, X, y, eval_set=None):\n",
        "        \"\"\"\n",
        "        Function of the training the boosting model\n",
        "        :param X: features (n_elments, n_features)\n",
        "        :param y: target (n_elements, )\n",
        "        :eval_set: tuple (X_val, y_val) or None\n",
        "        \"\"\"\n",
        "\n",
        "        early_stop = np.zeros(self.n_iter_early_stopping)\n",
        "        self._fit_initial_model(X,y)\n",
        "        old_predictions = self.initial_model_pred*np.ones(len(y)) #.predict(X)\n",
        "        self.loss = []\n",
        "        self.loss_eval = []\n",
        "        if eval_set != None:\n",
        "            predictions_eval = self.initial_model_pred*np.ones(len(eval_set[1])) #.predict(eval_set[0])\n",
        "        for i in range(self.n_estimators):\n",
        "            # fit new model\n",
        "            self._fit_new_model(X,y,old_predictions,i)\n",
        "            # prediction of the i-th model\n",
        "            new_predictions = self.models[i].predict(X)\n",
        "            # calculate new gamma\n",
        "            opt_gamma = self._find_optimal_gamma(y,old_predictions,new_predictions)\n",
        "            self.gammas.append(opt_gamma)\n",
        "            # update a(x)\n",
        "            old_predictions = old_predictions + opt_gamma*new_predictions\n",
        "            # calculate loss\n",
        "            self.loss.append(self.loss_fn(y, old_predictions))\n",
        "            # in case of evaluation set\n",
        "            if eval_set != None:\n",
        "                predictions_eval = predictions_eval + self.gammas[i]*self.models[i].predict(eval_set[0])\n",
        "                self.loss_eval.append(self.loss_fn(eval_set[1], predictions_eval))\n",
        "                print('iteration #', i, 'test_loss:', self.loss_eval[i], '  train_loss:', self.loss[i])\n",
        "\n",
        "                # Your code here ╰( ͡° ͜ʖ ͡° )つ──☆*:\n",
        "\n",
        "                # Update array early_stop with new validation loss value from the right\n",
        "                # and check if all the values are close to the current self.loss_eval[i]\n",
        "                # e.g., if np.linalg.norm(early_stop - self.loss_eval[i]) < 0.001: break\n",
        "                early_stop[:-1] = early_stop[1:]  # Shift the array to the left\n",
        "                early_stop[-1] = self.loss_eval[i]  # Add the current validation loss to the end\n",
        "                if np.linalg.norm(early_stop - self.loss_eval[i]) < 0.001:  # Check if losses are close\n",
        "                    print(f\"Early stop at iteration {i}\")\n",
        "                    break\n",
        "            else:\n",
        "                print('train_loss:', self.loss[i])\n",
        "        if (eval_set != None) and self.use_best_model:\n",
        "             self.gammas = self.gammas[:np.argmin(self.loss_eval)+1]\n",
        "\n",
        "\n",
        "\n",
        "\n",
        "    def predict(self, X: np.ndarray):\n",
        "        \"\"\"\n",
        "        Function that predicts the classes\n",
        "        :param X: feature matrix\n",
        "        \"\"\"\n",
        "\n",
        "        pred = self.initial_model_pred*np.ones(len(X)) #.predict(X)\n",
        "        for i in range(len(self.gammas)):\n",
        "          pred = pred+self.gammas[i]*self.models[i].predict(X)\n",
        "        return np.sign(pred)\n",
        "\n",
        "    def predict_proba(self, X: np.ndarray):\n",
        "        \"\"\"\n",
        "        Function predicts probabilities of class +1\n",
        "        :param X: feature matrix\n",
        "        \"\"\"\n",
        "        # Your code here ╰( ͡° ͜ʖ ͡° )つ──☆*:\n",
        "\n",
        "        # Start with the initial model prediction\n",
        "        pred = self.initial_model_pred * np.ones(len(X))\n",
        "\n",
        "        # Add contributions from all base models\n",
        "        for i in range(len(self.gammas)):\n",
        "            pred += self.gammas[i] * self.models[i].predict(X)\n",
        "\n",
        "        # Apply the sigmoid function to convert predictions to probabilities\n",
        "        probabilities = self.sigmoid(pred)\n",
        "        return probabilities\n",
        "\n",
        "\n",
        "\n",
        "\n",
        "    @property\n",
        "    def feature_importances_(self):\n",
        "        \"\"\"\n",
        "        Extra credits (+3 pt)\n",
        "        Function calculates feature importance.\n",
        "        And it should be an attribute of the class\n",
        "        \"\"\"\n",
        "        # Your code here ╰( ͡° ͜ʖ ͡° )つ──☆*:\n",
        "        # Calculate feature importance\n",
        "        feature_importances = np.zeros(X_train_transformed.shape[1])\n",
        "        for i in range(len(self.gammas)):\n",
        "            feature_importances += self.gammas[i] * self.models[i].feature_importances_"
      ]
    },
    {
      "cell_type": "markdown",
      "metadata": {
        "id": "lSrWqtPHoGAx"
      },
      "source": [
        "The following cell will run your class. It should take about 10 seconds"
      ]
    },
    {
      "cell_type": "code",
      "execution_count": 26,
      "metadata": {
        "id": "083XGF8C_JMK",
        "colab": {
          "base_uri": "https://localhost:8080/"
        },
        "outputId": "0e1fb6f2-c145-4bf5-9bea-be61334a8b37"
      },
      "outputs": [
        {
          "output_type": "stream",
          "name": "stdout",
          "text": [
            "iteration # 0 test_loss: 0.44418299501836395   train_loss: 0.42983563451914925\n",
            "iteration # 1 test_loss: 0.42633860865032047   train_loss: 0.4073426691381572\n",
            "iteration # 2 test_loss: 0.41433942580873434   train_loss: 0.39110637933170533\n",
            "iteration # 3 test_loss: 0.40533740668791546   train_loss: 0.3794870760981688\n",
            "iteration # 4 test_loss: 0.4003148560792478   train_loss: 0.37111116829971547\n",
            "iteration # 5 test_loss: 0.39617669950081924   train_loss: 0.3642920191618915\n",
            "iteration # 6 test_loss: 0.39433013955912055   train_loss: 0.3595469789944071\n",
            "iteration # 7 test_loss: 0.392020806916663   train_loss: 0.35517730631862765\n",
            "iteration # 8 test_loss: 0.38976567201503093   train_loss: 0.35165682371837464\n",
            "iteration # 9 test_loss: 0.38845131183176707   train_loss: 0.34926895675484304\n",
            "iteration # 10 test_loss: 0.3870690836512343   train_loss: 0.34686833844543147\n",
            "iteration # 11 test_loss: 0.3865927737989869   train_loss: 0.34532003885152146\n",
            "iteration # 12 test_loss: 0.38586732762393045   train_loss: 0.3437017019261688\n",
            "iteration # 13 test_loss: 0.38660467256261116   train_loss: 0.3425533301341095\n",
            "iteration # 14 test_loss: 0.3868646390047895   train_loss: 0.34125881063543806\n",
            "iteration # 15 test_loss: 0.38612377466664993   train_loss: 0.3400033016149381\n",
            "iteration # 16 test_loss: 0.3861385948845437   train_loss: 0.3392920159726586\n",
            "iteration # 17 test_loss: 0.386131058526015   train_loss: 0.3383640167438182\n",
            "Early stop at iteration 17\n",
            "CPU times: user 2.99 s, sys: 846 µs, total: 2.99 s\n",
            "Wall time: 3.13 s\n"
          ]
        }
      ],
      "source": [
        "%%time\n",
        "\n",
        "boosting = Boosting(n_estimators = 1000, n_iter_early_stopping = 6, use_best_model=True)\n",
        "boosting.fit(X_train_transformed, y_train, [X_val_transformed, y_val])"
      ]
    },
    {
      "cell_type": "code",
      "execution_count": 27,
      "metadata": {
        "colab": {
          "base_uri": "https://localhost:8080/",
          "height": 447
        },
        "id": "1TeOTVvYr40O",
        "outputId": "f9ff605e-35c0-45d8-f101-077b84840ca0"
      },
      "outputs": [
        {
          "output_type": "execute_result",
          "data": {
            "text/plain": [
              "[<matplotlib.lines.Line2D at 0x7af234023510>]"
            ]
          },
          "metadata": {},
          "execution_count": 27
        },
        {
          "output_type": "display_data",
          "data": {
            "text/plain": [
              "<Figure size 640x480 with 1 Axes>"
            ],
            "image/png": "[encoded data removed]"
          },
          "metadata": {}
        }
      ],
      "source": [
        "plt.plot(boosting.loss)\n",
        "plt.plot(boosting.loss_eval)"
      ]
    },
    {
      "cell_type": "code",
      "execution_count": null,
      "metadata": {
        "id": "7LfaWiibGO_w"
      },
      "outputs": [],
      "source": []
    },
    {
      "cell_type": "markdown",
      "metadata": {
        "id": "vm6y2wOEGPYq"
      },
      "source": [
        "## Q2 (4 pt). Use your trained Boosting classifier.\n",
        "(a) Choose the threshold form (0, 1) to get recall $\\approx 0.5$ on the validation set.\n",
        "\n",
        "`recall_score((y_val+1)//2, boosting.predict_proba(X_val_transformed)>threshhold)`\n",
        "\n",
        "(b) Plot Confusion Matrix for the Test based on this threshhold and calculate recall on Test.\n",
        "\n",
        "(c) Plot ROC curve"
      ]
    },
    {
      "cell_type": "code",
      "execution_count": 28,
      "metadata": {
        "id": "2BVl892Q_brN"
      },
      "outputs": [],
      "source": [
        "from sklearn.metrics import ConfusionMatrixDisplay, recall_score, RocCurveDisplay"
      ]
    },
    {
      "cell_type": "code",
      "execution_count": 29,
      "metadata": {
        "id": "Bqovpzi0eFlJ",
        "colab": {
          "base_uri": "https://localhost:8080/"
        },
        "outputId": "9dd0bbb5-8d30-4a1b-eda2-ce56fa07d615"
      },
      "outputs": [
        {
          "output_type": "execute_result",
          "data": {
            "text/plain": [
              "(np.float64(0.26262626262626265), 0.5055487053020962)"
            ]
          },
          "metadata": {},
          "execution_count": 29
        }
      ],
      "source": [
        "# (a) Choose the threshold form (0, 1) to get recall  ≈0.5  on the validation set.\n",
        "probs = boosting.predict_proba(X_val_transformed)\n",
        "\n",
        "thresholds = np.linspace(0, 1, 100)\n",
        "best_threshold = 0.5\n",
        "best_recall = 0\n",
        "\n",
        "for t in thresholds:\n",
        "    recall = recall_score((y_val + 1) // 2, probs > t)\n",
        "    if abs(recall - 0.5) < abs(best_recall - 0.5):\n",
        "        best_threshold = t\n",
        "        best_recall = recall\n",
        "\n",
        "best_threshold, best_recall"
      ]
    },
    {
      "cell_type": "code",
      "execution_count": 31,
      "metadata": {
        "id": "Y52DpSgpArOd",
        "colab": {
          "base_uri": "https://localhost:8080/",
          "height": 449
        },
        "outputId": "4346078f-63c3-4b0f-ab61-9bb8b5459ba8"
      },
      "outputs": [
        {
          "output_type": "display_data",
          "data": {
            "text/plain": [
              "<Figure size 640x480 with 2 Axes>"
            ],
            "image/png": "[encoded data removed]"
          },
          "metadata": {}
        }
      ],
      "source": [
        "# (b) Plot Confusion Matrix for the Test based on this threshhold and calculate recall on Test.\n",
        "probs_test = boosting.predict_proba(X_test_transformed)\n",
        "y_pred_test = probs_test > best_threshold\n",
        "ConfusionMatrixDisplay.from_predictions((y_test + 1) // 2, y_pred_test)\n",
        "plt.show()"
      ]
    },
    {
      "cell_type": "code",
      "execution_count": 32,
      "metadata": {
        "id": "XZ4lZgNdABCf",
        "colab": {
          "base_uri": "https://localhost:8080/"
        },
        "outputId": "90c8201a-9705-4f78-85a9-ed51f76438fe"
      },
      "outputs": [
        {
          "output_type": "execute_result",
          "data": {
            "text/plain": [
              "0.515728476821192"
            ]
          },
          "metadata": {},
          "execution_count": 32
        }
      ],
      "source": [
        "recall_test = recall_score((y_test + 1) // 2, y_pred_test)\n",
        "recall_test"
      ]
    },
    {
      "cell_type": "code",
      "execution_count": 33,
      "metadata": {
        "colab": {
          "base_uri": "https://localhost:8080/",
          "height": 451
        },
        "id": "54B23FD6_1Gu",
        "outputId": "3ae20390-b33d-43fc-d4c6-14e73b16a13d"
      },
      "outputs": [
        {
          "output_type": "display_data",
          "data": {
            "text/plain": [
              "<Figure size 640x480 with 1 Axes>"
            ],
            "image/png": "[encoded data removed]"
          },
          "metadata": {}
        }
      ],
      "source": [
        "RocCurveDisplay.from_predictions((y_test + 1) // 2, probs_test)\n",
        "plt.show()"
      ]
    },
    {
      "cell_type": "markdown",
      "metadata": {
        "id": "d1q9Ds-_BzQl"
      },
      "source": [
        "## Q3 (4 pt). Train LightGBM Classifier on your data.\n",
        "(a) Choose the threshold form (0, 1) to get recall $\\approx 0.5$ on the validation set.\n",
        "\n",
        "`recall_score((y_val+1)//2, gb.predict_proba(X_val_transformed)[:,1]>threshhold)`\n",
        "\n",
        "(b) Plot Confusion Matrix for the Test based on this threshhold and calculate recall on Test.\n",
        "\n",
        "(c) Plot ROC curve\n",
        "\n",
        "`RocCurveDisplay.from_predictions(y_test, gb.predict_proba(X_test_transformed)[:,1])`\n",
        "\n",
        "(d) Compare with the result of your model from Q2."
      ]
    },
    {
      "cell_type": "code",
      "execution_count": null,
      "metadata": {
        "id": "al4SWHVVA0o2"
      },
      "outputs": [],
      "source": [
        "import lightgbm as lgb"
      ]
    },
    {
      "cell_type": "code",
      "execution_count": null,
      "metadata": {
        "id": "y6ap7-0JXoiD"
      },
      "outputs": [],
      "source": [
        "gb = lgb.LGBMClassifier()"
      ]
    },
    {
      "cell_type": "code",
      "execution_count": null,
      "metadata": {
        "id": "EXvoTwQ9Xwk3"
      },
      "outputs": [],
      "source": []
    },
    {
      "cell_type": "code",
      "execution_count": null,
      "metadata": {
        "id": "zshgsEDBYXPW"
      },
      "outputs": [],
      "source": []
    },
    {
      "cell_type": "code",
      "execution_count": null,
      "metadata": {
        "colab": {
          "base_uri": "https://localhost:8080/",
          "height": 466
        },
        "id": "wY0nBhnqX3eW",
        "outputId": "2caa8c31-5bf6-4071-d5aa-52235862798b"
      },
      "outputs": [
        {
          "data": {
            "text/plain": [
              "<sklearn.metrics._plot.confusion_matrix.ConfusionMatrixDisplay at 0x7b6ae71339d0>"
            ]
          },
          "execution_count": 121,
          "metadata": {},
          "output_type": "execute_result"
        },
        {
          "data": {
            "image/png": "[encoded data removed]",
            "text/plain": [
              "<Figure size 640x480 with 2 Axes>"
            ]
          },
          "metadata": {},
          "output_type": "display_data"
        }
      ],
      "source": []
    },
    {
      "cell_type": "code",
      "execution_count": null,
      "metadata": {
        "id": "nUtFi3T2YDuy"
      },
      "outputs": [],
      "source": []
    },
    {
      "cell_type": "code",
      "execution_count": null,
      "metadata": {
        "colab": {
          "base_uri": "https://localhost:8080/",
          "height": 466
        },
        "id": "_BJVLCjdE4Qa",
        "outputId": "1eb23bf9-6f0a-47c1-b341-626709ecd711"
      },
      "outputs": [
        {
          "data": {
            "text/plain": [
              "<sklearn.metrics._plot.roc_curve.RocCurveDisplay at 0x7b6ae8d264a0>"
            ]
          },
          "execution_count": 124,
          "metadata": {},
          "output_type": "execute_result"
        },
        {
          "data": {
            "image/png": "[encoded data removed]",
            "text/plain": [
              "<Figure size 640x480 with 1 Axes>"
            ]
          },
          "metadata": {},
          "output_type": "display_data"
        }
      ],
      "source": []
    },
    {
      "cell_type": "markdown",
      "metadata": {
        "id": "kA3XN_oQir3M"
      },
      "source": [
        "Are you satisfied with the result?"
      ]
    },
    {
      "cell_type": "code",
      "execution_count": null,
      "metadata": {
        "id": "2xs9mFhJGgf7"
      },
      "outputs": [],
      "source": []
    }
  ],
  "metadata": {
    "colab": {
      "machine_shape": "hm",
      "provenance": [],
      "include_colab_link": true
    },
    "kernelspec": {
      "display_name": "Python 3",
      "name": "python3"
    },
    "language_info": {
      "codemirror_mode": {
        "name": "ipython",
        "version": 3
      },
      "file_extension": ".py",
      "mimetype": "text/x-python",
      "name": "python",
      "nbconvert_exporter": "python",
      "pygments_lexer": "ipython3",
      "version": "3.11.5"
    }
  },
  "nbformat": 4,
  "nbformat_minor": 0
}