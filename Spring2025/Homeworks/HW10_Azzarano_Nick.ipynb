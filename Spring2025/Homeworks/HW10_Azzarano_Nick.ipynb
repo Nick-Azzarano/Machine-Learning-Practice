{
  "cells": [
    {
      "cell_type": "markdown",
      "metadata": {
        "id": "view-in-github",
        "colab_type": "text"
      },
      "source": [
        "<a href=\"https://colab.research.google.com/github/Nick-Azzarano/Machine-Learning-Practice/blob/main/Spring2025/Homeworks/HW10_Azzarano_Nick.ipynb\" target=\"_parent\"><img src=\"https://colab.research.google.com/assets/colab-badge.svg\" alt=\"Open In Colab\"/></a>"
      ]
    },
    {
      "cell_type": "markdown",
      "source": [
        "Nick Azzarano\n",
        "<br/>\n",
        "CSCI 335\n",
        "<br/>\n",
        "Anton Selitskiy\n",
        "<br/>\n",
        "April 14, 2025"
      ],
      "metadata": {
        "id": "RdRHgFD2cPBy"
      }
    },
    {
      "cell_type": "markdown",
      "metadata": {
        "id": "z_CRSmB1hc7b"
      },
      "source": [
        "# Homework 10\n",
        "\n",
        "In this homework, you will implement NN using PyTorch and investigate different activation functions, batch sizes, and learning rates. Use [Lecture code](https://github.com/anton-selitskiy/RIT_ML/blob/main/2025_spring/Week11_MLP/ML21.ipynb) as refference."
      ]
    },
    {
      "cell_type": "markdown",
      "metadata": {
        "id": "QqhFYpQGhmRn"
      },
      "source": [
        "Use load_planar_dataset function from the previous homework to create the data."
      ]
    },
    {
      "cell_type": "code",
      "execution_count": 3,
      "metadata": {
        "id": "_1xKtWGNhTbX"
      },
      "outputs": [],
      "source": [
        "import numpy as np\n",
        "import torch\n",
        "from torch.utils.data import Dataset, DataLoader\n",
        "import matplotlib.pyplot as plt"
      ]
    },
    {
      "cell_type": "code",
      "execution_count": 10,
      "metadata": {
        "id": "yGL2JrZtiHQH"
      },
      "outputs": [],
      "source": [
        "def load_planar_dataset():\n",
        "    np.random.seed(1)\n",
        "    m = 400 # number of examples\n",
        "    N = int(m/2) # number of points per class\n",
        "    D = 2 # dimensionality\n",
        "    X = np.zeros((m,D)) # data matrix where each row is a single example\n",
        "    Y = np.zeros(m, dtype='uint8') # labels vector (0 for red, 1 for blue)\n",
        "    a = 4 # maximum ray of the flower\n",
        "\n",
        "    for j in range(2):\n",
        "        ix = range(N*j,N*(j+1))\n",
        "        t = np.linspace(j*3.12,(j+1)*3.12,N) + np.random.randn(N)*0.2 # theta\n",
        "        r = a*np.sin(4*t) + np.random.randn(N)*0.2 # radius. 4 corresponds to the number of petals\n",
        "        X[ix] = np.c_[r*np.sin(t), r*np.cos(t)]\n",
        "        Y[ix] = j\n",
        "\n",
        "    return X, Y"
      ]
    },
    {
      "cell_type": "code",
      "source": [
        "x, y = load_planar_dataset()  #make_moons(n_samples=200, noise=0.1)  make_circles(n_samples=200, noise=0.1)\n",
        "y = y.reshape(-1,1)\n",
        "x.shape, y.shape"
      ],
      "metadata": {
        "colab": {
          "base_uri": "https://localhost:8080/"
        },
        "id": "6ZqfHUP6eBOD",
        "outputId": "92a78c75-7a5e-41bc-c9ca-35b20c483f36"
      },
      "execution_count": 11,
      "outputs": [
        {
          "output_type": "execute_result",
          "data": {
            "text/plain": [
              "((400, 2), (400, 1))"
            ]
          },
          "metadata": {},
          "execution_count": 11
        }
      ]
    },
    {
      "cell_type": "code",
      "source": [
        "x[:,0]"
      ],
      "metadata": {
        "colab": {
          "base_uri": "https://localhost:8080/"
        },
        "collapsed": true,
        "id": "g-ARfUyLiRQV",
        "outputId": "46217753-7bb6-4058-ff25-0f876950fa04"
      },
      "execution_count": 40,
      "outputs": [
        {
          "output_type": "execute_result",
          "data": {
            "text/plain": [
              "array([ 1.20444229e+00,  1.58709904e-01,  9.52471960e-02,  3.49178475e-01,\n",
              "        6.94150378e-01,  1.62065038e+00,  1.53856225e+00,  3.63085641e-02,\n",
              "        4.74591109e-01,  1.65695828e-01,  1.66446249e+00,  8.40285720e-01,\n",
              "        2.61695163e-01,  2.31614896e-01,  1.58013020e+00,  6.35509950e-03,\n",
              "        6.80610419e-01,  1.21400432e-01,  1.13281261e+00,  1.61505892e+00,\n",
              "        1.66454441e-01,  1.72438241e+00,  1.88667246e+00,  1.72327227e+00,\n",
              "        1.54661332e+00,  9.84590400e-01,  1.45313345e+00,  7.49043388e-01,\n",
              "        1.45048341e+00,  1.64287865e+00,  1.28141487e+00,  1.59574104e+00,\n",
              "        1.46298294e+00,  1.46629048e+00,  1.54348961e+00,  1.57013416e+00,\n",
              "        1.22995404e+00,  1.31142345e+00, -1.99364553e+00,  3.94564752e-01,\n",
              "        1.51715449e+00,  1.69169139e+00,  1.74186686e+00, -2.91373382e+00,\n",
              "        7.52150898e-01,  1.68537303e+00,  3.71160238e-01, -3.73033884e+00,\n",
              "        3.52484080e-01, -1.48694206e+00, -7.45290416e-01,  5.63807442e-01,\n",
              "        1.27093179e+00,  5.35133607e-01, -1.71330375e-01, -2.50197293e+00,\n",
              "       -2.63275448e+00, -3.15561550e+00, -2.11022490e+00, -3.51303563e+00,\n",
              "       -3.52018155e-02, -3.99843114e+00, -3.08095445e+00, -1.79023024e+00,\n",
              "       -3.37520544e+00, -2.38578575e+00, -3.54741267e+00, -2.92344384e+00,\n",
              "       -1.01009705e+00, -3.02185838e-01, -1.47947199e-01, -2.41113498e+00,\n",
              "       -3.52065970e+00, -3.09762480e+00, -3.86453574e+00,  3.46287902e-02,\n",
              "       -3.81297733e+00, -2.54941164e+00, -3.61833546e+00, -2.31720968e+00,\n",
              "       -3.85843301e+00, -3.77182528e+00, -3.22643424e+00, -2.49748107e+00,\n",
              "       -2.94157976e+00, -2.91391859e+00, -3.70623964e+00, -1.95265709e+00,\n",
              "       -2.66020434e+00,  8.17304141e-01,  1.21768512e+00, -1.66246175e+00,\n",
              "       -2.75111411e+00, -3.31873701e+00, -2.14063182e-01, -1.09902222e+00,\n",
              "       -1.94767785e+00, -4.99991014e-01, -2.52618507e+00,  1.96360773e+00,\n",
              "       -1.02715843e+00,  3.03248341e+00,  1.51559027e+00,  2.21864283e+00,\n",
              "       -2.40385821e+00,  2.00630521e+00,  3.17911628e+00, -1.45188351e+00,\n",
              "        1.21496393e+00,  2.04613301e+00, -1.62182614e+00,  3.17993200e+00,\n",
              "        3.96799188e+00,  3.29897728e-01,  4.07816588e+00, -3.17566012e-01,\n",
              "        3.31129113e+00, -9.52809386e-01,  3.03768998e+00,  3.55052992e+00,\n",
              "        3.55990775e+00,  2.33663285e+00,  2.31352433e+00,  2.79495212e-01,\n",
              "        1.51862547e-01,  1.96155941e+00,  5.47353260e-01,  3.49044034e+00,\n",
              "        2.72566042e+00,  2.13606508e+00,  3.67042248e+00,  3.92260947e+00,\n",
              "        3.08862031e+00,  1.92948433e+00,  1.38946995e+00,  3.51428218e+00,\n",
              "        1.13035696e+00,  3.33545460e+00,  9.15905230e-03,  1.68097254e+00,\n",
              "        2.30710971e+00,  2.21404832e+00, -5.31842726e-01, -3.45874829e-01,\n",
              "       -9.83826601e-02,  6.55029428e-01,  5.83612433e-01, -7.68172854e-01,\n",
              "       -5.52725703e-02, -1.25961956e+00,  9.42805936e-01,  3.77681531e+00,\n",
              "       -1.70922458e+00, -1.08169517e+00, -1.40307039e+00, -6.43634519e-01,\n",
              "       -6.32543454e-01, -8.53713550e-01, -1.22772526e+00,  9.50740231e-01,\n",
              "       -5.97375125e-01,  5.01933176e-01, -1.88988467e+00, -1.23602220e+00,\n",
              "       -1.74861600e+00, -1.48828262e+00, -1.27810421e+00, -1.99338361e+00,\n",
              "       -6.80758371e-02,  1.07968241e+00, -1.49733014e+00, -1.02248497e+00,\n",
              "       -6.88068627e-02, -1.77284297e+00, -1.42903599e+00, -1.63191608e+00,\n",
              "       -1.57413453e-01, -1.69732959e+00, -7.20691107e-01, -1.49836618e+00,\n",
              "       -1.53285135e+00, -7.83079289e-01, -5.65545945e-01, -4.28247557e-03,\n",
              "       -9.54816172e-01, -1.43027299e+00, -1.99139039e-01, -3.93228458e-01,\n",
              "       -3.13917579e-01, -5.55629383e-01, -5.61729204e-02, -5.84257606e-02,\n",
              "       -8.07037000e-01, -1.86016879e-01, -9.65590226e-03, -1.52664558e+00,\n",
              "       -2.32543323e-02, -2.11665124e-02, -2.37912887e-01, -5.85846410e-01,\n",
              "       -1.07049581e+00, -2.32905994e-03, -9.27980849e-02, -9.24081181e-01,\n",
              "       -4.27415411e-02, -7.88306156e-02, -1.35471230e+00, -9.64506801e-02,\n",
              "       -4.88903965e-01, -1.40428145e+00, -1.03032194e-01, -1.76823043e+00,\n",
              "       -1.81435331e+00, -4.03453231e-01, -1.13007684e+00, -3.30143778e-01,\n",
              "       -1.03592948e-01, -1.62823990e+00, -1.27072988e+00, -3.24165041e-01,\n",
              "       -8.31515613e-01, -1.15541550e+00, -8.81319474e-01, -5.14135967e-01,\n",
              "       -3.41907953e-01, -1.50008474e+00, -1.09546543e+00, -1.71840632e+00,\n",
              "       -1.68448953e+00, -1.23608462e+00, -8.06782295e-01, -1.06026703e+00,\n",
              "       -1.25449646e+00, -1.71040125e+00, -4.54245598e-01, -1.78717499e+00,\n",
              "       -1.26536725e+00, -2.93821146e-01, -4.04645730e-01,  2.03128629e+00,\n",
              "       -1.02564465e+00, -1.07882287e+00, -1.48728331e+00,  1.52973464e+00,\n",
              "       -1.39893030e+00, -3.67322611e-01, -1.53385549e+00,  1.75371064e+00,\n",
              "       -1.15897743e+00,  2.94968569e+00, -1.38165997e+00,  2.41200118e+00,\n",
              "        1.48331333e+00, -1.29300070e+00,  3.02838862e+00, -1.14374794e+00,\n",
              "       -1.06870636e+00,  2.70728746e+00, -2.29022863e-01,  1.80385877e-01,\n",
              "        7.87999977e-01, -1.65291432e-01,  3.73979818e+00,  3.48775653e+00,\n",
              "        2.08377776e+00,  2.36553487e+00,  3.47039369e+00,  2.42914859e+00,\n",
              "        3.90210781e+00,  2.03812322e+00,  4.04388429e+00,  3.15341019e+00,\n",
              "        3.09441731e+00,  1.00077505e+00,  3.22109077e+00,  3.03895157e+00,\n",
              "       -1.10566174e-01,  1.45338553e+00,  3.42704770e+00,  3.16377425e+00,\n",
              "        3.06435279e+00,  2.97153034e+00,  3.66817242e+00,  1.81576373e+00,\n",
              "       -6.52056092e-01,  2.39565436e+00, -1.83495474e-02, -1.85426248e+00,\n",
              "       -7.55084589e-02,  3.68327360e+00,  3.01854545e+00,  6.67169560e-01,\n",
              "        3.21959504e+00,  6.71420203e-01,  3.62660798e+00,  3.41692475e+00,\n",
              "       -4.99555802e-01,  2.82564692e+00,  3.67261725e+00,  7.88007167e-01,\n",
              "        3.86155325e+00, -2.85587710e-01,  2.28420287e+00,  2.81396650e-01,\n",
              "        3.13503544e-01, -1.43368358e+00,  9.57195160e-01, -1.85436896e+00,\n",
              "        3.81805817e-01, -2.78967630e+00, -3.28548806e+00, -2.22349866e+00,\n",
              "       -2.78061591e+00,  8.26303188e-01, -3.72885115e+00, -1.23292968e+00,\n",
              "       -9.58935652e-01, -3.85811062e+00, -3.59301074e+00, -3.19689248e+00,\n",
              "       -2.12766839e+00, -2.96424870e+00, -3.60274154e+00, -1.17472896e+00,\n",
              "       -2.58752094e+00, -3.16293962e+00, -1.72757867e+00, -3.45341213e+00,\n",
              "       -2.81273166e+00, -1.03553265e+00, -3.15675590e-01, -3.70141041e+00,\n",
              "       -4.21189811e+00, -2.46094977e+00, -3.43569797e+00, -3.34469058e+00,\n",
              "       -1.38193635e+00, -3.17949403e+00, -2.42119633e+00, -1.33643509e+00,\n",
              "       -3.06299272e+00, -3.56504553e+00, -3.34451075e+00,  7.77655270e-01,\n",
              "       -2.98030710e+00, -3.55225078e+00, -1.82974404e+00,  1.46532816e+00,\n",
              "        1.56688198e+00, -2.96543364e+00, -9.60755845e-01, -3.37890943e+00,\n",
              "        1.47135345e+00, -3.02829566e+00,  7.50982262e-03,  1.79730919e+00,\n",
              "        3.91077683e-01,  1.63881069e+00, -8.84278418e-01,  1.56546135e+00,\n",
              "        1.59529239e+00,  1.27139537e+00,  1.40701977e+00,  1.58125802e+00,\n",
              "       -1.72159327e+00,  5.68722722e-01,  1.60960641e+00,  1.70849761e+00,\n",
              "        3.77494361e-02,  1.77885147e+00,  1.57017560e+00,  1.31626221e+00,\n",
              "        1.45580659e+00,  9.95670227e-02,  1.49806312e+00,  1.19805866e+00,\n",
              "        1.30759534e+00,  1.69066279e+00,  1.54457758e+00,  3.36164302e-01,\n",
              "        4.71520896e-01,  1.79332637e+00,  1.75802645e+00,  1.11059510e+00,\n",
              "        2.25410298e-02,  1.03402966e+00,  1.46010385e-01,  1.50301824e+00,\n",
              "        5.29563078e-01,  7.23526086e-01,  1.24444151e+00,  7.11308695e-01,\n",
              "        3.65824427e-02,  5.96719268e-01,  1.77160218e-01,  4.50367941e-01,\n",
              "        3.75726453e-02,  2.13641164e-01,  3.24386893e-01,  7.30780825e-01])"
            ]
          },
          "metadata": {},
          "execution_count": 40
        }
      ]
    },
    {
      "cell_type": "code",
      "source": [
        "plt.scatter(x[:,0], x[:,1], c=y)"
      ],
      "metadata": {
        "colab": {
          "base_uri": "https://localhost:8080/",
          "height": 447
        },
        "id": "ZB_ZiOrKeEvY",
        "outputId": "4470f516-1ccb-41f5-9eeb-b2dffb2c8e8b"
      },
      "execution_count": 12,
      "outputs": [
        {
          "output_type": "execute_result",
          "data": {
            "text/plain": [
              "<matplotlib.collections.PathCollection at 0x7ebe757fae10>"
            ]
          },
          "metadata": {},
          "execution_count": 12
        },
        {
          "output_type": "display_data",
          "data": {
            "text/plain": [
              "<Figure size 640x480 with 1 Axes>"
            ],
            "image/png": "[encoded data removed]"
          },
          "metadata": {}
        }
      ]
    },
    {
      "cell_type": "markdown",
      "metadata": {
        "id": "lT4dPA8siHi_"
      },
      "source": [
        "##1. (2 pt) Create Dataset object."
      ]
    },
    {
      "cell_type": "code",
      "execution_count": 42,
      "metadata": {
        "id": "_oFulJvwiJA_"
      },
      "outputs": [],
      "source": [
        "class MyData(Dataset):\n",
        "  def __init__(self, x, y):\n",
        "    super().__init__()\n",
        "    self.x = x[:,0]\n",
        "    self.y = x[:,1]\n",
        "    self.classifier = y\n",
        "\n",
        "  def __len__(self):\n",
        "    return len(self.y)\n",
        "\n",
        "  def __getitem__(self, index):\n",
        "    return torch.tensor(self.x[index], dtype = torch.float), torch.tensor(self.y[index], dtype = torch.float)"
      ]
    },
    {
      "cell_type": "code",
      "source": [
        "data = MyData(x,y)"
      ],
      "metadata": {
        "id": "USrdKxDaeik0"
      },
      "execution_count": 43,
      "outputs": []
    },
    {
      "cell_type": "code",
      "source": [
        "len(data.x)"
      ],
      "metadata": {
        "colab": {
          "base_uri": "https://localhost:8080/"
        },
        "id": "yzZIRbp2ekpn",
        "outputId": "b031c16e-88a5-4ad9-bcde-81eb62d9db88"
      },
      "execution_count": 44,
      "outputs": [
        {
          "output_type": "execute_result",
          "data": {
            "text/plain": [
              "400"
            ]
          },
          "metadata": {},
          "execution_count": 44
        }
      ]
    },
    {
      "cell_type": "code",
      "source": [
        "data.x"
      ],
      "metadata": {
        "colab": {
          "base_uri": "https://localhost:8080/"
        },
        "id": "xvm8bo3tfmm6",
        "outputId": "dc603bfa-80ca-4921-9868-cdb25ee34f67"
      },
      "execution_count": 45,
      "outputs": [
        {
          "output_type": "execute_result",
          "data": {
            "text/plain": [
              "array([ 1.20444229e+00,  1.58709904e-01,  9.52471960e-02,  3.49178475e-01,\n",
              "        6.94150378e-01,  1.62065038e+00,  1.53856225e+00,  3.63085641e-02,\n",
              "        4.74591109e-01,  1.65695828e-01,  1.66446249e+00,  8.40285720e-01,\n",
              "        2.61695163e-01,  2.31614896e-01,  1.58013020e+00,  6.35509950e-03,\n",
              "        6.80610419e-01,  1.21400432e-01,  1.13281261e+00,  1.61505892e+00,\n",
              "        1.66454441e-01,  1.72438241e+00,  1.88667246e+00,  1.72327227e+00,\n",
              "        1.54661332e+00,  9.84590400e-01,  1.45313345e+00,  7.49043388e-01,\n",
              "        1.45048341e+00,  1.64287865e+00,  1.28141487e+00,  1.59574104e+00,\n",
              "        1.46298294e+00,  1.46629048e+00,  1.54348961e+00,  1.57013416e+00,\n",
              "        1.22995404e+00,  1.31142345e+00, -1.99364553e+00,  3.94564752e-01,\n",
              "        1.51715449e+00,  1.69169139e+00,  1.74186686e+00, -2.91373382e+00,\n",
              "        7.52150898e-01,  1.68537303e+00,  3.71160238e-01, -3.73033884e+00,\n",
              "        3.52484080e-01, -1.48694206e+00, -7.45290416e-01,  5.63807442e-01,\n",
              "        1.27093179e+00,  5.35133607e-01, -1.71330375e-01, -2.50197293e+00,\n",
              "       -2.63275448e+00, -3.15561550e+00, -2.11022490e+00, -3.51303563e+00,\n",
              "       -3.52018155e-02, -3.99843114e+00, -3.08095445e+00, -1.79023024e+00,\n",
              "       -3.37520544e+00, -2.38578575e+00, -3.54741267e+00, -2.92344384e+00,\n",
              "       -1.01009705e+00, -3.02185838e-01, -1.47947199e-01, -2.41113498e+00,\n",
              "       -3.52065970e+00, -3.09762480e+00, -3.86453574e+00,  3.46287902e-02,\n",
              "       -3.81297733e+00, -2.54941164e+00, -3.61833546e+00, -2.31720968e+00,\n",
              "       -3.85843301e+00, -3.77182528e+00, -3.22643424e+00, -2.49748107e+00,\n",
              "       -2.94157976e+00, -2.91391859e+00, -3.70623964e+00, -1.95265709e+00,\n",
              "       -2.66020434e+00,  8.17304141e-01,  1.21768512e+00, -1.66246175e+00,\n",
              "       -2.75111411e+00, -3.31873701e+00, -2.14063182e-01, -1.09902222e+00,\n",
              "       -1.94767785e+00, -4.99991014e-01, -2.52618507e+00,  1.96360773e+00,\n",
              "       -1.02715843e+00,  3.03248341e+00,  1.51559027e+00,  2.21864283e+00,\n",
              "       -2.40385821e+00,  2.00630521e+00,  3.17911628e+00, -1.45188351e+00,\n",
              "        1.21496393e+00,  2.04613301e+00, -1.62182614e+00,  3.17993200e+00,\n",
              "        3.96799188e+00,  3.29897728e-01,  4.07816588e+00, -3.17566012e-01,\n",
              "        3.31129113e+00, -9.52809386e-01,  3.03768998e+00,  3.55052992e+00,\n",
              "        3.55990775e+00,  2.33663285e+00,  2.31352433e+00,  2.79495212e-01,\n",
              "        1.51862547e-01,  1.96155941e+00,  5.47353260e-01,  3.49044034e+00,\n",
              "        2.72566042e+00,  2.13606508e+00,  3.67042248e+00,  3.92260947e+00,\n",
              "        3.08862031e+00,  1.92948433e+00,  1.38946995e+00,  3.51428218e+00,\n",
              "        1.13035696e+00,  3.33545460e+00,  9.15905230e-03,  1.68097254e+00,\n",
              "        2.30710971e+00,  2.21404832e+00, -5.31842726e-01, -3.45874829e-01,\n",
              "       -9.83826601e-02,  6.55029428e-01,  5.83612433e-01, -7.68172854e-01,\n",
              "       -5.52725703e-02, -1.25961956e+00,  9.42805936e-01,  3.77681531e+00,\n",
              "       -1.70922458e+00, -1.08169517e+00, -1.40307039e+00, -6.43634519e-01,\n",
              "       -6.32543454e-01, -8.53713550e-01, -1.22772526e+00,  9.50740231e-01,\n",
              "       -5.97375125e-01,  5.01933176e-01, -1.88988467e+00, -1.23602220e+00,\n",
              "       -1.74861600e+00, -1.48828262e+00, -1.27810421e+00, -1.99338361e+00,\n",
              "       -6.80758371e-02,  1.07968241e+00, -1.49733014e+00, -1.02248497e+00,\n",
              "       -6.88068627e-02, -1.77284297e+00, -1.42903599e+00, -1.63191608e+00,\n",
              "       -1.57413453e-01, -1.69732959e+00, -7.20691107e-01, -1.49836618e+00,\n",
              "       -1.53285135e+00, -7.83079289e-01, -5.65545945e-01, -4.28247557e-03,\n",
              "       -9.54816172e-01, -1.43027299e+00, -1.99139039e-01, -3.93228458e-01,\n",
              "       -3.13917579e-01, -5.55629383e-01, -5.61729204e-02, -5.84257606e-02,\n",
              "       -8.07037000e-01, -1.86016879e-01, -9.65590226e-03, -1.52664558e+00,\n",
              "       -2.32543323e-02, -2.11665124e-02, -2.37912887e-01, -5.85846410e-01,\n",
              "       -1.07049581e+00, -2.32905994e-03, -9.27980849e-02, -9.24081181e-01,\n",
              "       -4.27415411e-02, -7.88306156e-02, -1.35471230e+00, -9.64506801e-02,\n",
              "       -4.88903965e-01, -1.40428145e+00, -1.03032194e-01, -1.76823043e+00,\n",
              "       -1.81435331e+00, -4.03453231e-01, -1.13007684e+00, -3.30143778e-01,\n",
              "       -1.03592948e-01, -1.62823990e+00, -1.27072988e+00, -3.24165041e-01,\n",
              "       -8.31515613e-01, -1.15541550e+00, -8.81319474e-01, -5.14135967e-01,\n",
              "       -3.41907953e-01, -1.50008474e+00, -1.09546543e+00, -1.71840632e+00,\n",
              "       -1.68448953e+00, -1.23608462e+00, -8.06782295e-01, -1.06026703e+00,\n",
              "       -1.25449646e+00, -1.71040125e+00, -4.54245598e-01, -1.78717499e+00,\n",
              "       -1.26536725e+00, -2.93821146e-01, -4.04645730e-01,  2.03128629e+00,\n",
              "       -1.02564465e+00, -1.07882287e+00, -1.48728331e+00,  1.52973464e+00,\n",
              "       -1.39893030e+00, -3.67322611e-01, -1.53385549e+00,  1.75371064e+00,\n",
              "       -1.15897743e+00,  2.94968569e+00, -1.38165997e+00,  2.41200118e+00,\n",
              "        1.48331333e+00, -1.29300070e+00,  3.02838862e+00, -1.14374794e+00,\n",
              "       -1.06870636e+00,  2.70728746e+00, -2.29022863e-01,  1.80385877e-01,\n",
              "        7.87999977e-01, -1.65291432e-01,  3.73979818e+00,  3.48775653e+00,\n",
              "        2.08377776e+00,  2.36553487e+00,  3.47039369e+00,  2.42914859e+00,\n",
              "        3.90210781e+00,  2.03812322e+00,  4.04388429e+00,  3.15341019e+00,\n",
              "        3.09441731e+00,  1.00077505e+00,  3.22109077e+00,  3.03895157e+00,\n",
              "       -1.10566174e-01,  1.45338553e+00,  3.42704770e+00,  3.16377425e+00,\n",
              "        3.06435279e+00,  2.97153034e+00,  3.66817242e+00,  1.81576373e+00,\n",
              "       -6.52056092e-01,  2.39565436e+00, -1.83495474e-02, -1.85426248e+00,\n",
              "       -7.55084589e-02,  3.68327360e+00,  3.01854545e+00,  6.67169560e-01,\n",
              "        3.21959504e+00,  6.71420203e-01,  3.62660798e+00,  3.41692475e+00,\n",
              "       -4.99555802e-01,  2.82564692e+00,  3.67261725e+00,  7.88007167e-01,\n",
              "        3.86155325e+00, -2.85587710e-01,  2.28420287e+00,  2.81396650e-01,\n",
              "        3.13503544e-01, -1.43368358e+00,  9.57195160e-01, -1.85436896e+00,\n",
              "        3.81805817e-01, -2.78967630e+00, -3.28548806e+00, -2.22349866e+00,\n",
              "       -2.78061591e+00,  8.26303188e-01, -3.72885115e+00, -1.23292968e+00,\n",
              "       -9.58935652e-01, -3.85811062e+00, -3.59301074e+00, -3.19689248e+00,\n",
              "       -2.12766839e+00, -2.96424870e+00, -3.60274154e+00, -1.17472896e+00,\n",
              "       -2.58752094e+00, -3.16293962e+00, -1.72757867e+00, -3.45341213e+00,\n",
              "       -2.81273166e+00, -1.03553265e+00, -3.15675590e-01, -3.70141041e+00,\n",
              "       -4.21189811e+00, -2.46094977e+00, -3.43569797e+00, -3.34469058e+00,\n",
              "       -1.38193635e+00, -3.17949403e+00, -2.42119633e+00, -1.33643509e+00,\n",
              "       -3.06299272e+00, -3.56504553e+00, -3.34451075e+00,  7.77655270e-01,\n",
              "       -2.98030710e+00, -3.55225078e+00, -1.82974404e+00,  1.46532816e+00,\n",
              "        1.56688198e+00, -2.96543364e+00, -9.60755845e-01, -3.37890943e+00,\n",
              "        1.47135345e+00, -3.02829566e+00,  7.50982262e-03,  1.79730919e+00,\n",
              "        3.91077683e-01,  1.63881069e+00, -8.84278418e-01,  1.56546135e+00,\n",
              "        1.59529239e+00,  1.27139537e+00,  1.40701977e+00,  1.58125802e+00,\n",
              "       -1.72159327e+00,  5.68722722e-01,  1.60960641e+00,  1.70849761e+00,\n",
              "        3.77494361e-02,  1.77885147e+00,  1.57017560e+00,  1.31626221e+00,\n",
              "        1.45580659e+00,  9.95670227e-02,  1.49806312e+00,  1.19805866e+00,\n",
              "        1.30759534e+00,  1.69066279e+00,  1.54457758e+00,  3.36164302e-01,\n",
              "        4.71520896e-01,  1.79332637e+00,  1.75802645e+00,  1.11059510e+00,\n",
              "        2.25410298e-02,  1.03402966e+00,  1.46010385e-01,  1.50301824e+00,\n",
              "        5.29563078e-01,  7.23526086e-01,  1.24444151e+00,  7.11308695e-01,\n",
              "        3.65824427e-02,  5.96719268e-01,  1.77160218e-01,  4.50367941e-01,\n",
              "        3.75726453e-02,  2.13641164e-01,  3.24386893e-01,  7.30780825e-01])"
            ]
          },
          "metadata": {},
          "execution_count": 45
        }
      ]
    },
    {
      "cell_type": "markdown",
      "metadata": {
        "id": "o6uNanKiiMjH"
      },
      "source": [
        "## 2. (1 pt) Create DataLoader object."
      ]
    },
    {
      "cell_type": "code",
      "execution_count": 46,
      "metadata": {
        "id": "CR-6brtWiSz_"
      },
      "outputs": [],
      "source": [
        "data_loader = DataLoader(data, batch_size=10)"
      ]
    },
    {
      "cell_type": "code",
      "source": [
        "for x_batch, y_batch in data_loader:\n",
        "  print(x_batch.shape, y_batch.shape)"
      ],
      "metadata": {
        "colab": {
          "base_uri": "https://localhost:8080/"
        },
        "id": "ckQciXLGgFpk",
        "outputId": "239eab3e-6090-4bf6-be69-4e624b530cfe"
      },
      "execution_count": 47,
      "outputs": [
        {
          "output_type": "stream",
          "name": "stdout",
          "text": [
            "torch.Size([10]) torch.Size([10])\n",
            "torch.Size([10]) torch.Size([10])\n",
            "torch.Size([10]) torch.Size([10])\n",
            "torch.Size([10]) torch.Size([10])\n",
            "torch.Size([10]) torch.Size([10])\n",
            "torch.Size([10]) torch.Size([10])\n",
            "torch.Size([10]) torch.Size([10])\n",
            "torch.Size([10]) torch.Size([10])\n",
            "torch.Size([10]) torch.Size([10])\n",
            "torch.Size([10]) torch.Size([10])\n",
            "torch.Size([10]) torch.Size([10])\n",
            "torch.Size([10]) torch.Size([10])\n",
            "torch.Size([10]) torch.Size([10])\n",
            "torch.Size([10]) torch.Size([10])\n",
            "torch.Size([10]) torch.Size([10])\n",
            "torch.Size([10]) torch.Size([10])\n",
            "torch.Size([10]) torch.Size([10])\n",
            "torch.Size([10]) torch.Size([10])\n",
            "torch.Size([10]) torch.Size([10])\n",
            "torch.Size([10]) torch.Size([10])\n",
            "torch.Size([10]) torch.Size([10])\n",
            "torch.Size([10]) torch.Size([10])\n",
            "torch.Size([10]) torch.Size([10])\n",
            "torch.Size([10]) torch.Size([10])\n",
            "torch.Size([10]) torch.Size([10])\n",
            "torch.Size([10]) torch.Size([10])\n",
            "torch.Size([10]) torch.Size([10])\n",
            "torch.Size([10]) torch.Size([10])\n",
            "torch.Size([10]) torch.Size([10])\n",
            "torch.Size([10]) torch.Size([10])\n",
            "torch.Size([10]) torch.Size([10])\n",
            "torch.Size([10]) torch.Size([10])\n",
            "torch.Size([10]) torch.Size([10])\n",
            "torch.Size([10]) torch.Size([10])\n",
            "torch.Size([10]) torch.Size([10])\n",
            "torch.Size([10]) torch.Size([10])\n",
            "torch.Size([10]) torch.Size([10])\n",
            "torch.Size([10]) torch.Size([10])\n",
            "torch.Size([10]) torch.Size([10])\n",
            "torch.Size([10]) torch.Size([10])\n"
          ]
        }
      ]
    },
    {
      "cell_type": "markdown",
      "metadata": {
        "id": "uFSBUgnqiVzZ"
      },
      "source": [
        "## 3. (3 pt) Construct the model\n",
        "$$\n",
        "hidden\\_1 \\to activation\\_1 \\to hidden\\_2 \\to activation\\_2  \n",
        "$$\n",
        "Use `Sigmoid` function as activation on this step."
      ]
    },
    {
      "cell_type": "code",
      "execution_count": 48,
      "metadata": {
        "id": "UnUP-g9Fi0m9"
      },
      "outputs": [],
      "source": [
        "import torch.nn as nn"
      ]
    },
    {
      "cell_type": "code",
      "source": [
        "class MyModel(nn.Module):\n",
        "  # The constructor is what layers are within your model\n",
        "  def __init__(self, hidden_size):\n",
        "    super().__init__()\n",
        "    self.fc1 = nn.Linear(1, hidden_size) #fc stands for \"fully connected\", it fans out to hidden_size number of nodes\n",
        "    self.activ = nn.Sigmoid() # Activation function\n",
        "    self.fc2 = nn.Linear(hidden_size, hidden_size) # create a second hidden layer\n",
        "    self.fc3 = nn.Linear(hidden_size, 1) # we map our hidden_size back down to 1.\n",
        "\n",
        "  #\n",
        "  def forward(self, x_batch):\n",
        "    o = self.fc1(x_batch)\n",
        "    o = self.activ(o)\n",
        "    o = self.fc2(o)\n",
        "    o = self.activ(o)\n",
        "    o = self.fc3(o)\n",
        "    return o"
      ],
      "metadata": {
        "id": "7Nv_LKWFgM9i"
      },
      "execution_count": 49,
      "outputs": []
    },
    {
      "cell_type": "code",
      "source": [
        "model = MyModel(5)"
      ],
      "metadata": {
        "id": "_Zj8bVE-hOMX"
      },
      "execution_count": 50,
      "outputs": []
    },
    {
      "cell_type": "markdown",
      "metadata": {
        "id": "j6nUGAuEi1_a"
      },
      "source": [
        "## 4. (3 pt) Write the training loop. Use Binary cross-entropy loss. Also, you can use tqdm function to see the training progress. You can start with learning rate 0.01."
      ]
    },
    {
      "cell_type": "code",
      "execution_count": 51,
      "metadata": {
        "id": "rVX9T03yi9rk"
      },
      "outputs": [],
      "source": [
        "from torch.nn import BCELoss\n",
        "from tqdm import tqdm"
      ]
    },
    {
      "cell_type": "code",
      "source": [
        "loss_fn = BCELoss()"
      ],
      "metadata": {
        "id": "LN_iRTeLh5uo"
      },
      "execution_count": 52,
      "outputs": []
    },
    {
      "cell_type": "code",
      "execution_count": 53,
      "metadata": {
        "id": "fZdZcqfkjd8R"
      },
      "outputs": [],
      "source": [
        "from torch.optim import Adam\n",
        "optimizer = Adam(model.parameters(), lr=0.01)"
      ]
    },
    {
      "cell_type": "code",
      "execution_count": 54,
      "metadata": {
        "id": "kw_inc8rjd--",
        "colab": {
          "base_uri": "https://localhost:8080/",
          "height": 356
        },
        "outputId": "eb4662ce-fe90-4f67-9def-08185c92c558"
      },
      "outputs": [
        {
          "output_type": "error",
          "ename": "RuntimeError",
          "evalue": "mat1 and mat2 shapes cannot be multiplied (1x10 and 1x5)",
          "traceback": [
            "\u001b[0;31m---------------------------------------------------------------------------\u001b[0m",
            "\u001b[0;31mRuntimeError\u001b[0m                              Traceback (most recent call last)",
            "\u001b[0;32m<ipython-input-54-6b37444c9d6f>\u001b[0m in \u001b[0;36m<cell line: 0>\u001b[0;34m()\u001b[0m\n\u001b[1;32m      2\u001b[0m \u001b[0;32mfor\u001b[0m \u001b[0mepoch\u001b[0m \u001b[0;32min\u001b[0m \u001b[0mrange\u001b[0m\u001b[0;34m(\u001b[0m\u001b[0;36m100\u001b[0m\u001b[0;34m)\u001b[0m\u001b[0;34m:\u001b[0m\u001b[0;34m\u001b[0m\u001b[0;34m\u001b[0m\u001b[0m\n\u001b[1;32m      3\u001b[0m   \u001b[0;32mfor\u001b[0m \u001b[0mx_b\u001b[0m\u001b[0;34m,\u001b[0m \u001b[0my_b\u001b[0m \u001b[0;32min\u001b[0m \u001b[0mdata_loader\u001b[0m\u001b[0;34m:\u001b[0m\u001b[0;34m\u001b[0m\u001b[0;34m\u001b[0m\u001b[0m\n\u001b[0;32m----> 4\u001b[0;31m     \u001b[0my_pred\u001b[0m \u001b[0;34m=\u001b[0m \u001b[0mmodel\u001b[0m\u001b[0;34m.\u001b[0m\u001b[0mforward\u001b[0m\u001b[0;34m(\u001b[0m\u001b[0mx_b\u001b[0m\u001b[0;34m)\u001b[0m\u001b[0;34m\u001b[0m\u001b[0;34m\u001b[0m\u001b[0m\n\u001b[0m\u001b[1;32m      5\u001b[0m     \u001b[0mloss\u001b[0m \u001b[0;34m=\u001b[0m \u001b[0mloss_fn\u001b[0m\u001b[0;34m(\u001b[0m\u001b[0my_pred\u001b[0m\u001b[0;34m,\u001b[0m \u001b[0my_b\u001b[0m\u001b[0;34m)\u001b[0m\u001b[0;34m\u001b[0m\u001b[0;34m\u001b[0m\u001b[0m\n\u001b[1;32m      6\u001b[0m     \u001b[0mloss\u001b[0m\u001b[0;34m.\u001b[0m\u001b[0mbackward\u001b[0m\u001b[0;34m(\u001b[0m\u001b[0;34m)\u001b[0m\u001b[0;34m\u001b[0m\u001b[0;34m\u001b[0m\u001b[0m\n",
            "\u001b[0;32m<ipython-input-49-e6fd7565a0c6>\u001b[0m in \u001b[0;36mforward\u001b[0;34m(self, x_batch)\u001b[0m\n\u001b[1;32m     10\u001b[0m   \u001b[0;31m#\u001b[0m\u001b[0;34m\u001b[0m\u001b[0;34m\u001b[0m\u001b[0m\n\u001b[1;32m     11\u001b[0m   \u001b[0;32mdef\u001b[0m \u001b[0mforward\u001b[0m\u001b[0;34m(\u001b[0m\u001b[0mself\u001b[0m\u001b[0;34m,\u001b[0m \u001b[0mx_batch\u001b[0m\u001b[0;34m)\u001b[0m\u001b[0;34m:\u001b[0m\u001b[0;34m\u001b[0m\u001b[0;34m\u001b[0m\u001b[0m\n\u001b[0;32m---> 12\u001b[0;31m     \u001b[0mo\u001b[0m \u001b[0;34m=\u001b[0m \u001b[0mself\u001b[0m\u001b[0;34m.\u001b[0m\u001b[0mfc1\u001b[0m\u001b[0;34m(\u001b[0m\u001b[0mx_batch\u001b[0m\u001b[0;34m)\u001b[0m\u001b[0;34m\u001b[0m\u001b[0;34m\u001b[0m\u001b[0m\n\u001b[0m\u001b[1;32m     13\u001b[0m     \u001b[0mo\u001b[0m \u001b[0;34m=\u001b[0m \u001b[0mself\u001b[0m\u001b[0;34m.\u001b[0m\u001b[0mactiv\u001b[0m\u001b[0;34m(\u001b[0m\u001b[0mo\u001b[0m\u001b[0;34m)\u001b[0m\u001b[0;34m\u001b[0m\u001b[0;34m\u001b[0m\u001b[0m\n\u001b[1;32m     14\u001b[0m     \u001b[0mo\u001b[0m \u001b[0;34m=\u001b[0m \u001b[0mself\u001b[0m\u001b[0;34m.\u001b[0m\u001b[0mfc2\u001b[0m\u001b[0;34m(\u001b[0m\u001b[0mo\u001b[0m\u001b[0;34m)\u001b[0m\u001b[0;34m\u001b[0m\u001b[0;34m\u001b[0m\u001b[0m\n",
            "\u001b[0;32m/usr/local/lib/python3.11/dist-packages/torch/nn/modules/module.py\u001b[0m in \u001b[0;36m_wrapped_call_impl\u001b[0;34m(self, *args, **kwargs)\u001b[0m\n\u001b[1;32m   1737\u001b[0m             \u001b[0;32mreturn\u001b[0m \u001b[0mself\u001b[0m\u001b[0;34m.\u001b[0m\u001b[0m_compiled_call_impl\u001b[0m\u001b[0;34m(\u001b[0m\u001b[0;34m*\u001b[0m\u001b[0margs\u001b[0m\u001b[0;34m,\u001b[0m \u001b[0;34m**\u001b[0m\u001b[0mkwargs\u001b[0m\u001b[0;34m)\u001b[0m  \u001b[0;31m# type: ignore[misc]\u001b[0m\u001b[0;34m\u001b[0m\u001b[0;34m\u001b[0m\u001b[0m\n\u001b[1;32m   1738\u001b[0m         \u001b[0;32melse\u001b[0m\u001b[0;34m:\u001b[0m\u001b[0;34m\u001b[0m\u001b[0;34m\u001b[0m\u001b[0m\n\u001b[0;32m-> 1739\u001b[0;31m             \u001b[0;32mreturn\u001b[0m \u001b[0mself\u001b[0m\u001b[0;34m.\u001b[0m\u001b[0m_call_impl\u001b[0m\u001b[0;34m(\u001b[0m\u001b[0;34m*\u001b[0m\u001b[0margs\u001b[0m\u001b[0;34m,\u001b[0m \u001b[0;34m**\u001b[0m\u001b[0mkwargs\u001b[0m\u001b[0;34m)\u001b[0m\u001b[0;34m\u001b[0m\u001b[0;34m\u001b[0m\u001b[0m\n\u001b[0m\u001b[1;32m   1740\u001b[0m \u001b[0;34m\u001b[0m\u001b[0m\n\u001b[1;32m   1741\u001b[0m     \u001b[0;31m# torchrec tests the code consistency with the following code\u001b[0m\u001b[0;34m\u001b[0m\u001b[0;34m\u001b[0m\u001b[0m\n",
            "\u001b[0;32m/usr/local/lib/python3.11/dist-packages/torch/nn/modules/module.py\u001b[0m in \u001b[0;36m_call_impl\u001b[0;34m(self, *args, **kwargs)\u001b[0m\n\u001b[1;32m   1748\u001b[0m                 \u001b[0;32mor\u001b[0m \u001b[0m_global_backward_pre_hooks\u001b[0m \u001b[0;32mor\u001b[0m \u001b[0m_global_backward_hooks\u001b[0m\u001b[0;34m\u001b[0m\u001b[0;34m\u001b[0m\u001b[0m\n\u001b[1;32m   1749\u001b[0m                 or _global_forward_hooks or _global_forward_pre_hooks):\n\u001b[0;32m-> 1750\u001b[0;31m             \u001b[0;32mreturn\u001b[0m \u001b[0mforward_call\u001b[0m\u001b[0;34m(\u001b[0m\u001b[0;34m*\u001b[0m\u001b[0margs\u001b[0m\u001b[0;34m,\u001b[0m \u001b[0;34m**\u001b[0m\u001b[0mkwargs\u001b[0m\u001b[0;34m)\u001b[0m\u001b[0;34m\u001b[0m\u001b[0;34m\u001b[0m\u001b[0m\n\u001b[0m\u001b[1;32m   1751\u001b[0m \u001b[0;34m\u001b[0m\u001b[0m\n\u001b[1;32m   1752\u001b[0m         \u001b[0mresult\u001b[0m \u001b[0;34m=\u001b[0m \u001b[0;32mNone\u001b[0m\u001b[0;34m\u001b[0m\u001b[0;34m\u001b[0m\u001b[0m\n",
            "\u001b[0;32m/usr/local/lib/python3.11/dist-packages/torch/nn/modules/linear.py\u001b[0m in \u001b[0;36mforward\u001b[0;34m(self, input)\u001b[0m\n\u001b[1;32m    123\u001b[0m \u001b[0;34m\u001b[0m\u001b[0m\n\u001b[1;32m    124\u001b[0m     \u001b[0;32mdef\u001b[0m \u001b[0mforward\u001b[0m\u001b[0;34m(\u001b[0m\u001b[0mself\u001b[0m\u001b[0;34m,\u001b[0m \u001b[0minput\u001b[0m\u001b[0;34m:\u001b[0m \u001b[0mTensor\u001b[0m\u001b[0;34m)\u001b[0m \u001b[0;34m->\u001b[0m \u001b[0mTensor\u001b[0m\u001b[0;34m:\u001b[0m\u001b[0;34m\u001b[0m\u001b[0;34m\u001b[0m\u001b[0m\n\u001b[0;32m--> 125\u001b[0;31m         \u001b[0;32mreturn\u001b[0m \u001b[0mF\u001b[0m\u001b[0;34m.\u001b[0m\u001b[0mlinear\u001b[0m\u001b[0;34m(\u001b[0m\u001b[0minput\u001b[0m\u001b[0;34m,\u001b[0m \u001b[0mself\u001b[0m\u001b[0;34m.\u001b[0m\u001b[0mweight\u001b[0m\u001b[0;34m,\u001b[0m \u001b[0mself\u001b[0m\u001b[0;34m.\u001b[0m\u001b[0mbias\u001b[0m\u001b[0;34m)\u001b[0m\u001b[0;34m\u001b[0m\u001b[0;34m\u001b[0m\u001b[0m\n\u001b[0m\u001b[1;32m    126\u001b[0m \u001b[0;34m\u001b[0m\u001b[0m\n\u001b[1;32m    127\u001b[0m     \u001b[0;32mdef\u001b[0m \u001b[0mextra_repr\u001b[0m\u001b[0;34m(\u001b[0m\u001b[0mself\u001b[0m\u001b[0;34m)\u001b[0m \u001b[0;34m->\u001b[0m \u001b[0mstr\u001b[0m\u001b[0;34m:\u001b[0m\u001b[0;34m\u001b[0m\u001b[0;34m\u001b[0m\u001b[0m\n",
            "\u001b[0;31mRuntimeError\u001b[0m: mat1 and mat2 shapes cannot be multiplied (1x10 and 1x5)"
          ]
        }
      ],
      "source": [
        "hist = []\n",
        "for epoch in range(100):\n",
        "  for x_b, y_b in data_loader:\n",
        "    y_pred = model.forward(x_b)\n",
        "    loss = loss_fn(y_pred, y_b)\n",
        "    loss.backward()\n",
        "    optimizer.step()\n",
        "    optimizer.zero_grad()\n",
        "    hist.append(loss.item())"
      ]
    },
    {
      "cell_type": "code",
      "execution_count": null,
      "metadata": {
        "id": "EBgVLAatjeB3"
      },
      "outputs": [],
      "source": []
    },
    {
      "cell_type": "code",
      "execution_count": null,
      "metadata": {
        "id": "Z38BrpoojeFR"
      },
      "outputs": [],
      "source": []
    },
    {
      "cell_type": "markdown",
      "metadata": {
        "id": "-gSYSPMTjP-y"
      },
      "source": [
        "## 5. (2 pt) Write the prediction class to use it in plot_decision_regions function."
      ]
    },
    {
      "cell_type": "code",
      "execution_count": null,
      "metadata": {
        "id": "JwsHA_kCjcmS"
      },
      "outputs": [],
      "source": []
    },
    {
      "cell_type": "markdown",
      "metadata": {
        "id": "lhpE7gXhjg_1"
      },
      "source": [
        "## 6. (2 pt) Plot the loss and decision boundary after the training."
      ]
    },
    {
      "cell_type": "code",
      "execution_count": null,
      "metadata": {
        "id": "co704Qk2jnZP"
      },
      "outputs": [],
      "source": []
    },
    {
      "cell_type": "code",
      "execution_count": null,
      "metadata": {
        "id": "hYRtPcTzjoMc"
      },
      "outputs": [],
      "source": []
    },
    {
      "cell_type": "code",
      "execution_count": null,
      "metadata": {
        "id": "7nMmkB0mjoTL"
      },
      "outputs": [],
      "source": []
    },
    {
      "cell_type": "markdown",
      "metadata": {
        "id": "UPGy5kg-joiY"
      },
      "source": [
        "## 7. Experiments 1: Try LeakyReLU as `activation_1` with the size of `hidden_1` = 4, 5, and 10. You can reuse the same model without copying it."
      ]
    },
    {
      "cell_type": "code",
      "execution_count": null,
      "metadata": {
        "id": "qBmcAwoJkFW7"
      },
      "outputs": [],
      "source": []
    },
    {
      "cell_type": "code",
      "execution_count": null,
      "metadata": {
        "id": "tKyf0_JQkJ0N"
      },
      "outputs": [],
      "source": []
    },
    {
      "cell_type": "code",
      "execution_count": null,
      "metadata": {
        "id": "alMDK5qikJ3x"
      },
      "outputs": [],
      "source": []
    },
    {
      "cell_type": "markdown",
      "metadata": {
        "id": "vbbLNEG8kKH3"
      },
      "source": [
        "## 8. (3 pt) Comment on the number of the straight lines with respect to the size of the hidden layer."
      ]
    },
    {
      "cell_type": "markdown",
      "metadata": {
        "id": "3r_u4JH_kTiX"
      },
      "source": []
    },
    {
      "cell_type": "code",
      "execution_count": null,
      "metadata": {
        "id": "Zt5imS_NkO9_"
      },
      "outputs": [],
      "source": []
    },
    {
      "cell_type": "markdown",
      "metadata": {
        "id": "aaqxYYITkWIF"
      },
      "source": [
        "## 9. Experiments 2: with the `hidden_1` layer of the size 4 try Sigmoind, ReLU, LeakyReLU, ELU, and SiLU as `activation_1`. Do this for batch sizes 4 and 50."
      ]
    },
    {
      "cell_type": "code",
      "execution_count": null,
      "metadata": {
        "id": "13DPPUK2kQgv"
      },
      "outputs": [],
      "source": []
    },
    {
      "cell_type": "code",
      "execution_count": null,
      "metadata": {
        "id": "uPdwChLgk6hn"
      },
      "outputs": [],
      "source": []
    },
    {
      "cell_type": "code",
      "execution_count": null,
      "metadata": {
        "id": "5rvuPqwgk6lG"
      },
      "outputs": [],
      "source": []
    },
    {
      "cell_type": "markdown",
      "metadata": {
        "id": "ZUaEa0ECk6zu"
      },
      "source": [
        "## 10. (4 pt) Comment on the shape of the decision boundaries with respect to the activation function and the batch size. Did you adjust the learning rate? Did you try to start with small learning rate like 0.001 instead of 0.01 and if so, which worked better?"
      ]
    },
    {
      "cell_type": "code",
      "execution_count": null,
      "metadata": {
        "id": "uEfF86FJk-lu"
      },
      "outputs": [],
      "source": []
    }
  ],
  "metadata": {
    "colab": {
      "provenance": [],
      "include_colab_link": true
    },
    "kernelspec": {
      "display_name": "Python 3",
      "name": "python3"
    },
    "language_info": {
      "name": "python"
    }
  },
  "nbformat": 4,
  "nbformat_minor": 0
}