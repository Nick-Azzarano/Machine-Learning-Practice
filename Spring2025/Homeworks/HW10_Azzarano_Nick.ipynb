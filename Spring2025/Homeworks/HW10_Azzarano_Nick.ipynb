{
  "cells": [
    {
      "cell_type": "markdown",
      "metadata": {
        "id": "view-in-github",
        "colab_type": "text"
      },
      "source": [
        "<a href=\"https://colab.research.google.com/github/Nick-Azzarano/Machine-Learning-Practice/blob/main/Spring2025/Homeworks/HW10_Azzarano_Nick.ipynb\" target=\"_parent\"><img src=\"https://colab.research.google.com/assets/colab-badge.svg\" alt=\"Open In Colab\"/></a>"
      ]
    },
    {
      "cell_type": "markdown",
      "source": [
        "Nick Azzarano\n",
        "<br/>\n",
        "CSCI 335\n",
        "<br/>\n",
        "Anton Selitskiy\n",
        "<br/>\n",
        "April 14, 2025"
      ],
      "metadata": {
        "id": "RdRHgFD2cPBy"
      }
    },
    {
      "cell_type": "markdown",
      "metadata": {
        "id": "z_CRSmB1hc7b"
      },
      "source": [
        "# Homework 10\n",
        "\n",
        "In this homework, you will implement NN using PyTorch and investigate different activation functions, batch sizes, and learning rates. Use [Lecture code](https://github.com/anton-selitskiy/RIT_ML/blob/main/2025_spring/Week11_MLP/ML21.ipynb) as refference."
      ]
    },
    {
      "cell_type": "markdown",
      "metadata": {
        "id": "QqhFYpQGhmRn"
      },
      "source": [
        "Use load_planar_dataset function from the previous homework to create the data."
      ]
    },
    {
      "cell_type": "code",
      "execution_count": 379,
      "metadata": {
        "id": "_1xKtWGNhTbX"
      },
      "outputs": [],
      "source": [
        "import numpy as np\n",
        "import torch\n",
        "from torch.utils.data import Dataset, DataLoader\n",
        "import matplotlib.pyplot as plt"
      ]
    },
    {
      "cell_type": "code",
      "execution_count": 380,
      "metadata": {
        "id": "yGL2JrZtiHQH"
      },
      "outputs": [],
      "source": [
        "def load_planar_dataset():\n",
        "    np.random.seed(1)\n",
        "    m = 400 # number of examples\n",
        "    N = int(m/2) # number of points per class\n",
        "    D = 2 # dimensionality\n",
        "    X = np.zeros((m,D)) # data matrix where each row is a single example\n",
        "    Y = np.zeros(m, dtype='uint8') # labels vector (0 for red, 1 for blue)\n",
        "    a = 4 # maximum ray of the flower\n",
        "\n",
        "    for j in range(2):\n",
        "        ix = range(N*j,N*(j+1))\n",
        "        t = np.linspace(j*3.12,(j+1)*3.12,N) + np.random.randn(N)*0.2 # theta\n",
        "        r = a*np.sin(4*t) + np.random.randn(N)*0.2 # radius. 4 corresponds to the number of petals\n",
        "        X[ix] = np.c_[r*np.sin(t), r*np.cos(t)]\n",
        "        Y[ix] = j\n",
        "\n",
        "    return X, Y"
      ]
    },
    {
      "cell_type": "code",
      "source": [
        "x, y = load_planar_dataset()  #make_moons(n_samples=200, noise=0.1)  make_circles(n_samples=200, noise=0.1)\n",
        "y = y.reshape(-1,1)\n",
        "x.shape, y.shape"
      ],
      "metadata": {
        "colab": {
          "base_uri": "https://localhost:8080/"
        },
        "id": "6ZqfHUP6eBOD",
        "outputId": "e0e500c1-45ec-4775-d691-14af537cc572"
      },
      "execution_count": 381,
      "outputs": [
        {
          "output_type": "execute_result",
          "data": {
            "text/plain": [
              "((400, 2), (400, 1))"
            ]
          },
          "metadata": {},
          "execution_count": 381
        }
      ]
    },
    {
      "cell_type": "code",
      "source": [
        "x[:,0]"
      ],
      "metadata": {
        "colab": {
          "base_uri": "https://localhost:8080/"
        },
        "collapsed": true,
        "id": "g-ARfUyLiRQV",
        "outputId": "dc6fa106-b4e7-4698-a52c-5e5a1ca776fc"
      },
      "execution_count": 382,
      "outputs": [
        {
          "output_type": "execute_result",
          "data": {
            "text/plain": [
              "array([ 1.20444229e+00,  1.58709904e-01,  9.52471960e-02,  3.49178475e-01,\n",
              "        6.94150378e-01,  1.62065038e+00,  1.53856225e+00,  3.63085641e-02,\n",
              "        4.74591109e-01,  1.65695828e-01,  1.66446249e+00,  8.40285720e-01,\n",
              "        2.61695163e-01,  2.31614896e-01,  1.58013020e+00,  6.35509950e-03,\n",
              "        6.80610419e-01,  1.21400432e-01,  1.13281261e+00,  1.61505892e+00,\n",
              "        1.66454441e-01,  1.72438241e+00,  1.88667246e+00,  1.72327227e+00,\n",
              "        1.54661332e+00,  9.84590400e-01,  1.45313345e+00,  7.49043388e-01,\n",
              "        1.45048341e+00,  1.64287865e+00,  1.28141487e+00,  1.59574104e+00,\n",
              "        1.46298294e+00,  1.46629048e+00,  1.54348961e+00,  1.57013416e+00,\n",
              "        1.22995404e+00,  1.31142345e+00, -1.99364553e+00,  3.94564752e-01,\n",
              "        1.51715449e+00,  1.69169139e+00,  1.74186686e+00, -2.91373382e+00,\n",
              "        7.52150898e-01,  1.68537303e+00,  3.71160238e-01, -3.73033884e+00,\n",
              "        3.52484080e-01, -1.48694206e+00, -7.45290416e-01,  5.63807442e-01,\n",
              "        1.27093179e+00,  5.35133607e-01, -1.71330375e-01, -2.50197293e+00,\n",
              "       -2.63275448e+00, -3.15561550e+00, -2.11022490e+00, -3.51303563e+00,\n",
              "       -3.52018155e-02, -3.99843114e+00, -3.08095445e+00, -1.79023024e+00,\n",
              "       -3.37520544e+00, -2.38578575e+00, -3.54741267e+00, -2.92344384e+00,\n",
              "       -1.01009705e+00, -3.02185838e-01, -1.47947199e-01, -2.41113498e+00,\n",
              "       -3.52065970e+00, -3.09762480e+00, -3.86453574e+00,  3.46287902e-02,\n",
              "       -3.81297733e+00, -2.54941164e+00, -3.61833546e+00, -2.31720968e+00,\n",
              "       -3.85843301e+00, -3.77182528e+00, -3.22643424e+00, -2.49748107e+00,\n",
              "       -2.94157976e+00, -2.91391859e+00, -3.70623964e+00, -1.95265709e+00,\n",
              "       -2.66020434e+00,  8.17304141e-01,  1.21768512e+00, -1.66246175e+00,\n",
              "       -2.75111411e+00, -3.31873701e+00, -2.14063182e-01, -1.09902222e+00,\n",
              "       -1.94767785e+00, -4.99991014e-01, -2.52618507e+00,  1.96360773e+00,\n",
              "       -1.02715843e+00,  3.03248341e+00,  1.51559027e+00,  2.21864283e+00,\n",
              "       -2.40385821e+00,  2.00630521e+00,  3.17911628e+00, -1.45188351e+00,\n",
              "        1.21496393e+00,  2.04613301e+00, -1.62182614e+00,  3.17993200e+00,\n",
              "        3.96799188e+00,  3.29897728e-01,  4.07816588e+00, -3.17566012e-01,\n",
              "        3.31129113e+00, -9.52809386e-01,  3.03768998e+00,  3.55052992e+00,\n",
              "        3.55990775e+00,  2.33663285e+00,  2.31352433e+00,  2.79495212e-01,\n",
              "        1.51862547e-01,  1.96155941e+00,  5.47353260e-01,  3.49044034e+00,\n",
              "        2.72566042e+00,  2.13606508e+00,  3.67042248e+00,  3.92260947e+00,\n",
              "        3.08862031e+00,  1.92948433e+00,  1.38946995e+00,  3.51428218e+00,\n",
              "        1.13035696e+00,  3.33545460e+00,  9.15905230e-03,  1.68097254e+00,\n",
              "        2.30710971e+00,  2.21404832e+00, -5.31842726e-01, -3.45874829e-01,\n",
              "       -9.83826601e-02,  6.55029428e-01,  5.83612433e-01, -7.68172854e-01,\n",
              "       -5.52725703e-02, -1.25961956e+00,  9.42805936e-01,  3.77681531e+00,\n",
              "       -1.70922458e+00, -1.08169517e+00, -1.40307039e+00, -6.43634519e-01,\n",
              "       -6.32543454e-01, -8.53713550e-01, -1.22772526e+00,  9.50740231e-01,\n",
              "       -5.97375125e-01,  5.01933176e-01, -1.88988467e+00, -1.23602220e+00,\n",
              "       -1.74861600e+00, -1.48828262e+00, -1.27810421e+00, -1.99338361e+00,\n",
              "       -6.80758371e-02,  1.07968241e+00, -1.49733014e+00, -1.02248497e+00,\n",
              "       -6.88068627e-02, -1.77284297e+00, -1.42903599e+00, -1.63191608e+00,\n",
              "       -1.57413453e-01, -1.69732959e+00, -7.20691107e-01, -1.49836618e+00,\n",
              "       -1.53285135e+00, -7.83079289e-01, -5.65545945e-01, -4.28247557e-03,\n",
              "       -9.54816172e-01, -1.43027299e+00, -1.99139039e-01, -3.93228458e-01,\n",
              "       -3.13917579e-01, -5.55629383e-01, -5.61729204e-02, -5.84257606e-02,\n",
              "       -8.07037000e-01, -1.86016879e-01, -9.65590226e-03, -1.52664558e+00,\n",
              "       -2.32543323e-02, -2.11665124e-02, -2.37912887e-01, -5.85846410e-01,\n",
              "       -1.07049581e+00, -2.32905994e-03, -9.27980849e-02, -9.24081181e-01,\n",
              "       -4.27415411e-02, -7.88306156e-02, -1.35471230e+00, -9.64506801e-02,\n",
              "       -4.88903965e-01, -1.40428145e+00, -1.03032194e-01, -1.76823043e+00,\n",
              "       -1.81435331e+00, -4.03453231e-01, -1.13007684e+00, -3.30143778e-01,\n",
              "       -1.03592948e-01, -1.62823990e+00, -1.27072988e+00, -3.24165041e-01,\n",
              "       -8.31515613e-01, -1.15541550e+00, -8.81319474e-01, -5.14135967e-01,\n",
              "       -3.41907953e-01, -1.50008474e+00, -1.09546543e+00, -1.71840632e+00,\n",
              "       -1.68448953e+00, -1.23608462e+00, -8.06782295e-01, -1.06026703e+00,\n",
              "       -1.25449646e+00, -1.71040125e+00, -4.54245598e-01, -1.78717499e+00,\n",
              "       -1.26536725e+00, -2.93821146e-01, -4.04645730e-01,  2.03128629e+00,\n",
              "       -1.02564465e+00, -1.07882287e+00, -1.48728331e+00,  1.52973464e+00,\n",
              "       -1.39893030e+00, -3.67322611e-01, -1.53385549e+00,  1.75371064e+00,\n",
              "       -1.15897743e+00,  2.94968569e+00, -1.38165997e+00,  2.41200118e+00,\n",
              "        1.48331333e+00, -1.29300070e+00,  3.02838862e+00, -1.14374794e+00,\n",
              "       -1.06870636e+00,  2.70728746e+00, -2.29022863e-01,  1.80385877e-01,\n",
              "        7.87999977e-01, -1.65291432e-01,  3.73979818e+00,  3.48775653e+00,\n",
              "        2.08377776e+00,  2.36553487e+00,  3.47039369e+00,  2.42914859e+00,\n",
              "        3.90210781e+00,  2.03812322e+00,  4.04388429e+00,  3.15341019e+00,\n",
              "        3.09441731e+00,  1.00077505e+00,  3.22109077e+00,  3.03895157e+00,\n",
              "       -1.10566174e-01,  1.45338553e+00,  3.42704770e+00,  3.16377425e+00,\n",
              "        3.06435279e+00,  2.97153034e+00,  3.66817242e+00,  1.81576373e+00,\n",
              "       -6.52056092e-01,  2.39565436e+00, -1.83495474e-02, -1.85426248e+00,\n",
              "       -7.55084589e-02,  3.68327360e+00,  3.01854545e+00,  6.67169560e-01,\n",
              "        3.21959504e+00,  6.71420203e-01,  3.62660798e+00,  3.41692475e+00,\n",
              "       -4.99555802e-01,  2.82564692e+00,  3.67261725e+00,  7.88007167e-01,\n",
              "        3.86155325e+00, -2.85587710e-01,  2.28420287e+00,  2.81396650e-01,\n",
              "        3.13503544e-01, -1.43368358e+00,  9.57195160e-01, -1.85436896e+00,\n",
              "        3.81805817e-01, -2.78967630e+00, -3.28548806e+00, -2.22349866e+00,\n",
              "       -2.78061591e+00,  8.26303188e-01, -3.72885115e+00, -1.23292968e+00,\n",
              "       -9.58935652e-01, -3.85811062e+00, -3.59301074e+00, -3.19689248e+00,\n",
              "       -2.12766839e+00, -2.96424870e+00, -3.60274154e+00, -1.17472896e+00,\n",
              "       -2.58752094e+00, -3.16293962e+00, -1.72757867e+00, -3.45341213e+00,\n",
              "       -2.81273166e+00, -1.03553265e+00, -3.15675590e-01, -3.70141041e+00,\n",
              "       -4.21189811e+00, -2.46094977e+00, -3.43569797e+00, -3.34469058e+00,\n",
              "       -1.38193635e+00, -3.17949403e+00, -2.42119633e+00, -1.33643509e+00,\n",
              "       -3.06299272e+00, -3.56504553e+00, -3.34451075e+00,  7.77655270e-01,\n",
              "       -2.98030710e+00, -3.55225078e+00, -1.82974404e+00,  1.46532816e+00,\n",
              "        1.56688198e+00, -2.96543364e+00, -9.60755845e-01, -3.37890943e+00,\n",
              "        1.47135345e+00, -3.02829566e+00,  7.50982262e-03,  1.79730919e+00,\n",
              "        3.91077683e-01,  1.63881069e+00, -8.84278418e-01,  1.56546135e+00,\n",
              "        1.59529239e+00,  1.27139537e+00,  1.40701977e+00,  1.58125802e+00,\n",
              "       -1.72159327e+00,  5.68722722e-01,  1.60960641e+00,  1.70849761e+00,\n",
              "        3.77494361e-02,  1.77885147e+00,  1.57017560e+00,  1.31626221e+00,\n",
              "        1.45580659e+00,  9.95670227e-02,  1.49806312e+00,  1.19805866e+00,\n",
              "        1.30759534e+00,  1.69066279e+00,  1.54457758e+00,  3.36164302e-01,\n",
              "        4.71520896e-01,  1.79332637e+00,  1.75802645e+00,  1.11059510e+00,\n",
              "        2.25410298e-02,  1.03402966e+00,  1.46010385e-01,  1.50301824e+00,\n",
              "        5.29563078e-01,  7.23526086e-01,  1.24444151e+00,  7.11308695e-01,\n",
              "        3.65824427e-02,  5.96719268e-01,  1.77160218e-01,  4.50367941e-01,\n",
              "        3.75726453e-02,  2.13641164e-01,  3.24386893e-01,  7.30780825e-01])"
            ]
          },
          "metadata": {},
          "execution_count": 382
        }
      ]
    },
    {
      "cell_type": "code",
      "source": [
        "plt.scatter(x[:,0], x[:,1], c=y)"
      ],
      "metadata": {
        "colab": {
          "base_uri": "https://localhost:8080/",
          "height": 447
        },
        "id": "ZB_ZiOrKeEvY",
        "outputId": "05107108-d3b2-4026-b3c5-45eeda21ee7a"
      },
      "execution_count": 383,
      "outputs": [
        {
          "output_type": "execute_result",
          "data": {
            "text/plain": [
              "<matplotlib.collections.PathCollection at 0x7bfca3405750>"
            ]
          },
          "metadata": {},
          "execution_count": 383
        },
        {
          "output_type": "display_data",
          "data": {
            "text/plain": [
              "<Figure size 640x480 with 1 Axes>"
            ],
            "image/png": "[encoded data removed]"
          },
          "metadata": {}
        }
      ]
    },
    {
      "cell_type": "markdown",
      "metadata": {
        "id": "lT4dPA8siHi_"
      },
      "source": [
        "##1. (2 pt) Create Dataset object."
      ]
    },
    {
      "cell_type": "code",
      "execution_count": 384,
      "metadata": {
        "id": "_oFulJvwiJA_"
      },
      "outputs": [],
      "source": [
        "class MyData(Dataset):\n",
        "    def __init__(self, x, y):\n",
        "        \"\"\"\n",
        "        Initialize the dataset with features (x) and labels (y).\n",
        "        \"\"\"\n",
        "        self.x = torch.tensor(x, dtype=torch.float32)\n",
        "        self.y = torch.tensor(y, dtype=torch.float32)\n",
        "\n",
        "    def __len__(self):\n",
        "        \"\"\"\n",
        "        Return the number of samples in the dataset.\n",
        "        \"\"\"\n",
        "        return len(self.x)\n",
        "\n",
        "    def __getitem__(self, idx):\n",
        "        \"\"\"\n",
        "        Retrieve a single sample (features and label) by index.\n",
        "        \"\"\"\n",
        "        return self.x[idx], self.y[idx]"
      ]
    },
    {
      "cell_type": "code",
      "source": [
        "data = MyData(x,y)"
      ],
      "metadata": {
        "id": "USrdKxDaeik0"
      },
      "execution_count": 385,
      "outputs": []
    },
    {
      "cell_type": "code",
      "source": [
        "data.__len__()"
      ],
      "metadata": {
        "colab": {
          "base_uri": "https://localhost:8080/"
        },
        "id": "yzZIRbp2ekpn",
        "outputId": "8b2173e8-b647-4b88-bc81-efb50e8442db"
      },
      "execution_count": 386,
      "outputs": [
        {
          "output_type": "execute_result",
          "data": {
            "text/plain": [
              "400"
            ]
          },
          "metadata": {},
          "execution_count": 386
        }
      ]
    },
    {
      "cell_type": "code",
      "source": [
        "data.__getitem__(0)"
      ],
      "metadata": {
        "colab": {
          "base_uri": "https://localhost:8080/"
        },
        "id": "xvm8bo3tfmm6",
        "outputId": "f98e506a-c38b-4e3d-c2a3-4e11149757e2"
      },
      "execution_count": 387,
      "outputs": [
        {
          "output_type": "execute_result",
          "data": {
            "text/plain": [
              "(tensor([1.2044, 3.5761]), tensor([0.]))"
            ]
          },
          "metadata": {},
          "execution_count": 387
        }
      ]
    },
    {
      "cell_type": "markdown",
      "metadata": {
        "id": "o6uNanKiiMjH"
      },
      "source": [
        "## 2. (1 pt) Create DataLoader object."
      ]
    },
    {
      "cell_type": "code",
      "execution_count": 388,
      "metadata": {
        "id": "CR-6brtWiSz_"
      },
      "outputs": [],
      "source": [
        "data_loader = DataLoader(data, batch_size=16, shuffle=True)"
      ]
    },
    {
      "cell_type": "code",
      "source": [
        "for x_batch, y_batch in data_loader:\n",
        "  print(x_batch.shape, y_batch.shape)"
      ],
      "metadata": {
        "colab": {
          "base_uri": "https://localhost:8080/"
        },
        "id": "ckQciXLGgFpk",
        "outputId": "fce0b437-669b-4fde-b9b7-739dba86fde9"
      },
      "execution_count": 389,
      "outputs": [
        {
          "output_type": "stream",
          "name": "stdout",
          "text": [
            "torch.Size([16, 2]) torch.Size([16, 1])\n",
            "torch.Size([16, 2]) torch.Size([16, 1])\n",
            "torch.Size([16, 2]) torch.Size([16, 1])\n",
            "torch.Size([16, 2]) torch.Size([16, 1])\n",
            "torch.Size([16, 2]) torch.Size([16, 1])\n",
            "torch.Size([16, 2]) torch.Size([16, 1])\n",
            "torch.Size([16, 2]) torch.Size([16, 1])\n",
            "torch.Size([16, 2]) torch.Size([16, 1])\n",
            "torch.Size([16, 2]) torch.Size([16, 1])\n",
            "torch.Size([16, 2]) torch.Size([16, 1])\n",
            "torch.Size([16, 2]) torch.Size([16, 1])\n",
            "torch.Size([16, 2]) torch.Size([16, 1])\n",
            "torch.Size([16, 2]) torch.Size([16, 1])\n",
            "torch.Size([16, 2]) torch.Size([16, 1])\n",
            "torch.Size([16, 2]) torch.Size([16, 1])\n",
            "torch.Size([16, 2]) torch.Size([16, 1])\n",
            "torch.Size([16, 2]) torch.Size([16, 1])\n",
            "torch.Size([16, 2]) torch.Size([16, 1])\n",
            "torch.Size([16, 2]) torch.Size([16, 1])\n",
            "torch.Size([16, 2]) torch.Size([16, 1])\n",
            "torch.Size([16, 2]) torch.Size([16, 1])\n",
            "torch.Size([16, 2]) torch.Size([16, 1])\n",
            "torch.Size([16, 2]) torch.Size([16, 1])\n",
            "torch.Size([16, 2]) torch.Size([16, 1])\n",
            "torch.Size([16, 2]) torch.Size([16, 1])\n"
          ]
        }
      ]
    },
    {
      "cell_type": "markdown",
      "metadata": {
        "id": "uFSBUgnqiVzZ"
      },
      "source": [
        "## 3. (3 pt) Construct the model\n",
        "$$\n",
        "hidden\\_1 \\to activation\\_1 \\to hidden\\_2 \\to activation\\_2  \n",
        "$$\n",
        "Use `Sigmoid` function as activation on this step."
      ]
    },
    {
      "cell_type": "code",
      "execution_count": 390,
      "metadata": {
        "id": "UnUP-g9Fi0m9"
      },
      "outputs": [],
      "source": [
        "import torch.nn as nn"
      ]
    },
    {
      "cell_type": "code",
      "source": [
        "class MyModel(nn.Module):\n",
        "    def __init__(self, input_size, hidden_1_size, hidden_2_size, activation_func_1, activation_func_2):\n",
        "        super().__init__()\n",
        "        self.fc1 = nn.Linear(input_size, hidden_1_size)\n",
        "        self.activation_1 = activation_func_1\n",
        "        self.fc2 = nn.Linear(hidden_1_size, hidden_2_size)\n",
        "        self.activation_2 = activation_func_2\n",
        "        self.output = nn.Linear(hidden_2_size, 1)\n",
        "        self.output_activation = activation_func_2  # Add Sigmoid for the output layer\n",
        "\n",
        "    def forward(self, x_batch):\n",
        "        o = self.fc1(x_batch)\n",
        "        o = self.activation_1(o)\n",
        "        o = self.fc2(o)\n",
        "        o = self.activation_2(o)\n",
        "        o = self.output(o)\n",
        "        o = self.output_activation(o)  # Apply Sigmoid here\n",
        "        return o"
      ],
      "metadata": {
        "id": "1wG9d_xrZ2F0"
      },
      "execution_count": 391,
      "outputs": []
    },
    {
      "cell_type": "code",
      "source": [
        "input_size = 2\n",
        "hidden_1_size = 4\n",
        "hidden_2_size = 3\n",
        "activation_func_1 = nn.Sigmoid()\n",
        "activation_func_2 = nn.Sigmoid()\n",
        "my_model = MyModel(input_size, hidden_1_size, hidden_2_size, activation_func_1, activation_func_2)"
      ],
      "metadata": {
        "id": "_Zj8bVE-hOMX"
      },
      "execution_count": 392,
      "outputs": []
    },
    {
      "cell_type": "markdown",
      "metadata": {
        "id": "j6nUGAuEi1_a"
      },
      "source": [
        "## 4. (3 pt) Write the training loop. Use Binary cross-entropy loss. Also, you can use tqdm function to see the training progress. You can start with learning rate 0.01."
      ]
    },
    {
      "cell_type": "code",
      "execution_count": 393,
      "metadata": {
        "id": "rVX9T03yi9rk"
      },
      "outputs": [],
      "source": [
        "from torch.nn import BCELoss\n",
        "from tqdm import tqdm"
      ]
    },
    {
      "cell_type": "code",
      "source": [
        "# Initialize the loss function\n",
        "loss_fn = BCELoss()"
      ],
      "metadata": {
        "id": "LN_iRTeLh5uo"
      },
      "execution_count": 394,
      "outputs": []
    },
    {
      "cell_type": "code",
      "execution_count": 395,
      "metadata": {
        "id": "fZdZcqfkjd8R"
      },
      "outputs": [],
      "source": [
        "# Initialize the optimizer\n",
        "from torch.optim import Adam\n",
        "optimizer = Adam(my_model.parameters(), lr=0.01)"
      ]
    },
    {
      "cell_type": "code",
      "source": [
        "for batch in data_loader:\n",
        "  x_batch, y_batch = batch\n",
        "  print(x_batch.shape, y_batch.shape)"
      ],
      "metadata": {
        "colab": {
          "base_uri": "https://localhost:8080/"
        },
        "id": "8pKYRaDjYm0F",
        "outputId": "33c68db6-b447-4358-9bb8-7370c5e29379"
      },
      "execution_count": 396,
      "outputs": [
        {
          "output_type": "stream",
          "name": "stdout",
          "text": [
            "torch.Size([16, 2]) torch.Size([16, 1])\n",
            "torch.Size([16, 2]) torch.Size([16, 1])\n",
            "torch.Size([16, 2]) torch.Size([16, 1])\n",
            "torch.Size([16, 2]) torch.Size([16, 1])\n",
            "torch.Size([16, 2]) torch.Size([16, 1])\n",
            "torch.Size([16, 2]) torch.Size([16, 1])\n",
            "torch.Size([16, 2]) torch.Size([16, 1])\n",
            "torch.Size([16, 2]) torch.Size([16, 1])\n",
            "torch.Size([16, 2]) torch.Size([16, 1])\n",
            "torch.Size([16, 2]) torch.Size([16, 1])\n",
            "torch.Size([16, 2]) torch.Size([16, 1])\n",
            "torch.Size([16, 2]) torch.Size([16, 1])\n",
            "torch.Size([16, 2]) torch.Size([16, 1])\n",
            "torch.Size([16, 2]) torch.Size([16, 1])\n",
            "torch.Size([16, 2]) torch.Size([16, 1])\n",
            "torch.Size([16, 2]) torch.Size([16, 1])\n",
            "torch.Size([16, 2]) torch.Size([16, 1])\n",
            "torch.Size([16, 2]) torch.Size([16, 1])\n",
            "torch.Size([16, 2]) torch.Size([16, 1])\n",
            "torch.Size([16, 2]) torch.Size([16, 1])\n",
            "torch.Size([16, 2]) torch.Size([16, 1])\n",
            "torch.Size([16, 2]) torch.Size([16, 1])\n",
            "torch.Size([16, 2]) torch.Size([16, 1])\n",
            "torch.Size([16, 2]) torch.Size([16, 1])\n",
            "torch.Size([16, 2]) torch.Size([16, 1])\n"
          ]
        }
      ]
    },
    {
      "cell_type": "code",
      "source": [
        "# Initialize a list to store the loss for each epoch\n",
        "loss_history = []\n",
        "\n",
        "# Training loop\n",
        "epochs = 300  # Number of epochs\n",
        "for epoch in range(epochs):\n",
        "    epoch_loss = 0.0\n",
        "    for batch in tqdm(data_loader, desc=f\"Epoch {epoch+1}/{epochs}\"):\n",
        "        x_batch, y_batch = batch\n",
        "\n",
        "        # Forward pass\n",
        "        predictions = my_model.forward(x_batch)\n",
        "        loss = loss_fn(predictions, y_batch)\n",
        "\n",
        "        # Backward pass\n",
        "        optimizer.zero_grad()\n",
        "        loss.backward()\n",
        "        optimizer.step()\n",
        "\n",
        "        # Accumulate loss\n",
        "        epoch_loss += loss.item()\n",
        "\n",
        "    # Store the average loss for this epoch\n",
        "    loss_history.append(epoch_loss / len(data_loader))\n",
        "    print(f\"Epoch {epoch+1}, Loss: {epoch_loss:.4f}\")"
      ],
      "metadata": {
        "colab": {
          "base_uri": "https://localhost:8080/"
        },
        "collapsed": true,
        "id": "BpLQZTGZWp3I",
        "outputId": "dc2065c9-a417-4158-8b00-497aaf4d6d66"
      },
      "execution_count": 397,
      "outputs": [
        {
          "output_type": "stream",
          "name": "stderr",
          "text": [
            "Epoch 1/300: 100%|██████████| 25/25 [00:00<00:00, 706.68it/s]\n"
          ]
        },
        {
          "output_type": "stream",
          "name": "stdout",
          "text": [
            "Epoch 1, Loss: 17.4457\n"
          ]
        },
        {
          "output_type": "stream",
          "name": "stderr",
          "text": [
            "Epoch 2/300: 100%|██████████| 25/25 [00:00<00:00, 672.17it/s]\n"
          ]
        },
        {
          "output_type": "stream",
          "name": "stdout",
          "text": [
            "Epoch 2, Loss: 17.3012\n"
          ]
        },
        {
          "output_type": "stream",
          "name": "stderr",
          "text": [
            "Epoch 3/300: 100%|██████████| 25/25 [00:00<00:00, 644.98it/s]\n"
          ]
        },
        {
          "output_type": "stream",
          "name": "stdout",
          "text": [
            "Epoch 3, Loss: 17.2836\n"
          ]
        },
        {
          "output_type": "stream",
          "name": "stderr",
          "text": [
            "Epoch 4/300: 100%|██████████| 25/25 [00:00<00:00, 688.54it/s]\n"
          ]
        },
        {
          "output_type": "stream",
          "name": "stdout",
          "text": [
            "Epoch 4, Loss: 17.1664\n"
          ]
        },
        {
          "output_type": "stream",
          "name": "stderr",
          "text": [
            "Epoch 5/300: 100%|██████████| 25/25 [00:00<00:00, 706.29it/s]\n"
          ]
        },
        {
          "output_type": "stream",
          "name": "stdout",
          "text": [
            "Epoch 5, Loss: 17.0545\n"
          ]
        },
        {
          "output_type": "stream",
          "name": "stderr",
          "text": [
            "Epoch 6/300: 100%|██████████| 25/25 [00:00<00:00, 649.41it/s]\n"
          ]
        },
        {
          "output_type": "stream",
          "name": "stdout",
          "text": [
            "Epoch 6, Loss: 16.8813\n"
          ]
        },
        {
          "output_type": "stream",
          "name": "stderr",
          "text": [
            "Epoch 7/300: 100%|██████████| 25/25 [00:00<00:00, 656.01it/s]\n"
          ]
        },
        {
          "output_type": "stream",
          "name": "stdout",
          "text": [
            "Epoch 7, Loss: 16.7222\n"
          ]
        },
        {
          "output_type": "stream",
          "name": "stderr",
          "text": [
            "Epoch 8/300: 100%|██████████| 25/25 [00:00<00:00, 627.93it/s]\n"
          ]
        },
        {
          "output_type": "stream",
          "name": "stdout",
          "text": [
            "Epoch 8, Loss: 16.5196\n"
          ]
        },
        {
          "output_type": "stream",
          "name": "stderr",
          "text": [
            "Epoch 9/300: 100%|██████████| 25/25 [00:00<00:00, 643.31it/s]\n"
          ]
        },
        {
          "output_type": "stream",
          "name": "stdout",
          "text": [
            "Epoch 9, Loss: 16.3781\n"
          ]
        },
        {
          "output_type": "stream",
          "name": "stderr",
          "text": [
            "Epoch 10/300: 100%|██████████| 25/25 [00:00<00:00, 650.70it/s]\n"
          ]
        },
        {
          "output_type": "stream",
          "name": "stdout",
          "text": [
            "Epoch 10, Loss: 16.2552\n"
          ]
        },
        {
          "output_type": "stream",
          "name": "stderr",
          "text": [
            "Epoch 11/300: 100%|██████████| 25/25 [00:00<00:00, 660.04it/s]\n"
          ]
        },
        {
          "output_type": "stream",
          "name": "stdout",
          "text": [
            "Epoch 11, Loss: 16.1583\n"
          ]
        },
        {
          "output_type": "stream",
          "name": "stderr",
          "text": [
            "Epoch 12/300: 100%|██████████| 25/25 [00:00<00:00, 652.09it/s]\n"
          ]
        },
        {
          "output_type": "stream",
          "name": "stdout",
          "text": [
            "Epoch 12, Loss: 16.0685\n"
          ]
        },
        {
          "output_type": "stream",
          "name": "stderr",
          "text": [
            "Epoch 13/300: 100%|██████████| 25/25 [00:00<00:00, 531.38it/s]\n"
          ]
        },
        {
          "output_type": "stream",
          "name": "stdout",
          "text": [
            "Epoch 13, Loss: 15.9815\n"
          ]
        },
        {
          "output_type": "stream",
          "name": "stderr",
          "text": [
            "Epoch 14/300: 100%|██████████| 25/25 [00:00<00:00, 620.27it/s]\n"
          ]
        },
        {
          "output_type": "stream",
          "name": "stdout",
          "text": [
            "Epoch 14, Loss: 15.8797\n"
          ]
        },
        {
          "output_type": "stream",
          "name": "stderr",
          "text": [
            "Epoch 15/300: 100%|██████████| 25/25 [00:00<00:00, 571.78it/s]\n"
          ]
        },
        {
          "output_type": "stream",
          "name": "stdout",
          "text": [
            "Epoch 15, Loss: 15.8259\n"
          ]
        },
        {
          "output_type": "stream",
          "name": "stderr",
          "text": [
            "Epoch 16/300: 100%|██████████| 25/25 [00:00<00:00, 645.21it/s]\n"
          ]
        },
        {
          "output_type": "stream",
          "name": "stdout",
          "text": [
            "Epoch 16, Loss: 15.7267\n"
          ]
        },
        {
          "output_type": "stream",
          "name": "stderr",
          "text": [
            "Epoch 17/300: 100%|██████████| 25/25 [00:00<00:00, 658.18it/s]\n"
          ]
        },
        {
          "output_type": "stream",
          "name": "stdout",
          "text": [
            "Epoch 17, Loss: 15.6459\n"
          ]
        },
        {
          "output_type": "stream",
          "name": "stderr",
          "text": [
            "Epoch 18/300: 100%|██████████| 25/25 [00:00<00:00, 639.14it/s]\n"
          ]
        },
        {
          "output_type": "stream",
          "name": "stdout",
          "text": [
            "Epoch 18, Loss: 15.5526\n"
          ]
        },
        {
          "output_type": "stream",
          "name": "stderr",
          "text": [
            "Epoch 19/300: 100%|██████████| 25/25 [00:00<00:00, 516.60it/s]\n"
          ]
        },
        {
          "output_type": "stream",
          "name": "stdout",
          "text": [
            "Epoch 19, Loss: 15.4848\n"
          ]
        },
        {
          "output_type": "stream",
          "name": "stderr",
          "text": [
            "Epoch 20/300: 100%|██████████| 25/25 [00:00<00:00, 619.08it/s]\n"
          ]
        },
        {
          "output_type": "stream",
          "name": "stdout",
          "text": [
            "Epoch 20, Loss: 15.4330\n"
          ]
        },
        {
          "output_type": "stream",
          "name": "stderr",
          "text": [
            "Epoch 21/300: 100%|██████████| 25/25 [00:00<00:00, 663.98it/s]\n"
          ]
        },
        {
          "output_type": "stream",
          "name": "stdout",
          "text": [
            "Epoch 21, Loss: 15.3196\n"
          ]
        },
        {
          "output_type": "stream",
          "name": "stderr",
          "text": [
            "Epoch 22/300: 100%|██████████| 25/25 [00:00<00:00, 640.79it/s]\n"
          ]
        },
        {
          "output_type": "stream",
          "name": "stdout",
          "text": [
            "Epoch 22, Loss: 15.2713\n"
          ]
        },
        {
          "output_type": "stream",
          "name": "stderr",
          "text": [
            "Epoch 23/300: 100%|██████████| 25/25 [00:00<00:00, 648.95it/s]\n"
          ]
        },
        {
          "output_type": "stream",
          "name": "stdout",
          "text": [
            "Epoch 23, Loss: 15.2085\n"
          ]
        },
        {
          "output_type": "stream",
          "name": "stderr",
          "text": [
            "Epoch 24/300: 100%|██████████| 25/25 [00:00<00:00, 667.53it/s]\n"
          ]
        },
        {
          "output_type": "stream",
          "name": "stdout",
          "text": [
            "Epoch 24, Loss: 15.1663\n"
          ]
        },
        {
          "output_type": "stream",
          "name": "stderr",
          "text": [
            "Epoch 25/300: 100%|██████████| 25/25 [00:00<00:00, 679.99it/s]\n"
          ]
        },
        {
          "output_type": "stream",
          "name": "stdout",
          "text": [
            "Epoch 25, Loss: 15.1078\n"
          ]
        },
        {
          "output_type": "stream",
          "name": "stderr",
          "text": [
            "Epoch 26/300: 100%|██████████| 25/25 [00:00<00:00, 690.50it/s]\n"
          ]
        },
        {
          "output_type": "stream",
          "name": "stdout",
          "text": [
            "Epoch 26, Loss: 15.0975\n"
          ]
        },
        {
          "output_type": "stream",
          "name": "stderr",
          "text": [
            "Epoch 27/300: 100%|██████████| 25/25 [00:00<00:00, 674.76it/s]\n"
          ]
        },
        {
          "output_type": "stream",
          "name": "stdout",
          "text": [
            "Epoch 27, Loss: 15.0730\n"
          ]
        },
        {
          "output_type": "stream",
          "name": "stderr",
          "text": [
            "Epoch 28/300: 100%|██████████| 25/25 [00:00<00:00, 644.09it/s]\n"
          ]
        },
        {
          "output_type": "stream",
          "name": "stdout",
          "text": [
            "Epoch 28, Loss: 15.0134\n"
          ]
        },
        {
          "output_type": "stream",
          "name": "stderr",
          "text": [
            "Epoch 29/300: 100%|██████████| 25/25 [00:00<00:00, 654.21it/s]\n"
          ]
        },
        {
          "output_type": "stream",
          "name": "stdout",
          "text": [
            "Epoch 29, Loss: 14.9828\n"
          ]
        },
        {
          "output_type": "stream",
          "name": "stderr",
          "text": [
            "Epoch 30/300: 100%|██████████| 25/25 [00:00<00:00, 631.73it/s]\n"
          ]
        },
        {
          "output_type": "stream",
          "name": "stdout",
          "text": [
            "Epoch 30, Loss: 14.9701\n"
          ]
        },
        {
          "output_type": "stream",
          "name": "stderr",
          "text": [
            "Epoch 31/300: 100%|██████████| 25/25 [00:00<00:00, 569.23it/s]\n"
          ]
        },
        {
          "output_type": "stream",
          "name": "stdout",
          "text": [
            "Epoch 31, Loss: 14.9304\n"
          ]
        },
        {
          "output_type": "stream",
          "name": "stderr",
          "text": [
            "Epoch 32/300: 100%|██████████| 25/25 [00:00<00:00, 657.54it/s]\n"
          ]
        },
        {
          "output_type": "stream",
          "name": "stdout",
          "text": [
            "Epoch 32, Loss: 14.9115\n"
          ]
        },
        {
          "output_type": "stream",
          "name": "stderr",
          "text": [
            "Epoch 33/300: 100%|██████████| 25/25 [00:00<00:00, 665.25it/s]\n"
          ]
        },
        {
          "output_type": "stream",
          "name": "stdout",
          "text": [
            "Epoch 33, Loss: 14.9163\n"
          ]
        },
        {
          "output_type": "stream",
          "name": "stderr",
          "text": [
            "Epoch 34/300: 100%|██████████| 25/25 [00:00<00:00, 662.77it/s]\n"
          ]
        },
        {
          "output_type": "stream",
          "name": "stdout",
          "text": [
            "Epoch 34, Loss: 14.8892\n"
          ]
        },
        {
          "output_type": "stream",
          "name": "stderr",
          "text": [
            "Epoch 35/300: 100%|██████████| 25/25 [00:00<00:00, 605.17it/s]\n"
          ]
        },
        {
          "output_type": "stream",
          "name": "stdout",
          "text": [
            "Epoch 35, Loss: 14.8773\n"
          ]
        },
        {
          "output_type": "stream",
          "name": "stderr",
          "text": [
            "Epoch 36/300: 100%|██████████| 25/25 [00:00<00:00, 594.55it/s]\n"
          ]
        },
        {
          "output_type": "stream",
          "name": "stdout",
          "text": [
            "Epoch 36, Loss: 14.9354\n"
          ]
        },
        {
          "output_type": "stream",
          "name": "stderr",
          "text": [
            "Epoch 37/300: 100%|██████████| 25/25 [00:00<00:00, 614.09it/s]\n"
          ]
        },
        {
          "output_type": "stream",
          "name": "stdout",
          "text": [
            "Epoch 37, Loss: 14.9187\n"
          ]
        },
        {
          "output_type": "stream",
          "name": "stderr",
          "text": [
            "Epoch 38/300: 100%|██████████| 25/25 [00:00<00:00, 624.25it/s]\n"
          ]
        },
        {
          "output_type": "stream",
          "name": "stdout",
          "text": [
            "Epoch 38, Loss: 14.8856\n"
          ]
        },
        {
          "output_type": "stream",
          "name": "stderr",
          "text": [
            "Epoch 39/300: 100%|██████████| 25/25 [00:00<00:00, 672.10it/s]\n"
          ]
        },
        {
          "output_type": "stream",
          "name": "stdout",
          "text": [
            "Epoch 39, Loss: 14.8577\n"
          ]
        },
        {
          "output_type": "stream",
          "name": "stderr",
          "text": [
            "Epoch 40/300: 100%|██████████| 25/25 [00:00<00:00, 677.53it/s]\n"
          ]
        },
        {
          "output_type": "stream",
          "name": "stdout",
          "text": [
            "Epoch 40, Loss: 14.8254\n"
          ]
        },
        {
          "output_type": "stream",
          "name": "stderr",
          "text": [
            "Epoch 41/300: 100%|██████████| 25/25 [00:00<00:00, 644.80it/s]\n"
          ]
        },
        {
          "output_type": "stream",
          "name": "stdout",
          "text": [
            "Epoch 41, Loss: 14.8373\n"
          ]
        },
        {
          "output_type": "stream",
          "name": "stderr",
          "text": [
            "Epoch 42/300: 100%|██████████| 25/25 [00:00<00:00, 653.31it/s]\n"
          ]
        },
        {
          "output_type": "stream",
          "name": "stdout",
          "text": [
            "Epoch 42, Loss: 14.8300\n"
          ]
        },
        {
          "output_type": "stream",
          "name": "stderr",
          "text": [
            "Epoch 43/300: 100%|██████████| 25/25 [00:00<00:00, 518.25it/s]\n"
          ]
        },
        {
          "output_type": "stream",
          "name": "stdout",
          "text": [
            "Epoch 43, Loss: 14.8457\n"
          ]
        },
        {
          "output_type": "stream",
          "name": "stderr",
          "text": [
            "Epoch 44/300: 100%|██████████| 25/25 [00:00<00:00, 663.61it/s]\n"
          ]
        },
        {
          "output_type": "stream",
          "name": "stdout",
          "text": [
            "Epoch 44, Loss: 14.8021\n"
          ]
        },
        {
          "output_type": "stream",
          "name": "stderr",
          "text": [
            "Epoch 45/300: 100%|██████████| 25/25 [00:00<00:00, 664.94it/s]\n"
          ]
        },
        {
          "output_type": "stream",
          "name": "stdout",
          "text": [
            "Epoch 45, Loss: 14.7991\n"
          ]
        },
        {
          "output_type": "stream",
          "name": "stderr",
          "text": [
            "Epoch 46/300: 100%|██████████| 25/25 [00:00<00:00, 667.36it/s]\n"
          ]
        },
        {
          "output_type": "stream",
          "name": "stdout",
          "text": [
            "Epoch 46, Loss: 14.8017\n"
          ]
        },
        {
          "output_type": "stream",
          "name": "stderr",
          "text": [
            "Epoch 47/300: 100%|██████████| 25/25 [00:00<00:00, 692.63it/s]\n"
          ]
        },
        {
          "output_type": "stream",
          "name": "stdout",
          "text": [
            "Epoch 47, Loss: 14.8015\n"
          ]
        },
        {
          "output_type": "stream",
          "name": "stderr",
          "text": [
            "Epoch 48/300: 100%|██████████| 25/25 [00:00<00:00, 692.03it/s]\n"
          ]
        },
        {
          "output_type": "stream",
          "name": "stdout",
          "text": [
            "Epoch 48, Loss: 14.8122\n"
          ]
        },
        {
          "output_type": "stream",
          "name": "stderr",
          "text": [
            "Epoch 49/300: 100%|██████████| 25/25 [00:00<00:00, 621.95it/s]\n"
          ]
        },
        {
          "output_type": "stream",
          "name": "stdout",
          "text": [
            "Epoch 49, Loss: 14.7798\n"
          ]
        },
        {
          "output_type": "stream",
          "name": "stderr",
          "text": [
            "Epoch 50/300: 100%|██████████| 25/25 [00:00<00:00, 656.69it/s]\n"
          ]
        },
        {
          "output_type": "stream",
          "name": "stdout",
          "text": [
            "Epoch 50, Loss: 14.7758\n"
          ]
        },
        {
          "output_type": "stream",
          "name": "stderr",
          "text": [
            "Epoch 51/300: 100%|██████████| 25/25 [00:00<00:00, 665.65it/s]\n"
          ]
        },
        {
          "output_type": "stream",
          "name": "stdout",
          "text": [
            "Epoch 51, Loss: 14.7770\n"
          ]
        },
        {
          "output_type": "stream",
          "name": "stderr",
          "text": [
            "Epoch 52/300: 100%|██████████| 25/25 [00:00<00:00, 633.60it/s]\n"
          ]
        },
        {
          "output_type": "stream",
          "name": "stdout",
          "text": [
            "Epoch 52, Loss: 14.7671\n"
          ]
        },
        {
          "output_type": "stream",
          "name": "stderr",
          "text": [
            "Epoch 53/300: 100%|██████████| 25/25 [00:00<00:00, 667.72it/s]\n"
          ]
        },
        {
          "output_type": "stream",
          "name": "stdout",
          "text": [
            "Epoch 53, Loss: 14.7615\n"
          ]
        },
        {
          "output_type": "stream",
          "name": "stderr",
          "text": [
            "Epoch 54/300: 100%|██████████| 25/25 [00:00<00:00, 579.70it/s]\n"
          ]
        },
        {
          "output_type": "stream",
          "name": "stdout",
          "text": [
            "Epoch 54, Loss: 14.7535\n"
          ]
        },
        {
          "output_type": "stream",
          "name": "stderr",
          "text": [
            "Epoch 55/300: 100%|██████████| 25/25 [00:00<00:00, 461.96it/s]\n"
          ]
        },
        {
          "output_type": "stream",
          "name": "stdout",
          "text": [
            "Epoch 55, Loss: 14.8400\n"
          ]
        },
        {
          "output_type": "stream",
          "name": "stderr",
          "text": [
            "Epoch 56/300: 100%|██████████| 25/25 [00:00<00:00, 513.30it/s]\n"
          ]
        },
        {
          "output_type": "stream",
          "name": "stdout",
          "text": [
            "Epoch 56, Loss: 14.7571\n"
          ]
        },
        {
          "output_type": "stream",
          "name": "stderr",
          "text": [
            "Epoch 57/300: 100%|██████████| 25/25 [00:00<00:00, 665.72it/s]\n"
          ]
        },
        {
          "output_type": "stream",
          "name": "stdout",
          "text": [
            "Epoch 57, Loss: 14.7685\n"
          ]
        },
        {
          "output_type": "stream",
          "name": "stderr",
          "text": [
            "Epoch 58/300: 100%|██████████| 25/25 [00:00<00:00, 676.50it/s]\n"
          ]
        },
        {
          "output_type": "stream",
          "name": "stdout",
          "text": [
            "Epoch 58, Loss: 14.7517\n"
          ]
        },
        {
          "output_type": "stream",
          "name": "stderr",
          "text": [
            "Epoch 59/300: 100%|██████████| 25/25 [00:00<00:00, 611.50it/s]\n"
          ]
        },
        {
          "output_type": "stream",
          "name": "stdout",
          "text": [
            "Epoch 59, Loss: 14.7344\n"
          ]
        },
        {
          "output_type": "stream",
          "name": "stderr",
          "text": [
            "Epoch 60/300: 100%|██████████| 25/25 [00:00<00:00, 619.35it/s]\n"
          ]
        },
        {
          "output_type": "stream",
          "name": "stdout",
          "text": [
            "Epoch 60, Loss: 14.7389\n"
          ]
        },
        {
          "output_type": "stream",
          "name": "stderr",
          "text": [
            "Epoch 61/300: 100%|██████████| 25/25 [00:00<00:00, 662.26it/s]\n"
          ]
        },
        {
          "output_type": "stream",
          "name": "stdout",
          "text": [
            "Epoch 61, Loss: 14.7323\n"
          ]
        },
        {
          "output_type": "stream",
          "name": "stderr",
          "text": [
            "Epoch 62/300: 100%|██████████| 25/25 [00:00<00:00, 638.81it/s]\n"
          ]
        },
        {
          "output_type": "stream",
          "name": "stdout",
          "text": [
            "Epoch 62, Loss: 14.8062\n"
          ]
        },
        {
          "output_type": "stream",
          "name": "stderr",
          "text": [
            "Epoch 63/300: 100%|██████████| 25/25 [00:00<00:00, 695.66it/s]\n"
          ]
        },
        {
          "output_type": "stream",
          "name": "stdout",
          "text": [
            "Epoch 63, Loss: 14.7094\n"
          ]
        },
        {
          "output_type": "stream",
          "name": "stderr",
          "text": [
            "Epoch 64/300: 100%|██████████| 25/25 [00:00<00:00, 675.54it/s]\n"
          ]
        },
        {
          "output_type": "stream",
          "name": "stdout",
          "text": [
            "Epoch 64, Loss: 14.7230\n"
          ]
        },
        {
          "output_type": "stream",
          "name": "stderr",
          "text": [
            "Epoch 65/300: 100%|██████████| 25/25 [00:00<00:00, 673.31it/s]\n"
          ]
        },
        {
          "output_type": "stream",
          "name": "stdout",
          "text": [
            "Epoch 65, Loss: 14.7068\n"
          ]
        },
        {
          "output_type": "stream",
          "name": "stderr",
          "text": [
            "Epoch 66/300: 100%|██████████| 25/25 [00:00<00:00, 542.74it/s]\n"
          ]
        },
        {
          "output_type": "stream",
          "name": "stdout",
          "text": [
            "Epoch 66, Loss: 14.7164\n"
          ]
        },
        {
          "output_type": "stream",
          "name": "stderr",
          "text": [
            "Epoch 67/300: 100%|██████████| 25/25 [00:00<00:00, 671.11it/s]\n"
          ]
        },
        {
          "output_type": "stream",
          "name": "stdout",
          "text": [
            "Epoch 67, Loss: 14.7028\n"
          ]
        },
        {
          "output_type": "stream",
          "name": "stderr",
          "text": [
            "Epoch 68/300: 100%|██████████| 25/25 [00:00<00:00, 673.55it/s]\n"
          ]
        },
        {
          "output_type": "stream",
          "name": "stdout",
          "text": [
            "Epoch 68, Loss: 14.7040\n"
          ]
        },
        {
          "output_type": "stream",
          "name": "stderr",
          "text": [
            "Epoch 69/300: 100%|██████████| 25/25 [00:00<00:00, 652.84it/s]\n"
          ]
        },
        {
          "output_type": "stream",
          "name": "stdout",
          "text": [
            "Epoch 69, Loss: 14.7233\n"
          ]
        },
        {
          "output_type": "stream",
          "name": "stderr",
          "text": [
            "Epoch 70/300: 100%|██████████| 25/25 [00:00<00:00, 677.30it/s]\n"
          ]
        },
        {
          "output_type": "stream",
          "name": "stdout",
          "text": [
            "Epoch 70, Loss: 14.7305\n"
          ]
        },
        {
          "output_type": "stream",
          "name": "stderr",
          "text": [
            "Epoch 71/300: 100%|██████████| 25/25 [00:00<00:00, 701.18it/s]\n"
          ]
        },
        {
          "output_type": "stream",
          "name": "stdout",
          "text": [
            "Epoch 71, Loss: 14.6766\n"
          ]
        },
        {
          "output_type": "stream",
          "name": "stderr",
          "text": [
            "Epoch 72/300: 100%|██████████| 25/25 [00:00<00:00, 678.40it/s]\n"
          ]
        },
        {
          "output_type": "stream",
          "name": "stdout",
          "text": [
            "Epoch 72, Loss: 14.7137\n"
          ]
        },
        {
          "output_type": "stream",
          "name": "stderr",
          "text": [
            "Epoch 73/300: 100%|██████████| 25/25 [00:00<00:00, 611.26it/s]\n"
          ]
        },
        {
          "output_type": "stream",
          "name": "stdout",
          "text": [
            "Epoch 73, Loss: 14.6941\n"
          ]
        },
        {
          "output_type": "stream",
          "name": "stderr",
          "text": [
            "Epoch 74/300: 100%|██████████| 25/25 [00:00<00:00, 553.67it/s]\n"
          ]
        },
        {
          "output_type": "stream",
          "name": "stdout",
          "text": [
            "Epoch 74, Loss: 14.6857\n"
          ]
        },
        {
          "output_type": "stream",
          "name": "stderr",
          "text": [
            "Epoch 75/300: 100%|██████████| 25/25 [00:00<00:00, 625.98it/s]\n"
          ]
        },
        {
          "output_type": "stream",
          "name": "stdout",
          "text": [
            "Epoch 75, Loss: 14.6976\n"
          ]
        },
        {
          "output_type": "stream",
          "name": "stderr",
          "text": [
            "Epoch 76/300: 100%|██████████| 25/25 [00:00<00:00, 620.29it/s]\n"
          ]
        },
        {
          "output_type": "stream",
          "name": "stdout",
          "text": [
            "Epoch 76, Loss: 14.7019\n"
          ]
        },
        {
          "output_type": "stream",
          "name": "stderr",
          "text": [
            "Epoch 77/300: 100%|██████████| 25/25 [00:00<00:00, 464.14it/s]\n"
          ]
        },
        {
          "output_type": "stream",
          "name": "stdout",
          "text": [
            "Epoch 77, Loss: 14.6647\n"
          ]
        },
        {
          "output_type": "stream",
          "name": "stderr",
          "text": [
            "Epoch 78/300: 100%|██████████| 25/25 [00:00<00:00, 574.70it/s]\n"
          ]
        },
        {
          "output_type": "stream",
          "name": "stdout",
          "text": [
            "Epoch 78, Loss: 14.6732\n"
          ]
        },
        {
          "output_type": "stream",
          "name": "stderr",
          "text": [
            "Epoch 79/300: 100%|██████████| 25/25 [00:00<00:00, 632.59it/s]\n"
          ]
        },
        {
          "output_type": "stream",
          "name": "stdout",
          "text": [
            "Epoch 79, Loss: 14.7227\n"
          ]
        },
        {
          "output_type": "stream",
          "name": "stderr",
          "text": [
            "Epoch 80/300: 100%|██████████| 25/25 [00:00<00:00, 599.73it/s]\n"
          ]
        },
        {
          "output_type": "stream",
          "name": "stdout",
          "text": [
            "Epoch 80, Loss: 14.6954\n"
          ]
        },
        {
          "output_type": "stream",
          "name": "stderr",
          "text": [
            "Epoch 81/300: 100%|██████████| 25/25 [00:00<00:00, 667.07it/s]\n"
          ]
        },
        {
          "output_type": "stream",
          "name": "stdout",
          "text": [
            "Epoch 81, Loss: 14.6515\n"
          ]
        },
        {
          "output_type": "stream",
          "name": "stderr",
          "text": [
            "Epoch 82/300: 100%|██████████| 25/25 [00:00<00:00, 651.64it/s]\n"
          ]
        },
        {
          "output_type": "stream",
          "name": "stdout",
          "text": [
            "Epoch 82, Loss: 14.6813\n"
          ]
        },
        {
          "output_type": "stream",
          "name": "stderr",
          "text": [
            "Epoch 83/300: 100%|██████████| 25/25 [00:00<00:00, 613.27it/s]\n"
          ]
        },
        {
          "output_type": "stream",
          "name": "stdout",
          "text": [
            "Epoch 83, Loss: 14.6277\n"
          ]
        },
        {
          "output_type": "stream",
          "name": "stderr",
          "text": [
            "Epoch 84/300: 100%|██████████| 25/25 [00:00<00:00, 686.43it/s]\n"
          ]
        },
        {
          "output_type": "stream",
          "name": "stdout",
          "text": [
            "Epoch 84, Loss: 14.6444\n"
          ]
        },
        {
          "output_type": "stream",
          "name": "stderr",
          "text": [
            "Epoch 85/300: 100%|██████████| 25/25 [00:00<00:00, 605.33it/s]\n"
          ]
        },
        {
          "output_type": "stream",
          "name": "stdout",
          "text": [
            "Epoch 85, Loss: 14.6721\n"
          ]
        },
        {
          "output_type": "stream",
          "name": "stderr",
          "text": [
            "Epoch 86/300: 100%|██████████| 25/25 [00:00<00:00, 673.44it/s]\n"
          ]
        },
        {
          "output_type": "stream",
          "name": "stdout",
          "text": [
            "Epoch 86, Loss: 14.6547\n"
          ]
        },
        {
          "output_type": "stream",
          "name": "stderr",
          "text": [
            "Epoch 87/300: 100%|██████████| 25/25 [00:00<00:00, 645.52it/s]\n"
          ]
        },
        {
          "output_type": "stream",
          "name": "stdout",
          "text": [
            "Epoch 87, Loss: 14.6322\n"
          ]
        },
        {
          "output_type": "stream",
          "name": "stderr",
          "text": [
            "Epoch 88/300: 100%|██████████| 25/25 [00:00<00:00, 654.75it/s]\n"
          ]
        },
        {
          "output_type": "stream",
          "name": "stdout",
          "text": [
            "Epoch 88, Loss: 14.6228\n"
          ]
        },
        {
          "output_type": "stream",
          "name": "stderr",
          "text": [
            "Epoch 89/300: 100%|██████████| 25/25 [00:00<00:00, 496.02it/s]\n"
          ]
        },
        {
          "output_type": "stream",
          "name": "stdout",
          "text": [
            "Epoch 89, Loss: 14.6507\n"
          ]
        },
        {
          "output_type": "stream",
          "name": "stderr",
          "text": [
            "Epoch 90/300: 100%|██████████| 25/25 [00:00<00:00, 603.52it/s]\n"
          ]
        },
        {
          "output_type": "stream",
          "name": "stdout",
          "text": [
            "Epoch 90, Loss: 14.6218\n"
          ]
        },
        {
          "output_type": "stream",
          "name": "stderr",
          "text": [
            "Epoch 91/300: 100%|██████████| 25/25 [00:00<00:00, 651.10it/s]\n"
          ]
        },
        {
          "output_type": "stream",
          "name": "stdout",
          "text": [
            "Epoch 91, Loss: 14.6207\n"
          ]
        },
        {
          "output_type": "stream",
          "name": "stderr",
          "text": [
            "Epoch 92/300: 100%|██████████| 25/25 [00:00<00:00, 684.65it/s]\n"
          ]
        },
        {
          "output_type": "stream",
          "name": "stdout",
          "text": [
            "Epoch 92, Loss: 14.6136\n"
          ]
        },
        {
          "output_type": "stream",
          "name": "stderr",
          "text": [
            "Epoch 93/300: 100%|██████████| 25/25 [00:00<00:00, 630.76it/s]\n"
          ]
        },
        {
          "output_type": "stream",
          "name": "stdout",
          "text": [
            "Epoch 93, Loss: 14.6258\n"
          ]
        },
        {
          "output_type": "stream",
          "name": "stderr",
          "text": [
            "Epoch 94/300: 100%|██████████| 25/25 [00:00<00:00, 661.24it/s]\n"
          ]
        },
        {
          "output_type": "stream",
          "name": "stdout",
          "text": [
            "Epoch 94, Loss: 14.6058\n"
          ]
        },
        {
          "output_type": "stream",
          "name": "stderr",
          "text": [
            "Epoch 95/300: 100%|██████████| 25/25 [00:00<00:00, 693.00it/s]\n"
          ]
        },
        {
          "output_type": "stream",
          "name": "stdout",
          "text": [
            "Epoch 95, Loss: 14.6733\n"
          ]
        },
        {
          "output_type": "stream",
          "name": "stderr",
          "text": [
            "Epoch 96/300: 100%|██████████| 25/25 [00:00<00:00, 648.13it/s]\n"
          ]
        },
        {
          "output_type": "stream",
          "name": "stdout",
          "text": [
            "Epoch 96, Loss: 14.6047\n"
          ]
        },
        {
          "output_type": "stream",
          "name": "stderr",
          "text": [
            "Epoch 97/300: 100%|██████████| 25/25 [00:00<00:00, 589.65it/s]\n"
          ]
        },
        {
          "output_type": "stream",
          "name": "stdout",
          "text": [
            "Epoch 97, Loss: 14.6482\n"
          ]
        },
        {
          "output_type": "stream",
          "name": "stderr",
          "text": [
            "Epoch 98/300: 100%|██████████| 25/25 [00:00<00:00, 664.88it/s]\n"
          ]
        },
        {
          "output_type": "stream",
          "name": "stdout",
          "text": [
            "Epoch 98, Loss: 14.6294\n"
          ]
        },
        {
          "output_type": "stream",
          "name": "stderr",
          "text": [
            "Epoch 99/300: 100%|██████████| 25/25 [00:00<00:00, 655.20it/s]\n"
          ]
        },
        {
          "output_type": "stream",
          "name": "stdout",
          "text": [
            "Epoch 99, Loss: 14.6006\n"
          ]
        },
        {
          "output_type": "stream",
          "name": "stderr",
          "text": [
            "Epoch 100/300: 100%|██████████| 25/25 [00:00<00:00, 641.59it/s]\n"
          ]
        },
        {
          "output_type": "stream",
          "name": "stdout",
          "text": [
            "Epoch 100, Loss: 14.6253\n"
          ]
        },
        {
          "output_type": "stream",
          "name": "stderr",
          "text": [
            "Epoch 101/300: 100%|██████████| 25/25 [00:00<00:00, 578.47it/s]\n"
          ]
        },
        {
          "output_type": "stream",
          "name": "stdout",
          "text": [
            "Epoch 101, Loss: 14.5946\n"
          ]
        },
        {
          "output_type": "stream",
          "name": "stderr",
          "text": [
            "Epoch 102/300: 100%|██████████| 25/25 [00:00<00:00, 512.61it/s]\n"
          ]
        },
        {
          "output_type": "stream",
          "name": "stdout",
          "text": [
            "Epoch 102, Loss: 14.5921\n"
          ]
        },
        {
          "output_type": "stream",
          "name": "stderr",
          "text": [
            "Epoch 103/300: 100%|██████████| 25/25 [00:00<00:00, 484.68it/s]\n"
          ]
        },
        {
          "output_type": "stream",
          "name": "stdout",
          "text": [
            "Epoch 103, Loss: 14.5940\n"
          ]
        },
        {
          "output_type": "stream",
          "name": "stderr",
          "text": [
            "Epoch 104/300: 100%|██████████| 25/25 [00:00<00:00, 483.49it/s]\n"
          ]
        },
        {
          "output_type": "stream",
          "name": "stdout",
          "text": [
            "Epoch 104, Loss: 14.5968\n"
          ]
        },
        {
          "output_type": "stream",
          "name": "stderr",
          "text": [
            "Epoch 105/300: 100%|██████████| 25/25 [00:00<00:00, 475.27it/s]\n"
          ]
        },
        {
          "output_type": "stream",
          "name": "stdout",
          "text": [
            "Epoch 105, Loss: 14.6103\n"
          ]
        },
        {
          "output_type": "stream",
          "name": "stderr",
          "text": [
            "Epoch 106/300: 100%|██████████| 25/25 [00:00<00:00, 628.83it/s]\n"
          ]
        },
        {
          "output_type": "stream",
          "name": "stdout",
          "text": [
            "Epoch 106, Loss: 14.5924\n"
          ]
        },
        {
          "output_type": "stream",
          "name": "stderr",
          "text": [
            "Epoch 107/300: 100%|██████████| 25/25 [00:00<00:00, 624.54it/s]\n"
          ]
        },
        {
          "output_type": "stream",
          "name": "stdout",
          "text": [
            "Epoch 107, Loss: 14.7052\n"
          ]
        },
        {
          "output_type": "stream",
          "name": "stderr",
          "text": [
            "Epoch 108/300: 100%|██████████| 25/25 [00:00<00:00, 628.47it/s]\n"
          ]
        },
        {
          "output_type": "stream",
          "name": "stdout",
          "text": [
            "Epoch 108, Loss: 14.5605\n"
          ]
        },
        {
          "output_type": "stream",
          "name": "stderr",
          "text": [
            "Epoch 109/300: 100%|██████████| 25/25 [00:00<00:00, 478.72it/s]\n"
          ]
        },
        {
          "output_type": "stream",
          "name": "stdout",
          "text": [
            "Epoch 109, Loss: 14.5670\n"
          ]
        },
        {
          "output_type": "stream",
          "name": "stderr",
          "text": [
            "Epoch 110/300: 100%|██████████| 25/25 [00:00<00:00, 577.37it/s]\n"
          ]
        },
        {
          "output_type": "stream",
          "name": "stdout",
          "text": [
            "Epoch 110, Loss: 14.5930\n"
          ]
        },
        {
          "output_type": "stream",
          "name": "stderr",
          "text": [
            "Epoch 111/300: 100%|██████████| 25/25 [00:00<00:00, 462.45it/s]\n"
          ]
        },
        {
          "output_type": "stream",
          "name": "stdout",
          "text": [
            "Epoch 111, Loss: 14.6085\n"
          ]
        },
        {
          "output_type": "stream",
          "name": "stderr",
          "text": [
            "Epoch 112/300: 100%|██████████| 25/25 [00:00<00:00, 660.80it/s]\n"
          ]
        },
        {
          "output_type": "stream",
          "name": "stdout",
          "text": [
            "Epoch 112, Loss: 14.5736\n"
          ]
        },
        {
          "output_type": "stream",
          "name": "stderr",
          "text": [
            "Epoch 113/300: 100%|██████████| 25/25 [00:00<00:00, 642.95it/s]\n"
          ]
        },
        {
          "output_type": "stream",
          "name": "stdout",
          "text": [
            "Epoch 113, Loss: 14.5505\n"
          ]
        },
        {
          "output_type": "stream",
          "name": "stderr",
          "text": [
            "Epoch 114/300: 100%|██████████| 25/25 [00:00<00:00, 598.42it/s]\n"
          ]
        },
        {
          "output_type": "stream",
          "name": "stdout",
          "text": [
            "Epoch 114, Loss: 14.5567\n"
          ]
        },
        {
          "output_type": "stream",
          "name": "stderr",
          "text": [
            "Epoch 115/300: 100%|██████████| 25/25 [00:00<00:00, 617.39it/s]\n"
          ]
        },
        {
          "output_type": "stream",
          "name": "stdout",
          "text": [
            "Epoch 115, Loss: 14.5558\n"
          ]
        },
        {
          "output_type": "stream",
          "name": "stderr",
          "text": [
            "Epoch 116/300: 100%|██████████| 25/25 [00:00<00:00, 628.34it/s]\n"
          ]
        },
        {
          "output_type": "stream",
          "name": "stdout",
          "text": [
            "Epoch 116, Loss: 14.5636\n"
          ]
        },
        {
          "output_type": "stream",
          "name": "stderr",
          "text": [
            "Epoch 117/300: 100%|██████████| 25/25 [00:00<00:00, 609.31it/s]\n"
          ]
        },
        {
          "output_type": "stream",
          "name": "stdout",
          "text": [
            "Epoch 117, Loss: 14.5478\n"
          ]
        },
        {
          "output_type": "stream",
          "name": "stderr",
          "text": [
            "Epoch 118/300: 100%|██████████| 25/25 [00:00<00:00, 659.80it/s]\n"
          ]
        },
        {
          "output_type": "stream",
          "name": "stdout",
          "text": [
            "Epoch 118, Loss: 14.5598\n"
          ]
        },
        {
          "output_type": "stream",
          "name": "stderr",
          "text": [
            "Epoch 119/300: 100%|██████████| 25/25 [00:00<00:00, 664.35it/s]\n"
          ]
        },
        {
          "output_type": "stream",
          "name": "stdout",
          "text": [
            "Epoch 119, Loss: 14.5697\n"
          ]
        },
        {
          "output_type": "stream",
          "name": "stderr",
          "text": [
            "Epoch 120/300: 100%|██████████| 25/25 [00:00<00:00, 614.43it/s]\n"
          ]
        },
        {
          "output_type": "stream",
          "name": "stdout",
          "text": [
            "Epoch 120, Loss: 14.5522\n"
          ]
        },
        {
          "output_type": "stream",
          "name": "stderr",
          "text": [
            "Epoch 121/300: 100%|██████████| 25/25 [00:00<00:00, 647.18it/s]\n"
          ]
        },
        {
          "output_type": "stream",
          "name": "stdout",
          "text": [
            "Epoch 121, Loss: 14.5392\n"
          ]
        },
        {
          "output_type": "stream",
          "name": "stderr",
          "text": [
            "Epoch 122/300: 100%|██████████| 25/25 [00:00<00:00, 603.44it/s]\n"
          ]
        },
        {
          "output_type": "stream",
          "name": "stdout",
          "text": [
            "Epoch 122, Loss: 14.5390\n"
          ]
        },
        {
          "output_type": "stream",
          "name": "stderr",
          "text": [
            "Epoch 123/300: 100%|██████████| 25/25 [00:00<00:00, 614.68it/s]\n"
          ]
        },
        {
          "output_type": "stream",
          "name": "stdout",
          "text": [
            "Epoch 123, Loss: 14.5681\n"
          ]
        },
        {
          "output_type": "stream",
          "name": "stderr",
          "text": [
            "Epoch 124/300: 100%|██████████| 25/25 [00:00<00:00, 560.14it/s]\n"
          ]
        },
        {
          "output_type": "stream",
          "name": "stdout",
          "text": [
            "Epoch 124, Loss: 14.5542\n"
          ]
        },
        {
          "output_type": "stream",
          "name": "stderr",
          "text": [
            "Epoch 125/300: 100%|██████████| 25/25 [00:00<00:00, 659.54it/s]\n"
          ]
        },
        {
          "output_type": "stream",
          "name": "stdout",
          "text": [
            "Epoch 125, Loss: 14.5172\n"
          ]
        },
        {
          "output_type": "stream",
          "name": "stderr",
          "text": [
            "Epoch 126/300: 100%|██████████| 25/25 [00:00<00:00, 591.05it/s]\n"
          ]
        },
        {
          "output_type": "stream",
          "name": "stdout",
          "text": [
            "Epoch 126, Loss: 14.5342\n"
          ]
        },
        {
          "output_type": "stream",
          "name": "stderr",
          "text": [
            "Epoch 127/300: 100%|██████████| 25/25 [00:00<00:00, 678.47it/s]\n"
          ]
        },
        {
          "output_type": "stream",
          "name": "stdout",
          "text": [
            "Epoch 127, Loss: 14.5436\n"
          ]
        },
        {
          "output_type": "stream",
          "name": "stderr",
          "text": [
            "Epoch 128/300: 100%|██████████| 25/25 [00:00<00:00, 640.52it/s]\n"
          ]
        },
        {
          "output_type": "stream",
          "name": "stdout",
          "text": [
            "Epoch 128, Loss: 14.5608\n"
          ]
        },
        {
          "output_type": "stream",
          "name": "stderr",
          "text": [
            "Epoch 129/300: 100%|██████████| 25/25 [00:00<00:00, 578.46it/s]\n"
          ]
        },
        {
          "output_type": "stream",
          "name": "stdout",
          "text": [
            "Epoch 129, Loss: 14.5297\n"
          ]
        },
        {
          "output_type": "stream",
          "name": "stderr",
          "text": [
            "Epoch 130/300: 100%|██████████| 25/25 [00:00<00:00, 700.65it/s]\n"
          ]
        },
        {
          "output_type": "stream",
          "name": "stdout",
          "text": [
            "Epoch 130, Loss: 14.5483\n"
          ]
        },
        {
          "output_type": "stream",
          "name": "stderr",
          "text": [
            "Epoch 131/300: 100%|██████████| 25/25 [00:00<00:00, 616.19it/s]\n"
          ]
        },
        {
          "output_type": "stream",
          "name": "stdout",
          "text": [
            "Epoch 131, Loss: 14.5378\n"
          ]
        },
        {
          "output_type": "stream",
          "name": "stderr",
          "text": [
            "Epoch 132/300: 100%|██████████| 25/25 [00:00<00:00, 603.35it/s]\n"
          ]
        },
        {
          "output_type": "stream",
          "name": "stdout",
          "text": [
            "Epoch 132, Loss: 14.5262\n"
          ]
        },
        {
          "output_type": "stream",
          "name": "stderr",
          "text": [
            "Epoch 133/300: 100%|██████████| 25/25 [00:00<00:00, 652.24it/s]\n"
          ]
        },
        {
          "output_type": "stream",
          "name": "stdout",
          "text": [
            "Epoch 133, Loss: 14.4954\n"
          ]
        },
        {
          "output_type": "stream",
          "name": "stderr",
          "text": [
            "Epoch 134/300: 100%|██████████| 25/25 [00:00<00:00, 521.84it/s]\n"
          ]
        },
        {
          "output_type": "stream",
          "name": "stdout",
          "text": [
            "Epoch 134, Loss: 14.5185\n"
          ]
        },
        {
          "output_type": "stream",
          "name": "stderr",
          "text": [
            "Epoch 135/300: 100%|██████████| 25/25 [00:00<00:00, 668.96it/s]\n"
          ]
        },
        {
          "output_type": "stream",
          "name": "stdout",
          "text": [
            "Epoch 135, Loss: 14.5045\n"
          ]
        },
        {
          "output_type": "stream",
          "name": "stderr",
          "text": [
            "Epoch 136/300: 100%|██████████| 25/25 [00:00<00:00, 624.13it/s]\n"
          ]
        },
        {
          "output_type": "stream",
          "name": "stdout",
          "text": [
            "Epoch 136, Loss: 14.5111\n"
          ]
        },
        {
          "output_type": "stream",
          "name": "stderr",
          "text": [
            "Epoch 137/300: 100%|██████████| 25/25 [00:00<00:00, 682.39it/s]\n"
          ]
        },
        {
          "output_type": "stream",
          "name": "stdout",
          "text": [
            "Epoch 137, Loss: 14.5294\n"
          ]
        },
        {
          "output_type": "stream",
          "name": "stderr",
          "text": [
            "Epoch 138/300: 100%|██████████| 25/25 [00:00<00:00, 633.42it/s]\n"
          ]
        },
        {
          "output_type": "stream",
          "name": "stdout",
          "text": [
            "Epoch 138, Loss: 14.5531\n"
          ]
        },
        {
          "output_type": "stream",
          "name": "stderr",
          "text": [
            "Epoch 139/300: 100%|██████████| 25/25 [00:00<00:00, 631.98it/s]\n"
          ]
        },
        {
          "output_type": "stream",
          "name": "stdout",
          "text": [
            "Epoch 139, Loss: 14.5025\n"
          ]
        },
        {
          "output_type": "stream",
          "name": "stderr",
          "text": [
            "Epoch 140/300: 100%|██████████| 25/25 [00:00<00:00, 614.78it/s]\n"
          ]
        },
        {
          "output_type": "stream",
          "name": "stdout",
          "text": [
            "Epoch 140, Loss: 14.5003\n"
          ]
        },
        {
          "output_type": "stream",
          "name": "stderr",
          "text": [
            "Epoch 141/300: 100%|██████████| 25/25 [00:00<00:00, 601.50it/s]\n"
          ]
        },
        {
          "output_type": "stream",
          "name": "stdout",
          "text": [
            "Epoch 141, Loss: 14.5076\n"
          ]
        },
        {
          "output_type": "stream",
          "name": "stderr",
          "text": [
            "Epoch 142/300: 100%|██████████| 25/25 [00:00<00:00, 559.07it/s]\n"
          ]
        },
        {
          "output_type": "stream",
          "name": "stdout",
          "text": [
            "Epoch 142, Loss: 14.5070\n"
          ]
        },
        {
          "output_type": "stream",
          "name": "stderr",
          "text": [
            "Epoch 143/300: 100%|██████████| 25/25 [00:00<00:00, 589.94it/s]\n"
          ]
        },
        {
          "output_type": "stream",
          "name": "stdout",
          "text": [
            "Epoch 143, Loss: 14.4978\n"
          ]
        },
        {
          "output_type": "stream",
          "name": "stderr",
          "text": [
            "Epoch 144/300: 100%|██████████| 25/25 [00:00<00:00, 525.41it/s]\n"
          ]
        },
        {
          "output_type": "stream",
          "name": "stdout",
          "text": [
            "Epoch 144, Loss: 14.5042\n"
          ]
        },
        {
          "output_type": "stream",
          "name": "stderr",
          "text": [
            "Epoch 145/300: 100%|██████████| 25/25 [00:00<00:00, 515.43it/s]\n"
          ]
        },
        {
          "output_type": "stream",
          "name": "stdout",
          "text": [
            "Epoch 145, Loss: 14.4880\n"
          ]
        },
        {
          "output_type": "stream",
          "name": "stderr",
          "text": [
            "Epoch 146/300: 100%|██████████| 25/25 [00:00<00:00, 595.44it/s]\n"
          ]
        },
        {
          "output_type": "stream",
          "name": "stdout",
          "text": [
            "Epoch 146, Loss: 14.5154\n"
          ]
        },
        {
          "output_type": "stream",
          "name": "stderr",
          "text": [
            "Epoch 147/300: 100%|██████████| 25/25 [00:00<00:00, 605.39it/s]\n"
          ]
        },
        {
          "output_type": "stream",
          "name": "stdout",
          "text": [
            "Epoch 147, Loss: 14.4997\n"
          ]
        },
        {
          "output_type": "stream",
          "name": "stderr",
          "text": [
            "Epoch 148/300: 100%|██████████| 25/25 [00:00<00:00, 622.72it/s]\n"
          ]
        },
        {
          "output_type": "stream",
          "name": "stdout",
          "text": [
            "Epoch 148, Loss: 14.4795\n"
          ]
        },
        {
          "output_type": "stream",
          "name": "stderr",
          "text": [
            "Epoch 149/300: 100%|██████████| 25/25 [00:00<00:00, 624.18it/s]\n"
          ]
        },
        {
          "output_type": "stream",
          "name": "stdout",
          "text": [
            "Epoch 149, Loss: 14.5039\n"
          ]
        },
        {
          "output_type": "stream",
          "name": "stderr",
          "text": [
            "Epoch 150/300: 100%|██████████| 25/25 [00:00<00:00, 652.51it/s]\n"
          ]
        },
        {
          "output_type": "stream",
          "name": "stdout",
          "text": [
            "Epoch 150, Loss: 14.4833\n"
          ]
        },
        {
          "output_type": "stream",
          "name": "stderr",
          "text": [
            "Epoch 151/300: 100%|██████████| 25/25 [00:00<00:00, 631.50it/s]\n"
          ]
        },
        {
          "output_type": "stream",
          "name": "stdout",
          "text": [
            "Epoch 151, Loss: 14.4762\n"
          ]
        },
        {
          "output_type": "stream",
          "name": "stderr",
          "text": [
            "Epoch 152/300: 100%|██████████| 25/25 [00:00<00:00, 600.94it/s]\n"
          ]
        },
        {
          "output_type": "stream",
          "name": "stdout",
          "text": [
            "Epoch 152, Loss: 14.4824\n"
          ]
        },
        {
          "output_type": "stream",
          "name": "stderr",
          "text": [
            "Epoch 153/300: 100%|██████████| 25/25 [00:00<00:00, 619.26it/s]\n"
          ]
        },
        {
          "output_type": "stream",
          "name": "stdout",
          "text": [
            "Epoch 153, Loss: 14.4863\n"
          ]
        },
        {
          "output_type": "stream",
          "name": "stderr",
          "text": [
            "Epoch 154/300: 100%|██████████| 25/25 [00:00<00:00, 602.90it/s]\n"
          ]
        },
        {
          "output_type": "stream",
          "name": "stdout",
          "text": [
            "Epoch 154, Loss: 14.4796\n"
          ]
        },
        {
          "output_type": "stream",
          "name": "stderr",
          "text": [
            "Epoch 155/300: 100%|██████████| 25/25 [00:00<00:00, 578.52it/s]\n"
          ]
        },
        {
          "output_type": "stream",
          "name": "stdout",
          "text": [
            "Epoch 155, Loss: 14.4619\n"
          ]
        },
        {
          "output_type": "stream",
          "name": "stderr",
          "text": [
            "Epoch 156/300: 100%|██████████| 25/25 [00:00<00:00, 475.84it/s]\n"
          ]
        },
        {
          "output_type": "stream",
          "name": "stdout",
          "text": [
            "Epoch 156, Loss: 14.5112\n"
          ]
        },
        {
          "output_type": "stream",
          "name": "stderr",
          "text": [
            "Epoch 157/300: 100%|██████████| 25/25 [00:00<00:00, 620.39it/s]\n"
          ]
        },
        {
          "output_type": "stream",
          "name": "stdout",
          "text": [
            "Epoch 157, Loss: 14.4662\n"
          ]
        },
        {
          "output_type": "stream",
          "name": "stderr",
          "text": [
            "Epoch 158/300: 100%|██████████| 25/25 [00:00<00:00, 625.70it/s]\n"
          ]
        },
        {
          "output_type": "stream",
          "name": "stdout",
          "text": [
            "Epoch 158, Loss: 14.4742\n"
          ]
        },
        {
          "output_type": "stream",
          "name": "stderr",
          "text": [
            "Epoch 159/300: 100%|██████████| 25/25 [00:00<00:00, 628.00it/s]\n"
          ]
        },
        {
          "output_type": "stream",
          "name": "stdout",
          "text": [
            "Epoch 159, Loss: 14.4677\n"
          ]
        },
        {
          "output_type": "stream",
          "name": "stderr",
          "text": [
            "Epoch 160/300: 100%|██████████| 25/25 [00:00<00:00, 594.25it/s]\n"
          ]
        },
        {
          "output_type": "stream",
          "name": "stdout",
          "text": [
            "Epoch 160, Loss: 14.4552\n"
          ]
        },
        {
          "output_type": "stream",
          "name": "stderr",
          "text": [
            "Epoch 161/300: 100%|██████████| 25/25 [00:00<00:00, 628.92it/s]\n"
          ]
        },
        {
          "output_type": "stream",
          "name": "stdout",
          "text": [
            "Epoch 161, Loss: 14.4464\n"
          ]
        },
        {
          "output_type": "stream",
          "name": "stderr",
          "text": [
            "Epoch 162/300: 100%|██████████| 25/25 [00:00<00:00, 610.97it/s]\n"
          ]
        },
        {
          "output_type": "stream",
          "name": "stdout",
          "text": [
            "Epoch 162, Loss: 14.4352\n"
          ]
        },
        {
          "output_type": "stream",
          "name": "stderr",
          "text": [
            "Epoch 163/300: 100%|██████████| 25/25 [00:00<00:00, 640.92it/s]\n"
          ]
        },
        {
          "output_type": "stream",
          "name": "stdout",
          "text": [
            "Epoch 163, Loss: 14.4034\n"
          ]
        },
        {
          "output_type": "stream",
          "name": "stderr",
          "text": [
            "Epoch 164/300: 100%|██████████| 25/25 [00:00<00:00, 545.51it/s]\n"
          ]
        },
        {
          "output_type": "stream",
          "name": "stdout",
          "text": [
            "Epoch 164, Loss: 14.3832\n"
          ]
        },
        {
          "output_type": "stream",
          "name": "stderr",
          "text": [
            "Epoch 165/300: 100%|██████████| 25/25 [00:00<00:00, 602.44it/s]\n"
          ]
        },
        {
          "output_type": "stream",
          "name": "stdout",
          "text": [
            "Epoch 165, Loss: 14.3438\n"
          ]
        },
        {
          "output_type": "stream",
          "name": "stderr",
          "text": [
            "Epoch 166/300: 100%|██████████| 25/25 [00:00<00:00, 626.06it/s]\n"
          ]
        },
        {
          "output_type": "stream",
          "name": "stdout",
          "text": [
            "Epoch 166, Loss: 14.2585\n"
          ]
        },
        {
          "output_type": "stream",
          "name": "stderr",
          "text": [
            "Epoch 167/300: 100%|██████████| 25/25 [00:00<00:00, 598.16it/s]\n"
          ]
        },
        {
          "output_type": "stream",
          "name": "stdout",
          "text": [
            "Epoch 167, Loss: 14.1750\n"
          ]
        },
        {
          "output_type": "stream",
          "name": "stderr",
          "text": [
            "Epoch 168/300: 100%|██████████| 25/25 [00:00<00:00, 527.53it/s]\n"
          ]
        },
        {
          "output_type": "stream",
          "name": "stdout",
          "text": [
            "Epoch 168, Loss: 14.0759\n"
          ]
        },
        {
          "output_type": "stream",
          "name": "stderr",
          "text": [
            "Epoch 169/300: 100%|██████████| 25/25 [00:00<00:00, 579.36it/s]\n"
          ]
        },
        {
          "output_type": "stream",
          "name": "stdout",
          "text": [
            "Epoch 169, Loss: 13.9242\n"
          ]
        },
        {
          "output_type": "stream",
          "name": "stderr",
          "text": [
            "Epoch 170/300: 100%|██████████| 25/25 [00:00<00:00, 612.46it/s]\n"
          ]
        },
        {
          "output_type": "stream",
          "name": "stdout",
          "text": [
            "Epoch 170, Loss: 13.5735\n"
          ]
        },
        {
          "output_type": "stream",
          "name": "stderr",
          "text": [
            "Epoch 171/300: 100%|██████████| 25/25 [00:00<00:00, 674.93it/s]\n"
          ]
        },
        {
          "output_type": "stream",
          "name": "stdout",
          "text": [
            "Epoch 171, Loss: 13.2292\n"
          ]
        },
        {
          "output_type": "stream",
          "name": "stderr",
          "text": [
            "Epoch 172/300: 100%|██████████| 25/25 [00:00<00:00, 559.83it/s]\n"
          ]
        },
        {
          "output_type": "stream",
          "name": "stdout",
          "text": [
            "Epoch 172, Loss: 12.8741\n"
          ]
        },
        {
          "output_type": "stream",
          "name": "stderr",
          "text": [
            "Epoch 173/300: 100%|██████████| 25/25 [00:00<00:00, 647.74it/s]\n"
          ]
        },
        {
          "output_type": "stream",
          "name": "stdout",
          "text": [
            "Epoch 173, Loss: 12.4539\n"
          ]
        },
        {
          "output_type": "stream",
          "name": "stderr",
          "text": [
            "Epoch 174/300: 100%|██████████| 25/25 [00:00<00:00, 599.85it/s]\n"
          ]
        },
        {
          "output_type": "stream",
          "name": "stdout",
          "text": [
            "Epoch 174, Loss: 12.0291\n"
          ]
        },
        {
          "output_type": "stream",
          "name": "stderr",
          "text": [
            "Epoch 175/300: 100%|██████████| 25/25 [00:00<00:00, 656.66it/s]\n"
          ]
        },
        {
          "output_type": "stream",
          "name": "stdout",
          "text": [
            "Epoch 175, Loss: 11.6392\n"
          ]
        },
        {
          "output_type": "stream",
          "name": "stderr",
          "text": [
            "Epoch 176/300: 100%|██████████| 25/25 [00:00<00:00, 631.17it/s]\n"
          ]
        },
        {
          "output_type": "stream",
          "name": "stdout",
          "text": [
            "Epoch 176, Loss: 11.2640\n"
          ]
        },
        {
          "output_type": "stream",
          "name": "stderr",
          "text": [
            "Epoch 177/300: 100%|██████████| 25/25 [00:00<00:00, 556.49it/s]\n"
          ]
        },
        {
          "output_type": "stream",
          "name": "stdout",
          "text": [
            "Epoch 177, Loss: 10.9124\n"
          ]
        },
        {
          "output_type": "stream",
          "name": "stderr",
          "text": [
            "Epoch 178/300: 100%|██████████| 25/25 [00:00<00:00, 520.09it/s]\n"
          ]
        },
        {
          "output_type": "stream",
          "name": "stdout",
          "text": [
            "Epoch 178, Loss: 10.6025\n"
          ]
        },
        {
          "output_type": "stream",
          "name": "stderr",
          "text": [
            "Epoch 179/300: 100%|██████████| 25/25 [00:00<00:00, 627.94it/s]\n"
          ]
        },
        {
          "output_type": "stream",
          "name": "stdout",
          "text": [
            "Epoch 179, Loss: 10.3069\n"
          ]
        },
        {
          "output_type": "stream",
          "name": "stderr",
          "text": [
            "Epoch 180/300: 100%|██████████| 25/25 [00:00<00:00, 610.59it/s]\n"
          ]
        },
        {
          "output_type": "stream",
          "name": "stdout",
          "text": [
            "Epoch 180, Loss: 10.0568\n"
          ]
        },
        {
          "output_type": "stream",
          "name": "stderr",
          "text": [
            "Epoch 181/300: 100%|██████████| 25/25 [00:00<00:00, 642.81it/s]\n"
          ]
        },
        {
          "output_type": "stream",
          "name": "stdout",
          "text": [
            "Epoch 181, Loss: 9.9001\n"
          ]
        },
        {
          "output_type": "stream",
          "name": "stderr",
          "text": [
            "Epoch 182/300: 100%|██████████| 25/25 [00:00<00:00, 555.10it/s]\n"
          ]
        },
        {
          "output_type": "stream",
          "name": "stdout",
          "text": [
            "Epoch 182, Loss: 9.6600\n"
          ]
        },
        {
          "output_type": "stream",
          "name": "stderr",
          "text": [
            "Epoch 183/300: 100%|██████████| 25/25 [00:00<00:00, 627.13it/s]\n"
          ]
        },
        {
          "output_type": "stream",
          "name": "stdout",
          "text": [
            "Epoch 183, Loss: 9.5368\n"
          ]
        },
        {
          "output_type": "stream",
          "name": "stderr",
          "text": [
            "Epoch 184/300: 100%|██████████| 25/25 [00:00<00:00, 624.11it/s]\n"
          ]
        },
        {
          "output_type": "stream",
          "name": "stdout",
          "text": [
            "Epoch 184, Loss: 9.2591\n"
          ]
        },
        {
          "output_type": "stream",
          "name": "stderr",
          "text": [
            "Epoch 185/300: 100%|██████████| 25/25 [00:00<00:00, 615.45it/s]\n"
          ]
        },
        {
          "output_type": "stream",
          "name": "stdout",
          "text": [
            "Epoch 185, Loss: 9.1049\n"
          ]
        },
        {
          "output_type": "stream",
          "name": "stderr",
          "text": [
            "Epoch 186/300: 100%|██████████| 25/25 [00:00<00:00, 647.27it/s]\n"
          ]
        },
        {
          "output_type": "stream",
          "name": "stdout",
          "text": [
            "Epoch 186, Loss: 8.9577\n"
          ]
        },
        {
          "output_type": "stream",
          "name": "stderr",
          "text": [
            "Epoch 187/300: 100%|██████████| 25/25 [00:00<00:00, 625.27it/s]\n"
          ]
        },
        {
          "output_type": "stream",
          "name": "stdout",
          "text": [
            "Epoch 187, Loss: 8.8729\n"
          ]
        },
        {
          "output_type": "stream",
          "name": "stderr",
          "text": [
            "Epoch 188/300: 100%|██████████| 25/25 [00:00<00:00, 547.34it/s]\n"
          ]
        },
        {
          "output_type": "stream",
          "name": "stdout",
          "text": [
            "Epoch 188, Loss: 8.7331\n"
          ]
        },
        {
          "output_type": "stream",
          "name": "stderr",
          "text": [
            "Epoch 189/300: 100%|██████████| 25/25 [00:00<00:00, 637.58it/s]\n"
          ]
        },
        {
          "output_type": "stream",
          "name": "stdout",
          "text": [
            "Epoch 189, Loss: 8.6643\n"
          ]
        },
        {
          "output_type": "stream",
          "name": "stderr",
          "text": [
            "Epoch 190/300: 100%|██████████| 25/25 [00:00<00:00, 585.74it/s]\n"
          ]
        },
        {
          "output_type": "stream",
          "name": "stdout",
          "text": [
            "Epoch 190, Loss: 8.5296\n"
          ]
        },
        {
          "output_type": "stream",
          "name": "stderr",
          "text": [
            "Epoch 191/300: 100%|██████████| 25/25 [00:00<00:00, 623.22it/s]\n"
          ]
        },
        {
          "output_type": "stream",
          "name": "stdout",
          "text": [
            "Epoch 191, Loss: 8.5047\n"
          ]
        },
        {
          "output_type": "stream",
          "name": "stderr",
          "text": [
            "Epoch 192/300: 100%|██████████| 25/25 [00:00<00:00, 592.20it/s]\n"
          ]
        },
        {
          "output_type": "stream",
          "name": "stdout",
          "text": [
            "Epoch 192, Loss: 8.5160\n"
          ]
        },
        {
          "output_type": "stream",
          "name": "stderr",
          "text": [
            "Epoch 193/300: 100%|██████████| 25/25 [00:00<00:00, 634.06it/s]\n"
          ]
        },
        {
          "output_type": "stream",
          "name": "stdout",
          "text": [
            "Epoch 193, Loss: 8.3756\n"
          ]
        },
        {
          "output_type": "stream",
          "name": "stderr",
          "text": [
            "Epoch 194/300: 100%|██████████| 25/25 [00:00<00:00, 613.27it/s]\n"
          ]
        },
        {
          "output_type": "stream",
          "name": "stdout",
          "text": [
            "Epoch 194, Loss: 8.2706\n"
          ]
        },
        {
          "output_type": "stream",
          "name": "stderr",
          "text": [
            "Epoch 195/300: 100%|██████████| 25/25 [00:00<00:00, 601.01it/s]\n"
          ]
        },
        {
          "output_type": "stream",
          "name": "stdout",
          "text": [
            "Epoch 195, Loss: 8.2444\n"
          ]
        },
        {
          "output_type": "stream",
          "name": "stderr",
          "text": [
            "Epoch 196/300: 100%|██████████| 25/25 [00:00<00:00, 648.81it/s]\n"
          ]
        },
        {
          "output_type": "stream",
          "name": "stdout",
          "text": [
            "Epoch 196, Loss: 8.1581\n"
          ]
        },
        {
          "output_type": "stream",
          "name": "stderr",
          "text": [
            "Epoch 197/300: 100%|██████████| 25/25 [00:00<00:00, 665.89it/s]\n"
          ]
        },
        {
          "output_type": "stream",
          "name": "stdout",
          "text": [
            "Epoch 197, Loss: 8.1648\n"
          ]
        },
        {
          "output_type": "stream",
          "name": "stderr",
          "text": [
            "Epoch 198/300: 100%|██████████| 25/25 [00:00<00:00, 646.78it/s]\n"
          ]
        },
        {
          "output_type": "stream",
          "name": "stdout",
          "text": [
            "Epoch 198, Loss: 8.1415\n"
          ]
        },
        {
          "output_type": "stream",
          "name": "stderr",
          "text": [
            "Epoch 199/300: 100%|██████████| 25/25 [00:00<00:00, 543.97it/s]\n"
          ]
        },
        {
          "output_type": "stream",
          "name": "stdout",
          "text": [
            "Epoch 199, Loss: 8.0994\n"
          ]
        },
        {
          "output_type": "stream",
          "name": "stderr",
          "text": [
            "Epoch 200/300: 100%|██████████| 25/25 [00:00<00:00, 570.46it/s]\n"
          ]
        },
        {
          "output_type": "stream",
          "name": "stdout",
          "text": [
            "Epoch 200, Loss: 8.0133\n"
          ]
        },
        {
          "output_type": "stream",
          "name": "stderr",
          "text": [
            "Epoch 201/300: 100%|██████████| 25/25 [00:00<00:00, 498.44it/s]\n"
          ]
        },
        {
          "output_type": "stream",
          "name": "stdout",
          "text": [
            "Epoch 201, Loss: 7.9832\n"
          ]
        },
        {
          "output_type": "stream",
          "name": "stderr",
          "text": [
            "Epoch 202/300: 100%|██████████| 25/25 [00:00<00:00, 606.38it/s]\n"
          ]
        },
        {
          "output_type": "stream",
          "name": "stdout",
          "text": [
            "Epoch 202, Loss: 7.9284\n"
          ]
        },
        {
          "output_type": "stream",
          "name": "stderr",
          "text": [
            "Epoch 203/300: 100%|██████████| 25/25 [00:00<00:00, 645.94it/s]\n"
          ]
        },
        {
          "output_type": "stream",
          "name": "stdout",
          "text": [
            "Epoch 203, Loss: 7.9118\n"
          ]
        },
        {
          "output_type": "stream",
          "name": "stderr",
          "text": [
            "Epoch 204/300: 100%|██████████| 25/25 [00:00<00:00, 610.46it/s]\n"
          ]
        },
        {
          "output_type": "stream",
          "name": "stdout",
          "text": [
            "Epoch 204, Loss: 7.8511\n"
          ]
        },
        {
          "output_type": "stream",
          "name": "stderr",
          "text": [
            "Epoch 205/300: 100%|██████████| 25/25 [00:00<00:00, 607.17it/s]\n"
          ]
        },
        {
          "output_type": "stream",
          "name": "stdout",
          "text": [
            "Epoch 205, Loss: 7.8452\n"
          ]
        },
        {
          "output_type": "stream",
          "name": "stderr",
          "text": [
            "Epoch 206/300: 100%|██████████| 25/25 [00:00<00:00, 574.43it/s]\n"
          ]
        },
        {
          "output_type": "stream",
          "name": "stdout",
          "text": [
            "Epoch 206, Loss: 7.8429\n"
          ]
        },
        {
          "output_type": "stream",
          "name": "stderr",
          "text": [
            "Epoch 207/300: 100%|██████████| 25/25 [00:00<00:00, 609.70it/s]\n"
          ]
        },
        {
          "output_type": "stream",
          "name": "stdout",
          "text": [
            "Epoch 207, Loss: 7.8268\n"
          ]
        },
        {
          "output_type": "stream",
          "name": "stderr",
          "text": [
            "Epoch 208/300: 100%|██████████| 25/25 [00:00<00:00, 594.06it/s]\n"
          ]
        },
        {
          "output_type": "stream",
          "name": "stdout",
          "text": [
            "Epoch 208, Loss: 7.8256\n"
          ]
        },
        {
          "output_type": "stream",
          "name": "stderr",
          "text": [
            "Epoch 209/300: 100%|██████████| 25/25 [00:00<00:00, 498.58it/s]\n"
          ]
        },
        {
          "output_type": "stream",
          "name": "stdout",
          "text": [
            "Epoch 209, Loss: 7.8170\n"
          ]
        },
        {
          "output_type": "stream",
          "name": "stderr",
          "text": [
            "Epoch 210/300: 100%|██████████| 25/25 [00:00<00:00, 536.66it/s]\n"
          ]
        },
        {
          "output_type": "stream",
          "name": "stdout",
          "text": [
            "Epoch 210, Loss: 7.7508\n"
          ]
        },
        {
          "output_type": "stream",
          "name": "stderr",
          "text": [
            "Epoch 211/300: 100%|██████████| 25/25 [00:00<00:00, 583.58it/s]\n"
          ]
        },
        {
          "output_type": "stream",
          "name": "stdout",
          "text": [
            "Epoch 211, Loss: 7.7189\n"
          ]
        },
        {
          "output_type": "stream",
          "name": "stderr",
          "text": [
            "Epoch 212/300: 100%|██████████| 25/25 [00:00<00:00, 565.65it/s]\n"
          ]
        },
        {
          "output_type": "stream",
          "name": "stdout",
          "text": [
            "Epoch 212, Loss: 7.7303\n"
          ]
        },
        {
          "output_type": "stream",
          "name": "stderr",
          "text": [
            "Epoch 213/300: 100%|██████████| 25/25 [00:00<00:00, 605.79it/s]\n"
          ]
        },
        {
          "output_type": "stream",
          "name": "stdout",
          "text": [
            "Epoch 213, Loss: 7.7237\n"
          ]
        },
        {
          "output_type": "stream",
          "name": "stderr",
          "text": [
            "Epoch 214/300: 100%|██████████| 25/25 [00:00<00:00, 636.62it/s]\n"
          ]
        },
        {
          "output_type": "stream",
          "name": "stdout",
          "text": [
            "Epoch 214, Loss: 7.6906\n"
          ]
        },
        {
          "output_type": "stream",
          "name": "stderr",
          "text": [
            "Epoch 215/300: 100%|██████████| 25/25 [00:00<00:00, 462.60it/s]\n"
          ]
        },
        {
          "output_type": "stream",
          "name": "stdout",
          "text": [
            "Epoch 215, Loss: 7.6416\n"
          ]
        },
        {
          "output_type": "stream",
          "name": "stderr",
          "text": [
            "Epoch 216/300: 100%|██████████| 25/25 [00:00<00:00, 437.04it/s]\n"
          ]
        },
        {
          "output_type": "stream",
          "name": "stdout",
          "text": [
            "Epoch 216, Loss: 7.6352\n"
          ]
        },
        {
          "output_type": "stream",
          "name": "stderr",
          "text": [
            "Epoch 217/300: 100%|██████████| 25/25 [00:00<00:00, 435.45it/s]\n"
          ]
        },
        {
          "output_type": "stream",
          "name": "stdout",
          "text": [
            "Epoch 217, Loss: 7.6495\n"
          ]
        },
        {
          "output_type": "stream",
          "name": "stderr",
          "text": [
            "Epoch 218/300: 100%|██████████| 25/25 [00:00<00:00, 469.38it/s]\n"
          ]
        },
        {
          "output_type": "stream",
          "name": "stdout",
          "text": [
            "Epoch 218, Loss: 7.6441\n"
          ]
        },
        {
          "output_type": "stream",
          "name": "stderr",
          "text": [
            "Epoch 219/300: 100%|██████████| 25/25 [00:00<00:00, 466.32it/s]\n"
          ]
        },
        {
          "output_type": "stream",
          "name": "stdout",
          "text": [
            "Epoch 219, Loss: 7.6036\n"
          ]
        },
        {
          "output_type": "stream",
          "name": "stderr",
          "text": [
            "Epoch 220/300: 100%|██████████| 25/25 [00:00<00:00, 478.48it/s]\n"
          ]
        },
        {
          "output_type": "stream",
          "name": "stdout",
          "text": [
            "Epoch 220, Loss: 7.5983\n"
          ]
        },
        {
          "output_type": "stream",
          "name": "stderr",
          "text": [
            "Epoch 221/300: 100%|██████████| 25/25 [00:00<00:00, 450.13it/s]\n"
          ]
        },
        {
          "output_type": "stream",
          "name": "stdout",
          "text": [
            "Epoch 221, Loss: 7.5982\n"
          ]
        },
        {
          "output_type": "stream",
          "name": "stderr",
          "text": [
            "Epoch 222/300: 100%|██████████| 25/25 [00:00<00:00, 498.06it/s]\n"
          ]
        },
        {
          "output_type": "stream",
          "name": "stdout",
          "text": [
            "Epoch 222, Loss: 7.6379\n"
          ]
        },
        {
          "output_type": "stream",
          "name": "stderr",
          "text": [
            "Epoch 223/300: 100%|██████████| 25/25 [00:00<00:00, 423.16it/s]\n"
          ]
        },
        {
          "output_type": "stream",
          "name": "stdout",
          "text": [
            "Epoch 223, Loss: 7.5694\n"
          ]
        },
        {
          "output_type": "stream",
          "name": "stderr",
          "text": [
            "Epoch 224/300: 100%|██████████| 25/25 [00:00<00:00, 406.73it/s]\n"
          ]
        },
        {
          "output_type": "stream",
          "name": "stdout",
          "text": [
            "Epoch 224, Loss: 7.5486\n"
          ]
        },
        {
          "output_type": "stream",
          "name": "stderr",
          "text": [
            "Epoch 225/300: 100%|██████████| 25/25 [00:00<00:00, 291.38it/s]\n"
          ]
        },
        {
          "output_type": "stream",
          "name": "stdout",
          "text": [
            "Epoch 225, Loss: 7.5587\n"
          ]
        },
        {
          "output_type": "stream",
          "name": "stderr",
          "text": [
            "Epoch 226/300: 100%|██████████| 25/25 [00:00<00:00, 289.69it/s]\n"
          ]
        },
        {
          "output_type": "stream",
          "name": "stdout",
          "text": [
            "Epoch 226, Loss: 7.5543\n"
          ]
        },
        {
          "output_type": "stream",
          "name": "stderr",
          "text": [
            "Epoch 227/300: 100%|██████████| 25/25 [00:00<00:00, 379.43it/s]\n"
          ]
        },
        {
          "output_type": "stream",
          "name": "stdout",
          "text": [
            "Epoch 227, Loss: 7.5247\n"
          ]
        },
        {
          "output_type": "stream",
          "name": "stderr",
          "text": [
            "Epoch 228/300: 100%|██████████| 25/25 [00:00<00:00, 518.11it/s]\n"
          ]
        },
        {
          "output_type": "stream",
          "name": "stdout",
          "text": [
            "Epoch 228, Loss: 7.5283\n"
          ]
        },
        {
          "output_type": "stream",
          "name": "stderr",
          "text": [
            "Epoch 229/300: 100%|██████████| 25/25 [00:00<00:00, 504.75it/s]\n"
          ]
        },
        {
          "output_type": "stream",
          "name": "stdout",
          "text": [
            "Epoch 229, Loss: 7.5057\n"
          ]
        },
        {
          "output_type": "stream",
          "name": "stderr",
          "text": [
            "Epoch 230/300: 100%|██████████| 25/25 [00:00<00:00, 541.91it/s]\n"
          ]
        },
        {
          "output_type": "stream",
          "name": "stdout",
          "text": [
            "Epoch 230, Loss: 7.4852\n"
          ]
        },
        {
          "output_type": "stream",
          "name": "stderr",
          "text": [
            "Epoch 231/300: 100%|██████████| 25/25 [00:00<00:00, 553.27it/s]\n"
          ]
        },
        {
          "output_type": "stream",
          "name": "stdout",
          "text": [
            "Epoch 231, Loss: 7.4783\n"
          ]
        },
        {
          "output_type": "stream",
          "name": "stderr",
          "text": [
            "Epoch 232/300: 100%|██████████| 25/25 [00:00<00:00, 559.37it/s]\n"
          ]
        },
        {
          "output_type": "stream",
          "name": "stdout",
          "text": [
            "Epoch 232, Loss: 7.6933\n"
          ]
        },
        {
          "output_type": "stream",
          "name": "stderr",
          "text": [
            "Epoch 233/300: 100%|██████████| 25/25 [00:00<00:00, 483.29it/s]\n"
          ]
        },
        {
          "output_type": "stream",
          "name": "stdout",
          "text": [
            "Epoch 233, Loss: 7.5510\n"
          ]
        },
        {
          "output_type": "stream",
          "name": "stderr",
          "text": [
            "Epoch 234/300: 100%|██████████| 25/25 [00:00<00:00, 540.02it/s]\n"
          ]
        },
        {
          "output_type": "stream",
          "name": "stdout",
          "text": [
            "Epoch 234, Loss: 7.5223\n"
          ]
        },
        {
          "output_type": "stream",
          "name": "stderr",
          "text": [
            "Epoch 235/300: 100%|██████████| 25/25 [00:00<00:00, 504.06it/s]\n"
          ]
        },
        {
          "output_type": "stream",
          "name": "stdout",
          "text": [
            "Epoch 235, Loss: 7.5671\n"
          ]
        },
        {
          "output_type": "stream",
          "name": "stderr",
          "text": [
            "Epoch 236/300: 100%|██████████| 25/25 [00:00<00:00, 517.18it/s]\n"
          ]
        },
        {
          "output_type": "stream",
          "name": "stdout",
          "text": [
            "Epoch 236, Loss: 7.4476\n"
          ]
        },
        {
          "output_type": "stream",
          "name": "stderr",
          "text": [
            "Epoch 237/300: 100%|██████████| 25/25 [00:00<00:00, 556.22it/s]\n"
          ]
        },
        {
          "output_type": "stream",
          "name": "stdout",
          "text": [
            "Epoch 237, Loss: 7.4506\n"
          ]
        },
        {
          "output_type": "stream",
          "name": "stderr",
          "text": [
            "Epoch 238/300: 100%|██████████| 25/25 [00:00<00:00, 487.75it/s]\n"
          ]
        },
        {
          "output_type": "stream",
          "name": "stdout",
          "text": [
            "Epoch 238, Loss: 7.4540\n"
          ]
        },
        {
          "output_type": "stream",
          "name": "stderr",
          "text": [
            "Epoch 239/300: 100%|██████████| 25/25 [00:00<00:00, 438.93it/s]\n"
          ]
        },
        {
          "output_type": "stream",
          "name": "stdout",
          "text": [
            "Epoch 239, Loss: 7.4360\n"
          ]
        },
        {
          "output_type": "stream",
          "name": "stderr",
          "text": [
            "Epoch 240/300: 100%|██████████| 25/25 [00:00<00:00, 451.48it/s]\n"
          ]
        },
        {
          "output_type": "stream",
          "name": "stdout",
          "text": [
            "Epoch 240, Loss: 7.4404\n"
          ]
        },
        {
          "output_type": "stream",
          "name": "stderr",
          "text": [
            "Epoch 241/300: 100%|██████████| 25/25 [00:00<00:00, 517.47it/s]\n"
          ]
        },
        {
          "output_type": "stream",
          "name": "stdout",
          "text": [
            "Epoch 241, Loss: 7.4319\n"
          ]
        },
        {
          "output_type": "stream",
          "name": "stderr",
          "text": [
            "Epoch 242/300: 100%|██████████| 25/25 [00:00<00:00, 501.79it/s]\n"
          ]
        },
        {
          "output_type": "stream",
          "name": "stdout",
          "text": [
            "Epoch 242, Loss: 7.3946\n"
          ]
        },
        {
          "output_type": "stream",
          "name": "stderr",
          "text": [
            "Epoch 243/300: 100%|██████████| 25/25 [00:00<00:00, 441.72it/s]\n"
          ]
        },
        {
          "output_type": "stream",
          "name": "stdout",
          "text": [
            "Epoch 243, Loss: 7.4441\n"
          ]
        },
        {
          "output_type": "stream",
          "name": "stderr",
          "text": [
            "Epoch 244/300: 100%|██████████| 25/25 [00:00<00:00, 547.72it/s]\n"
          ]
        },
        {
          "output_type": "stream",
          "name": "stdout",
          "text": [
            "Epoch 244, Loss: 7.4630\n"
          ]
        },
        {
          "output_type": "stream",
          "name": "stderr",
          "text": [
            "Epoch 245/300: 100%|██████████| 25/25 [00:00<00:00, 513.65it/s]\n"
          ]
        },
        {
          "output_type": "stream",
          "name": "stdout",
          "text": [
            "Epoch 245, Loss: 7.4352\n"
          ]
        },
        {
          "output_type": "stream",
          "name": "stderr",
          "text": [
            "Epoch 246/300: 100%|██████████| 25/25 [00:00<00:00, 496.02it/s]\n"
          ]
        },
        {
          "output_type": "stream",
          "name": "stdout",
          "text": [
            "Epoch 246, Loss: 7.3696\n"
          ]
        },
        {
          "output_type": "stream",
          "name": "stderr",
          "text": [
            "Epoch 247/300: 100%|██████████| 25/25 [00:00<00:00, 518.30it/s]\n"
          ]
        },
        {
          "output_type": "stream",
          "name": "stdout",
          "text": [
            "Epoch 247, Loss: 7.3677\n"
          ]
        },
        {
          "output_type": "stream",
          "name": "stderr",
          "text": [
            "Epoch 248/300: 100%|██████████| 25/25 [00:00<00:00, 533.06it/s]\n"
          ]
        },
        {
          "output_type": "stream",
          "name": "stdout",
          "text": [
            "Epoch 248, Loss: 7.3757\n"
          ]
        },
        {
          "output_type": "stream",
          "name": "stderr",
          "text": [
            "Epoch 249/300: 100%|██████████| 25/25 [00:00<00:00, 519.47it/s]\n"
          ]
        },
        {
          "output_type": "stream",
          "name": "stdout",
          "text": [
            "Epoch 249, Loss: 7.4112\n"
          ]
        },
        {
          "output_type": "stream",
          "name": "stderr",
          "text": [
            "Epoch 250/300: 100%|██████████| 25/25 [00:00<00:00, 575.53it/s]\n"
          ]
        },
        {
          "output_type": "stream",
          "name": "stdout",
          "text": [
            "Epoch 250, Loss: 7.4019\n"
          ]
        },
        {
          "output_type": "stream",
          "name": "stderr",
          "text": [
            "Epoch 251/300: 100%|██████████| 25/25 [00:00<00:00, 578.44it/s]\n"
          ]
        },
        {
          "output_type": "stream",
          "name": "stdout",
          "text": [
            "Epoch 251, Loss: 7.5146\n"
          ]
        },
        {
          "output_type": "stream",
          "name": "stderr",
          "text": [
            "Epoch 252/300: 100%|██████████| 25/25 [00:00<00:00, 453.95it/s]\n"
          ]
        },
        {
          "output_type": "stream",
          "name": "stdout",
          "text": [
            "Epoch 252, Loss: 7.5641\n"
          ]
        },
        {
          "output_type": "stream",
          "name": "stderr",
          "text": [
            "Epoch 253/300: 100%|██████████| 25/25 [00:00<00:00, 539.76it/s]\n"
          ]
        },
        {
          "output_type": "stream",
          "name": "stdout",
          "text": [
            "Epoch 253, Loss: 7.3447\n"
          ]
        },
        {
          "output_type": "stream",
          "name": "stderr",
          "text": [
            "Epoch 254/300: 100%|██████████| 25/25 [00:00<00:00, 498.74it/s]\n"
          ]
        },
        {
          "output_type": "stream",
          "name": "stdout",
          "text": [
            "Epoch 254, Loss: 7.3341\n"
          ]
        },
        {
          "output_type": "stream",
          "name": "stderr",
          "text": [
            "Epoch 255/300: 100%|██████████| 25/25 [00:00<00:00, 493.20it/s]\n"
          ]
        },
        {
          "output_type": "stream",
          "name": "stdout",
          "text": [
            "Epoch 255, Loss: 7.3689\n"
          ]
        },
        {
          "output_type": "stream",
          "name": "stderr",
          "text": [
            "Epoch 256/300: 100%|██████████| 25/25 [00:00<00:00, 528.66it/s]\n"
          ]
        },
        {
          "output_type": "stream",
          "name": "stdout",
          "text": [
            "Epoch 256, Loss: 7.3519\n"
          ]
        },
        {
          "output_type": "stream",
          "name": "stderr",
          "text": [
            "Epoch 257/300: 100%|██████████| 25/25 [00:00<00:00, 575.45it/s]\n"
          ]
        },
        {
          "output_type": "stream",
          "name": "stdout",
          "text": [
            "Epoch 257, Loss: 7.3482\n"
          ]
        },
        {
          "output_type": "stream",
          "name": "stderr",
          "text": [
            "Epoch 258/300: 100%|██████████| 25/25 [00:00<00:00, 462.37it/s]\n"
          ]
        },
        {
          "output_type": "stream",
          "name": "stdout",
          "text": [
            "Epoch 258, Loss: 7.3800\n"
          ]
        },
        {
          "output_type": "stream",
          "name": "stderr",
          "text": [
            "Epoch 259/300: 100%|██████████| 25/25 [00:00<00:00, 442.29it/s]\n"
          ]
        },
        {
          "output_type": "stream",
          "name": "stdout",
          "text": [
            "Epoch 259, Loss: 7.3401\n"
          ]
        },
        {
          "output_type": "stream",
          "name": "stderr",
          "text": [
            "Epoch 260/300: 100%|██████████| 25/25 [00:00<00:00, 448.20it/s]\n"
          ]
        },
        {
          "output_type": "stream",
          "name": "stdout",
          "text": [
            "Epoch 260, Loss: 7.2971\n"
          ]
        },
        {
          "output_type": "stream",
          "name": "stderr",
          "text": [
            "Epoch 261/300: 100%|██████████| 25/25 [00:00<00:00, 442.50it/s]\n"
          ]
        },
        {
          "output_type": "stream",
          "name": "stdout",
          "text": [
            "Epoch 261, Loss: 7.2840\n"
          ]
        },
        {
          "output_type": "stream",
          "name": "stderr",
          "text": [
            "Epoch 262/300: 100%|██████████| 25/25 [00:00<00:00, 330.23it/s]\n"
          ]
        },
        {
          "output_type": "stream",
          "name": "stdout",
          "text": [
            "Epoch 262, Loss: 7.2998\n"
          ]
        },
        {
          "output_type": "stream",
          "name": "stderr",
          "text": [
            "Epoch 263/300: 100%|██████████| 25/25 [00:00<00:00, 431.68it/s]\n"
          ]
        },
        {
          "output_type": "stream",
          "name": "stdout",
          "text": [
            "Epoch 263, Loss: 7.3155\n"
          ]
        },
        {
          "output_type": "stream",
          "name": "stderr",
          "text": [
            "Epoch 264/300: 100%|██████████| 25/25 [00:00<00:00, 566.54it/s]\n"
          ]
        },
        {
          "output_type": "stream",
          "name": "stdout",
          "text": [
            "Epoch 264, Loss: 7.4411\n"
          ]
        },
        {
          "output_type": "stream",
          "name": "stderr",
          "text": [
            "Epoch 265/300: 100%|██████████| 25/25 [00:00<00:00, 485.60it/s]\n"
          ]
        },
        {
          "output_type": "stream",
          "name": "stdout",
          "text": [
            "Epoch 265, Loss: 7.3518\n"
          ]
        },
        {
          "output_type": "stream",
          "name": "stderr",
          "text": [
            "Epoch 266/300: 100%|██████████| 25/25 [00:00<00:00, 515.39it/s]\n"
          ]
        },
        {
          "output_type": "stream",
          "name": "stdout",
          "text": [
            "Epoch 266, Loss: 7.2962\n"
          ]
        },
        {
          "output_type": "stream",
          "name": "stderr",
          "text": [
            "Epoch 267/300: 100%|██████████| 25/25 [00:00<00:00, 505.71it/s]\n"
          ]
        },
        {
          "output_type": "stream",
          "name": "stdout",
          "text": [
            "Epoch 267, Loss: 7.3324\n"
          ]
        },
        {
          "output_type": "stream",
          "name": "stderr",
          "text": [
            "Epoch 268/300: 100%|██████████| 25/25 [00:00<00:00, 522.63it/s]\n"
          ]
        },
        {
          "output_type": "stream",
          "name": "stdout",
          "text": [
            "Epoch 268, Loss: 7.3107\n"
          ]
        },
        {
          "output_type": "stream",
          "name": "stderr",
          "text": [
            "Epoch 269/300: 100%|██████████| 25/25 [00:00<00:00, 442.34it/s]\n"
          ]
        },
        {
          "output_type": "stream",
          "name": "stdout",
          "text": [
            "Epoch 269, Loss: 7.3199\n"
          ]
        },
        {
          "output_type": "stream",
          "name": "stderr",
          "text": [
            "Epoch 270/300: 100%|██████████| 25/25 [00:00<00:00, 506.99it/s]\n"
          ]
        },
        {
          "output_type": "stream",
          "name": "stdout",
          "text": [
            "Epoch 270, Loss: 7.2938\n"
          ]
        },
        {
          "output_type": "stream",
          "name": "stderr",
          "text": [
            "Epoch 271/300: 100%|██████████| 25/25 [00:00<00:00, 442.41it/s]\n"
          ]
        },
        {
          "output_type": "stream",
          "name": "stdout",
          "text": [
            "Epoch 271, Loss: 7.3027\n"
          ]
        },
        {
          "output_type": "stream",
          "name": "stderr",
          "text": [
            "Epoch 272/300: 100%|██████████| 25/25 [00:00<00:00, 468.39it/s]\n"
          ]
        },
        {
          "output_type": "stream",
          "name": "stdout",
          "text": [
            "Epoch 272, Loss: 7.2502\n"
          ]
        },
        {
          "output_type": "stream",
          "name": "stderr",
          "text": [
            "Epoch 273/300: 100%|██████████| 25/25 [00:00<00:00, 438.28it/s]\n"
          ]
        },
        {
          "output_type": "stream",
          "name": "stdout",
          "text": [
            "Epoch 273, Loss: 7.2434\n"
          ]
        },
        {
          "output_type": "stream",
          "name": "stderr",
          "text": [
            "Epoch 274/300: 100%|██████████| 25/25 [00:00<00:00, 502.95it/s]\n"
          ]
        },
        {
          "output_type": "stream",
          "name": "stdout",
          "text": [
            "Epoch 274, Loss: 7.3004\n"
          ]
        },
        {
          "output_type": "stream",
          "name": "stderr",
          "text": [
            "Epoch 275/300: 100%|██████████| 25/25 [00:00<00:00, 487.51it/s]\n"
          ]
        },
        {
          "output_type": "stream",
          "name": "stdout",
          "text": [
            "Epoch 275, Loss: 7.2505\n"
          ]
        },
        {
          "output_type": "stream",
          "name": "stderr",
          "text": [
            "Epoch 276/300: 100%|██████████| 25/25 [00:00<00:00, 429.37it/s]\n"
          ]
        },
        {
          "output_type": "stream",
          "name": "stdout",
          "text": [
            "Epoch 276, Loss: 7.2915\n"
          ]
        },
        {
          "output_type": "stream",
          "name": "stderr",
          "text": [
            "Epoch 277/300: 100%|██████████| 25/25 [00:00<00:00, 423.37it/s]\n"
          ]
        },
        {
          "output_type": "stream",
          "name": "stdout",
          "text": [
            "Epoch 277, Loss: 7.2581\n"
          ]
        },
        {
          "output_type": "stream",
          "name": "stderr",
          "text": [
            "Epoch 278/300: 100%|██████████| 25/25 [00:00<00:00, 393.98it/s]\n"
          ]
        },
        {
          "output_type": "stream",
          "name": "stdout",
          "text": [
            "Epoch 278, Loss: 7.2619\n"
          ]
        },
        {
          "output_type": "stream",
          "name": "stderr",
          "text": [
            "Epoch 279/300: 100%|██████████| 25/25 [00:00<00:00, 449.32it/s]\n"
          ]
        },
        {
          "output_type": "stream",
          "name": "stdout",
          "text": [
            "Epoch 279, Loss: 7.2613\n"
          ]
        },
        {
          "output_type": "stream",
          "name": "stderr",
          "text": [
            "Epoch 280/300: 100%|██████████| 25/25 [00:00<00:00, 384.63it/s]\n"
          ]
        },
        {
          "output_type": "stream",
          "name": "stdout",
          "text": [
            "Epoch 280, Loss: 7.2552\n"
          ]
        },
        {
          "output_type": "stream",
          "name": "stderr",
          "text": [
            "Epoch 281/300: 100%|██████████| 25/25 [00:00<00:00, 388.75it/s]\n"
          ]
        },
        {
          "output_type": "stream",
          "name": "stdout",
          "text": [
            "Epoch 281, Loss: 7.2882\n"
          ]
        },
        {
          "output_type": "stream",
          "name": "stderr",
          "text": [
            "Epoch 282/300: 100%|██████████| 25/25 [00:00<00:00, 498.23it/s]\n"
          ]
        },
        {
          "output_type": "stream",
          "name": "stdout",
          "text": [
            "Epoch 282, Loss: 7.2128\n"
          ]
        },
        {
          "output_type": "stream",
          "name": "stderr",
          "text": [
            "Epoch 283/300: 100%|██████████| 25/25 [00:00<00:00, 559.02it/s]\n"
          ]
        },
        {
          "output_type": "stream",
          "name": "stdout",
          "text": [
            "Epoch 283, Loss: 7.2770\n"
          ]
        },
        {
          "output_type": "stream",
          "name": "stderr",
          "text": [
            "Epoch 284/300: 100%|██████████| 25/25 [00:00<00:00, 537.43it/s]\n"
          ]
        },
        {
          "output_type": "stream",
          "name": "stdout",
          "text": [
            "Epoch 284, Loss: 7.2685\n"
          ]
        },
        {
          "output_type": "stream",
          "name": "stderr",
          "text": [
            "Epoch 285/300: 100%|██████████| 25/25 [00:00<00:00, 602.70it/s]\n"
          ]
        },
        {
          "output_type": "stream",
          "name": "stdout",
          "text": [
            "Epoch 285, Loss: 7.2592\n"
          ]
        },
        {
          "output_type": "stream",
          "name": "stderr",
          "text": [
            "Epoch 286/300: 100%|██████████| 25/25 [00:00<00:00, 571.75it/s]\n"
          ]
        },
        {
          "output_type": "stream",
          "name": "stdout",
          "text": [
            "Epoch 286, Loss: 7.2516\n"
          ]
        },
        {
          "output_type": "stream",
          "name": "stderr",
          "text": [
            "Epoch 287/300: 100%|██████████| 25/25 [00:00<00:00, 605.30it/s]\n"
          ]
        },
        {
          "output_type": "stream",
          "name": "stdout",
          "text": [
            "Epoch 287, Loss: 7.2635\n"
          ]
        },
        {
          "output_type": "stream",
          "name": "stderr",
          "text": [
            "Epoch 288/300: 100%|██████████| 25/25 [00:00<00:00, 606.60it/s]\n"
          ]
        },
        {
          "output_type": "stream",
          "name": "stdout",
          "text": [
            "Epoch 288, Loss: 7.1913\n"
          ]
        },
        {
          "output_type": "stream",
          "name": "stderr",
          "text": [
            "Epoch 289/300: 100%|██████████| 25/25 [00:00<00:00, 551.70it/s]\n"
          ]
        },
        {
          "output_type": "stream",
          "name": "stdout",
          "text": [
            "Epoch 289, Loss: 7.2303\n"
          ]
        },
        {
          "output_type": "stream",
          "name": "stderr",
          "text": [
            "Epoch 290/300: 100%|██████████| 25/25 [00:00<00:00, 613.85it/s]\n"
          ]
        },
        {
          "output_type": "stream",
          "name": "stdout",
          "text": [
            "Epoch 290, Loss: 7.2611\n"
          ]
        },
        {
          "output_type": "stream",
          "name": "stderr",
          "text": [
            "Epoch 291/300: 100%|██████████| 25/25 [00:00<00:00, 603.58it/s]\n"
          ]
        },
        {
          "output_type": "stream",
          "name": "stdout",
          "text": [
            "Epoch 291, Loss: 7.2518\n"
          ]
        },
        {
          "output_type": "stream",
          "name": "stderr",
          "text": [
            "Epoch 292/300: 100%|██████████| 25/25 [00:00<00:00, 566.96it/s]\n"
          ]
        },
        {
          "output_type": "stream",
          "name": "stdout",
          "text": [
            "Epoch 292, Loss: 7.2476\n"
          ]
        },
        {
          "output_type": "stream",
          "name": "stderr",
          "text": [
            "Epoch 293/300: 100%|██████████| 25/25 [00:00<00:00, 575.63it/s]\n"
          ]
        },
        {
          "output_type": "stream",
          "name": "stdout",
          "text": [
            "Epoch 293, Loss: 7.2408\n"
          ]
        },
        {
          "output_type": "stream",
          "name": "stderr",
          "text": [
            "Epoch 294/300: 100%|██████████| 25/25 [00:00<00:00, 566.70it/s]\n"
          ]
        },
        {
          "output_type": "stream",
          "name": "stdout",
          "text": [
            "Epoch 294, Loss: 7.1903\n"
          ]
        },
        {
          "output_type": "stream",
          "name": "stderr",
          "text": [
            "Epoch 295/300: 100%|██████████| 25/25 [00:00<00:00, 558.62it/s]\n"
          ]
        },
        {
          "output_type": "stream",
          "name": "stdout",
          "text": [
            "Epoch 295, Loss: 7.2639\n"
          ]
        },
        {
          "output_type": "stream",
          "name": "stderr",
          "text": [
            "Epoch 296/300: 100%|██████████| 25/25 [00:00<00:00, 570.48it/s]\n"
          ]
        },
        {
          "output_type": "stream",
          "name": "stdout",
          "text": [
            "Epoch 296, Loss: 7.2516\n"
          ]
        },
        {
          "output_type": "stream",
          "name": "stderr",
          "text": [
            "Epoch 297/300: 100%|██████████| 25/25 [00:00<00:00, 516.90it/s]\n"
          ]
        },
        {
          "output_type": "stream",
          "name": "stdout",
          "text": [
            "Epoch 297, Loss: 7.2509\n"
          ]
        },
        {
          "output_type": "stream",
          "name": "stderr",
          "text": [
            "Epoch 298/300: 100%|██████████| 25/25 [00:00<00:00, 459.04it/s]\n"
          ]
        },
        {
          "output_type": "stream",
          "name": "stdout",
          "text": [
            "Epoch 298, Loss: 7.1853\n"
          ]
        },
        {
          "output_type": "stream",
          "name": "stderr",
          "text": [
            "Epoch 299/300: 100%|██████████| 25/25 [00:00<00:00, 557.07it/s]\n"
          ]
        },
        {
          "output_type": "stream",
          "name": "stdout",
          "text": [
            "Epoch 299, Loss: 7.2419\n"
          ]
        },
        {
          "output_type": "stream",
          "name": "stderr",
          "text": [
            "Epoch 300/300: 100%|██████████| 25/25 [00:00<00:00, 540.98it/s]"
          ]
        },
        {
          "output_type": "stream",
          "name": "stdout",
          "text": [
            "Epoch 300, Loss: 7.3397\n"
          ]
        },
        {
          "output_type": "stream",
          "name": "stderr",
          "text": [
            "\n"
          ]
        }
      ]
    },
    {
      "cell_type": "code",
      "execution_count": 329,
      "metadata": {
        "id": "EBgVLAatjeB3"
      },
      "outputs": [],
      "source": []
    },
    {
      "cell_type": "code",
      "execution_count": 397,
      "metadata": {
        "id": "Z38BrpoojeFR"
      },
      "outputs": [],
      "source": []
    },
    {
      "cell_type": "markdown",
      "metadata": {
        "id": "-gSYSPMTjP-y"
      },
      "source": [
        "## 5. (2 pt) Write the prediction class to use it in plot_decision_regions function."
      ]
    },
    {
      "cell_type": "code",
      "execution_count": 398,
      "metadata": {
        "id": "JwsHA_kCjcmS"
      },
      "outputs": [],
      "source": [
        "class MyPrediction:\n",
        "    def __init__(self, model):\n",
        "        \"\"\"\n",
        "        Initialize the Prediction class with the trained model.\n",
        "        \"\"\"\n",
        "        self.model = model\n",
        "\n",
        "    def predict(self, x):\n",
        "        \"\"\"\n",
        "        Predict the class labels for the input data.\n",
        "        Args:\n",
        "            x (torch.Tensor or np.ndarray): Input data of shape (n_samples, n_features).\n",
        "        Returns:\n",
        "            np.ndarray: Predicted class labels (0 or 1) of shape (n_samples,).\n",
        "        \"\"\"\n",
        "        if isinstance(x, np.ndarray):\n",
        "            x = torch.tensor(x, dtype=torch.float32)  # Convert to torch.Tensor if input is a NumPy array\n",
        "\n",
        "        with torch.no_grad():  # Disable gradient computation for inference\n",
        "            probabilities = self.model(x)  # Get probabilities from the model\n",
        "            predictions = (probabilities >= 0.5).float()  # Convert probabilities to binary labels (0 or 1)\n",
        "\n",
        "        return predictions.numpy().flatten()  # Convert to NumPy array and flatten to 1D"
      ]
    },
    {
      "cell_type": "code",
      "source": [
        "# Initialize the Prediction class with the trained model\n",
        "my_predictor = MyPrediction(my_model)"
      ],
      "metadata": {
        "id": "mmgt7075cDzK"
      },
      "execution_count": 399,
      "outputs": []
    },
    {
      "cell_type": "code",
      "source": [],
      "metadata": {
        "id": "x4HLezxkcFYe"
      },
      "execution_count": 331,
      "outputs": []
    },
    {
      "cell_type": "markdown",
      "metadata": {
        "id": "lhpE7gXhjg_1"
      },
      "source": [
        "## 6. (2 pt) Plot the loss and decision boundary after the training."
      ]
    },
    {
      "cell_type": "code",
      "execution_count": 400,
      "metadata": {
        "id": "co704Qk2jnZP",
        "colab": {
          "base_uri": "https://localhost:8080/",
          "height": 472
        },
        "outputId": "bf1e8503-9f8f-4564-f58c-cd3369dee8b7"
      },
      "outputs": [
        {
          "output_type": "display_data",
          "data": {
            "text/plain": [
              "<Figure size 640x480 with 1 Axes>"
            ],
            "image/png": "[encoded data removed]"
          },
          "metadata": {}
        }
      ],
      "source": [
        "# Plot the loss curve\n",
        "plt.plot(range(1, epochs + 1), loss_history, label=\"Loss\")\n",
        "plt.xlabel(\"Epoch\")\n",
        "plt.ylabel(\"Loss\")\n",
        "plt.title(\"Training Loss Curve\")\n",
        "plt.legend()\n",
        "plt.show()"
      ]
    },
    {
      "cell_type": "code",
      "execution_count": 401,
      "metadata": {
        "id": "hYRtPcTzjoMc"
      },
      "outputs": [],
      "source": [
        "from mlxtend.plotting import plot_decision_regions"
      ]
    },
    {
      "cell_type": "code",
      "execution_count": 402,
      "metadata": {
        "id": "7nMmkB0mjoTL",
        "colab": {
          "base_uri": "https://localhost:8080/",
          "height": 447
        },
        "outputId": "2a56f386-46b1-4c82-92ee-b7609d6b806c"
      },
      "outputs": [
        {
          "output_type": "execute_result",
          "data": {
            "text/plain": [
              "<Axes: >"
            ]
          },
          "metadata": {},
          "execution_count": 402
        },
        {
          "output_type": "display_data",
          "data": {
            "text/plain": [
              "<Figure size 640x480 with 1 Axes>"
            ],
            "image/png": "[encoded data removed]"
          },
          "metadata": {}
        }
      ],
      "source": [
        "plot_decision_regions(x,y.reshape(-1,),my_predictor)"
      ]
    },
    {
      "cell_type": "markdown",
      "metadata": {
        "id": "UPGy5kg-joiY"
      },
      "source": [
        "## 7. Experiments 1: Try LeakyReLU as `activation_1` with the size of `hidden_1` = 4, 5, and 10. You can reuse the same model without copying it."
      ]
    },
    {
      "cell_type": "code",
      "execution_count": 403,
      "metadata": {
        "id": "qBmcAwoJkFW7"
      },
      "outputs": [],
      "source": [
        "def train_and_plot(hidden_1_size):\n",
        "    \"\"\"\n",
        "    Train the model with a given hidden_1_size and plot the decision boundary.\n",
        "\n",
        "    Args:\n",
        "        hidden_1_size (int): The size of the first hidden layer.\n",
        "    \"\"\"\n",
        "    # Initialize the model with LeakyReLU as activation_func_1\n",
        "    activation_func_1 = nn.LeakyReLU()\n",
        "    activation_func_2 = nn.Sigmoid()\n",
        "    hidden_2_size = 4 # Keep hidden_2_size fixed\n",
        "    input_size = 2  # Number of input features\n",
        "\n",
        "    # Reinitialize the model\n",
        "    model = MyModel(input_size, hidden_1_size, hidden_2_size, activation_func_1, activation_func_2)\n",
        "\n",
        "    # Define the loss function and optimizer\n",
        "    loss_fn = BCELoss()\n",
        "    optimizer = Adam(model.parameters(), lr=0.01)\n",
        "\n",
        "    # Train the model\n",
        "    epochs = 300\n",
        "    loss_history = []\n",
        "    for epoch in range(epochs):\n",
        "        epoch_loss = 0.0\n",
        "        for batch in data_loader:\n",
        "            x_batch, y_batch = batch\n",
        "\n",
        "            # Forward pass\n",
        "            predictions = model(x_batch)\n",
        "            loss = loss_fn(predictions, y_batch)\n",
        "\n",
        "            # Backward pass\n",
        "            optimizer.zero_grad()\n",
        "            loss.backward()\n",
        "            optimizer.step()\n",
        "\n",
        "            # Accumulate loss\n",
        "            epoch_loss += loss.item()\n",
        "\n",
        "        # Store the average loss for this epoch\n",
        "        loss_history.append(epoch_loss / len(data_loader))\n",
        "\n",
        "    # Plot the loss curve\n",
        "    plt.plot(range(1, epochs + 1), loss_history, label=f\"Hidden_1_Size={hidden_1_size}\")\n",
        "    plt.xlabel(\"Epoch\")\n",
        "    plt.ylabel(\"Loss\")\n",
        "    plt.title(\"Training Loss Curve\")\n",
        "    plt.legend()\n",
        "    plt.show()\n",
        "\n",
        "    # Plot the decision boundary\n",
        "    predictor = MyPrediction(model)\n",
        "    plot_decision_regions(x, y.reshape(-1,), predictor)\n",
        "    plt.title(f\"Decision Boundary (Hidden_1_Size={hidden_1_size})\")\n",
        "    plt.show()"
      ]
    },
    {
      "cell_type": "code",
      "execution_count": 404,
      "metadata": {
        "id": "tKyf0_JQkJ0N",
        "colab": {
          "base_uri": "https://localhost:8080/",
          "height": 1000
        },
        "outputId": "d24e9e39-5ea2-4985-9f51-6130746d9cd5"
      },
      "outputs": [
        {
          "output_type": "display_data",
          "data": {
            "text/plain": [
              "<Figure size 640x480 with 1 Axes>"
            ],
            "image/png": "[encoded data removed]"
          },
          "metadata": {}
        },
        {
          "output_type": "display_data",
          "data": {
            "text/plain": [
              "<Figure size 640x480 with 1 Axes>"
            ],
            "image/png": "[encoded data removed]"
          },
          "metadata": {}
        },
        {
          "output_type": "display_data",
          "data": {
            "text/plain": [
              "<Figure size 640x480 with 1 Axes>"
            ],
            "image/png": "[encoded data removed]"
          },
          "metadata": {}
        },
        {
          "output_type": "display_data",
          "data": {
            "text/plain": [
              "<Figure size 640x480 with 1 Axes>"
            ],
            "image/png": "[encoded data removed]"
          },
          "metadata": {}
        },
        {
          "output_type": "display_data",
          "data": {
            "text/plain": [
              "<Figure size 640x480 with 1 Axes>"
            ],
            "image/png": "[encoded data removed]"
          },
          "metadata": {}
        },
        {
          "output_type": "display_data",
          "data": {
            "text/plain": [
              "<Figure size 640x480 with 1 Axes>"
            ],
            "image/png": "[encoded data removed]"
          },
          "metadata": {}
        }
      ],
      "source": [
        "# Experiment with different hidden_1_size values\n",
        "for hidden_1_size in [4, 5, 10]:\n",
        "    train_and_plot(hidden_1_size)"
      ]
    },
    {
      "cell_type": "code",
      "execution_count": null,
      "metadata": {
        "id": "alMDK5qikJ3x"
      },
      "outputs": [],
      "source": []
    },
    {
      "cell_type": "markdown",
      "metadata": {
        "id": "vbbLNEG8kKH3"
      },
      "source": [
        "## 8. (3 pt) Comment on the number of the straight lines with respect to the size of the hidden layer."
      ]
    },
    {
      "cell_type": "markdown",
      "metadata": {
        "id": "3r_u4JH_kTiX"
      },
      "source": [
        "When plotting the decision boundaries, I don't see any truly linear boundaries. But I assume that's not exactly what we are being asked to comment on.\n",
        "<br/>\n",
        "<br/>\n",
        "If we are just considering the lines we see that are separating the decision boundaries, then when we have a `hidden_1` of size 4 we get 6 lines. It is hard to see how the lines move near the very center of the plot, so for simplicity I will assume that the lines all meet near the center.\n",
        "<br/>\n",
        "<br/>\n",
        "When we have a `hidden_1` of size 5, the decision boundaries look nearly identical to when it was size 4, with 6 lines on the plot. But when have a `hidden_1` of size 10, there is a noticable difference. This time there is a new, small decision boundary for the 1's classification near the top of the plot (it's sitting inside of a region for the 0's classification). This increases the number of lines we see, which leads to me to believe that increasing the `hidden_1` size correlates to an increase in complexity of the decision boundary (meaning more lines)."
      ]
    },
    {
      "cell_type": "code",
      "execution_count": null,
      "metadata": {
        "id": "Zt5imS_NkO9_"
      },
      "outputs": [],
      "source": []
    },
    {
      "cell_type": "markdown",
      "metadata": {
        "id": "aaqxYYITkWIF"
      },
      "source": [
        "## 9. Experiments 2: with the `hidden_1` layer of the size 4 try Sigmoind, ReLU, LeakyReLU, ELU, and SiLU as `activation_1`. Do this for batch sizes 4 and 50."
      ]
    },
    {
      "cell_type": "code",
      "execution_count": null,
      "metadata": {
        "id": "13DPPUK2kQgv"
      },
      "outputs": [],
      "source": []
    },
    {
      "cell_type": "code",
      "execution_count": null,
      "metadata": {
        "id": "uPdwChLgk6hn"
      },
      "outputs": [],
      "source": []
    },
    {
      "cell_type": "code",
      "execution_count": null,
      "metadata": {
        "id": "5rvuPqwgk6lG"
      },
      "outputs": [],
      "source": []
    },
    {
      "cell_type": "markdown",
      "metadata": {
        "id": "ZUaEa0ECk6zu"
      },
      "source": [
        "## 10. (4 pt) Comment on the shape of the decision boundaries with respect to the activation function and the batch size. Did you adjust the learning rate? Did you try to start with small learning rate like 0.001 instead of 0.01 and if so, which worked better?"
      ]
    },
    {
      "cell_type": "code",
      "execution_count": null,
      "metadata": {
        "id": "uEfF86FJk-lu"
      },
      "outputs": [],
      "source": []
    }
  ],
  "metadata": {
    "colab": {
      "provenance": [],
      "include_colab_link": true
    },
    "kernelspec": {
      "display_name": "Python 3",
      "name": "python3"
    },
    "language_info": {
      "name": "python"
    }
  },
  "nbformat": 4,
  "nbformat_minor": 0
}