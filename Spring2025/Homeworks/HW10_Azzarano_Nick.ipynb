{
  "cells": [
    {
      "cell_type": "markdown",
      "metadata": {
        "id": "view-in-github",
        "colab_type": "text"
      },
      "source": [
        "<a href=\"https://colab.research.google.com/github/Nick-Azzarano/Machine-Learning-Practice/blob/main/Spring2025/Homeworks/HW10_Azzarano_Nick.ipynb\" target=\"_parent\"><img src=\"https://colab.research.google.com/assets/colab-badge.svg\" alt=\"Open In Colab\"/></a>"
      ]
    },
    {
      "cell_type": "markdown",
      "source": [
        "Nick Azzarano\n",
        "<br/>\n",
        "CSCI 335\n",
        "<br/>\n",
        "Anton Selitskiy\n",
        "<br/>\n",
        "April 14, 2025"
      ],
      "metadata": {
        "id": "RdRHgFD2cPBy"
      }
    },
    {
      "cell_type": "markdown",
      "metadata": {
        "id": "z_CRSmB1hc7b"
      },
      "source": [
        "# Homework 10\n",
        "\n",
        "In this homework, you will implement NN using PyTorch and investigate different activation functions, batch sizes, and learning rates. Use [Lecture code](https://github.com/anton-selitskiy/RIT_ML/blob/main/2025_spring/Week11_MLP/ML21.ipynb) as refference."
      ]
    },
    {
      "cell_type": "markdown",
      "metadata": {
        "id": "QqhFYpQGhmRn"
      },
      "source": [
        "Use load_planar_dataset function from the previous homework to create the data."
      ]
    },
    {
      "cell_type": "code",
      "execution_count": 310,
      "metadata": {
        "id": "_1xKtWGNhTbX"
      },
      "outputs": [],
      "source": [
        "import numpy as np\n",
        "import torch\n",
        "from torch.utils.data import Dataset, DataLoader\n",
        "import matplotlib.pyplot as plt"
      ]
    },
    {
      "cell_type": "code",
      "execution_count": 311,
      "metadata": {
        "id": "yGL2JrZtiHQH"
      },
      "outputs": [],
      "source": [
        "def load_planar_dataset():\n",
        "    np.random.seed(1)\n",
        "    m = 400 # number of examples\n",
        "    N = int(m/2) # number of points per class\n",
        "    D = 2 # dimensionality\n",
        "    X = np.zeros((m,D)) # data matrix where each row is a single example\n",
        "    Y = np.zeros(m, dtype='uint8') # labels vector (0 for red, 1 for blue)\n",
        "    a = 4 # maximum ray of the flower\n",
        "\n",
        "    for j in range(2):\n",
        "        ix = range(N*j,N*(j+1))\n",
        "        t = np.linspace(j*3.12,(j+1)*3.12,N) + np.random.randn(N)*0.2 # theta\n",
        "        r = a*np.sin(4*t) + np.random.randn(N)*0.2 # radius. 4 corresponds to the number of petals\n",
        "        X[ix] = np.c_[r*np.sin(t), r*np.cos(t)]\n",
        "        Y[ix] = j\n",
        "\n",
        "    return X, Y"
      ]
    },
    {
      "cell_type": "code",
      "source": [
        "x, y = load_planar_dataset()  #make_moons(n_samples=200, noise=0.1)  make_circles(n_samples=200, noise=0.1)\n",
        "y = y.reshape(-1,1)\n",
        "x.shape, y.shape"
      ],
      "metadata": {
        "colab": {
          "base_uri": "https://localhost:8080/"
        },
        "id": "6ZqfHUP6eBOD",
        "outputId": "a21e71c4-9b0c-42c9-fca6-5bd6119d6ee4"
      },
      "execution_count": 312,
      "outputs": [
        {
          "output_type": "execute_result",
          "data": {
            "text/plain": [
              "((400, 2), (400, 1))"
            ]
          },
          "metadata": {},
          "execution_count": 312
        }
      ]
    },
    {
      "cell_type": "code",
      "source": [
        "x[:,0]"
      ],
      "metadata": {
        "colab": {
          "base_uri": "https://localhost:8080/"
        },
        "collapsed": true,
        "id": "g-ARfUyLiRQV",
        "outputId": "34a6569c-8608-4226-d40f-bb1e4aaefaa5"
      },
      "execution_count": 313,
      "outputs": [
        {
          "output_type": "execute_result",
          "data": {
            "text/plain": [
              "array([ 1.20444229e+00,  1.58709904e-01,  9.52471960e-02,  3.49178475e-01,\n",
              "        6.94150378e-01,  1.62065038e+00,  1.53856225e+00,  3.63085641e-02,\n",
              "        4.74591109e-01,  1.65695828e-01,  1.66446249e+00,  8.40285720e-01,\n",
              "        2.61695163e-01,  2.31614896e-01,  1.58013020e+00,  6.35509950e-03,\n",
              "        6.80610419e-01,  1.21400432e-01,  1.13281261e+00,  1.61505892e+00,\n",
              "        1.66454441e-01,  1.72438241e+00,  1.88667246e+00,  1.72327227e+00,\n",
              "        1.54661332e+00,  9.84590400e-01,  1.45313345e+00,  7.49043388e-01,\n",
              "        1.45048341e+00,  1.64287865e+00,  1.28141487e+00,  1.59574104e+00,\n",
              "        1.46298294e+00,  1.46629048e+00,  1.54348961e+00,  1.57013416e+00,\n",
              "        1.22995404e+00,  1.31142345e+00, -1.99364553e+00,  3.94564752e-01,\n",
              "        1.51715449e+00,  1.69169139e+00,  1.74186686e+00, -2.91373382e+00,\n",
              "        7.52150898e-01,  1.68537303e+00,  3.71160238e-01, -3.73033884e+00,\n",
              "        3.52484080e-01, -1.48694206e+00, -7.45290416e-01,  5.63807442e-01,\n",
              "        1.27093179e+00,  5.35133607e-01, -1.71330375e-01, -2.50197293e+00,\n",
              "       -2.63275448e+00, -3.15561550e+00, -2.11022490e+00, -3.51303563e+00,\n",
              "       -3.52018155e-02, -3.99843114e+00, -3.08095445e+00, -1.79023024e+00,\n",
              "       -3.37520544e+00, -2.38578575e+00, -3.54741267e+00, -2.92344384e+00,\n",
              "       -1.01009705e+00, -3.02185838e-01, -1.47947199e-01, -2.41113498e+00,\n",
              "       -3.52065970e+00, -3.09762480e+00, -3.86453574e+00,  3.46287902e-02,\n",
              "       -3.81297733e+00, -2.54941164e+00, -3.61833546e+00, -2.31720968e+00,\n",
              "       -3.85843301e+00, -3.77182528e+00, -3.22643424e+00, -2.49748107e+00,\n",
              "       -2.94157976e+00, -2.91391859e+00, -3.70623964e+00, -1.95265709e+00,\n",
              "       -2.66020434e+00,  8.17304141e-01,  1.21768512e+00, -1.66246175e+00,\n",
              "       -2.75111411e+00, -3.31873701e+00, -2.14063182e-01, -1.09902222e+00,\n",
              "       -1.94767785e+00, -4.99991014e-01, -2.52618507e+00,  1.96360773e+00,\n",
              "       -1.02715843e+00,  3.03248341e+00,  1.51559027e+00,  2.21864283e+00,\n",
              "       -2.40385821e+00,  2.00630521e+00,  3.17911628e+00, -1.45188351e+00,\n",
              "        1.21496393e+00,  2.04613301e+00, -1.62182614e+00,  3.17993200e+00,\n",
              "        3.96799188e+00,  3.29897728e-01,  4.07816588e+00, -3.17566012e-01,\n",
              "        3.31129113e+00, -9.52809386e-01,  3.03768998e+00,  3.55052992e+00,\n",
              "        3.55990775e+00,  2.33663285e+00,  2.31352433e+00,  2.79495212e-01,\n",
              "        1.51862547e-01,  1.96155941e+00,  5.47353260e-01,  3.49044034e+00,\n",
              "        2.72566042e+00,  2.13606508e+00,  3.67042248e+00,  3.92260947e+00,\n",
              "        3.08862031e+00,  1.92948433e+00,  1.38946995e+00,  3.51428218e+00,\n",
              "        1.13035696e+00,  3.33545460e+00,  9.15905230e-03,  1.68097254e+00,\n",
              "        2.30710971e+00,  2.21404832e+00, -5.31842726e-01, -3.45874829e-01,\n",
              "       -9.83826601e-02,  6.55029428e-01,  5.83612433e-01, -7.68172854e-01,\n",
              "       -5.52725703e-02, -1.25961956e+00,  9.42805936e-01,  3.77681531e+00,\n",
              "       -1.70922458e+00, -1.08169517e+00, -1.40307039e+00, -6.43634519e-01,\n",
              "       -6.32543454e-01, -8.53713550e-01, -1.22772526e+00,  9.50740231e-01,\n",
              "       -5.97375125e-01,  5.01933176e-01, -1.88988467e+00, -1.23602220e+00,\n",
              "       -1.74861600e+00, -1.48828262e+00, -1.27810421e+00, -1.99338361e+00,\n",
              "       -6.80758371e-02,  1.07968241e+00, -1.49733014e+00, -1.02248497e+00,\n",
              "       -6.88068627e-02, -1.77284297e+00, -1.42903599e+00, -1.63191608e+00,\n",
              "       -1.57413453e-01, -1.69732959e+00, -7.20691107e-01, -1.49836618e+00,\n",
              "       -1.53285135e+00, -7.83079289e-01, -5.65545945e-01, -4.28247557e-03,\n",
              "       -9.54816172e-01, -1.43027299e+00, -1.99139039e-01, -3.93228458e-01,\n",
              "       -3.13917579e-01, -5.55629383e-01, -5.61729204e-02, -5.84257606e-02,\n",
              "       -8.07037000e-01, -1.86016879e-01, -9.65590226e-03, -1.52664558e+00,\n",
              "       -2.32543323e-02, -2.11665124e-02, -2.37912887e-01, -5.85846410e-01,\n",
              "       -1.07049581e+00, -2.32905994e-03, -9.27980849e-02, -9.24081181e-01,\n",
              "       -4.27415411e-02, -7.88306156e-02, -1.35471230e+00, -9.64506801e-02,\n",
              "       -4.88903965e-01, -1.40428145e+00, -1.03032194e-01, -1.76823043e+00,\n",
              "       -1.81435331e+00, -4.03453231e-01, -1.13007684e+00, -3.30143778e-01,\n",
              "       -1.03592948e-01, -1.62823990e+00, -1.27072988e+00, -3.24165041e-01,\n",
              "       -8.31515613e-01, -1.15541550e+00, -8.81319474e-01, -5.14135967e-01,\n",
              "       -3.41907953e-01, -1.50008474e+00, -1.09546543e+00, -1.71840632e+00,\n",
              "       -1.68448953e+00, -1.23608462e+00, -8.06782295e-01, -1.06026703e+00,\n",
              "       -1.25449646e+00, -1.71040125e+00, -4.54245598e-01, -1.78717499e+00,\n",
              "       -1.26536725e+00, -2.93821146e-01, -4.04645730e-01,  2.03128629e+00,\n",
              "       -1.02564465e+00, -1.07882287e+00, -1.48728331e+00,  1.52973464e+00,\n",
              "       -1.39893030e+00, -3.67322611e-01, -1.53385549e+00,  1.75371064e+00,\n",
              "       -1.15897743e+00,  2.94968569e+00, -1.38165997e+00,  2.41200118e+00,\n",
              "        1.48331333e+00, -1.29300070e+00,  3.02838862e+00, -1.14374794e+00,\n",
              "       -1.06870636e+00,  2.70728746e+00, -2.29022863e-01,  1.80385877e-01,\n",
              "        7.87999977e-01, -1.65291432e-01,  3.73979818e+00,  3.48775653e+00,\n",
              "        2.08377776e+00,  2.36553487e+00,  3.47039369e+00,  2.42914859e+00,\n",
              "        3.90210781e+00,  2.03812322e+00,  4.04388429e+00,  3.15341019e+00,\n",
              "        3.09441731e+00,  1.00077505e+00,  3.22109077e+00,  3.03895157e+00,\n",
              "       -1.10566174e-01,  1.45338553e+00,  3.42704770e+00,  3.16377425e+00,\n",
              "        3.06435279e+00,  2.97153034e+00,  3.66817242e+00,  1.81576373e+00,\n",
              "       -6.52056092e-01,  2.39565436e+00, -1.83495474e-02, -1.85426248e+00,\n",
              "       -7.55084589e-02,  3.68327360e+00,  3.01854545e+00,  6.67169560e-01,\n",
              "        3.21959504e+00,  6.71420203e-01,  3.62660798e+00,  3.41692475e+00,\n",
              "       -4.99555802e-01,  2.82564692e+00,  3.67261725e+00,  7.88007167e-01,\n",
              "        3.86155325e+00, -2.85587710e-01,  2.28420287e+00,  2.81396650e-01,\n",
              "        3.13503544e-01, -1.43368358e+00,  9.57195160e-01, -1.85436896e+00,\n",
              "        3.81805817e-01, -2.78967630e+00, -3.28548806e+00, -2.22349866e+00,\n",
              "       -2.78061591e+00,  8.26303188e-01, -3.72885115e+00, -1.23292968e+00,\n",
              "       -9.58935652e-01, -3.85811062e+00, -3.59301074e+00, -3.19689248e+00,\n",
              "       -2.12766839e+00, -2.96424870e+00, -3.60274154e+00, -1.17472896e+00,\n",
              "       -2.58752094e+00, -3.16293962e+00, -1.72757867e+00, -3.45341213e+00,\n",
              "       -2.81273166e+00, -1.03553265e+00, -3.15675590e-01, -3.70141041e+00,\n",
              "       -4.21189811e+00, -2.46094977e+00, -3.43569797e+00, -3.34469058e+00,\n",
              "       -1.38193635e+00, -3.17949403e+00, -2.42119633e+00, -1.33643509e+00,\n",
              "       -3.06299272e+00, -3.56504553e+00, -3.34451075e+00,  7.77655270e-01,\n",
              "       -2.98030710e+00, -3.55225078e+00, -1.82974404e+00,  1.46532816e+00,\n",
              "        1.56688198e+00, -2.96543364e+00, -9.60755845e-01, -3.37890943e+00,\n",
              "        1.47135345e+00, -3.02829566e+00,  7.50982262e-03,  1.79730919e+00,\n",
              "        3.91077683e-01,  1.63881069e+00, -8.84278418e-01,  1.56546135e+00,\n",
              "        1.59529239e+00,  1.27139537e+00,  1.40701977e+00,  1.58125802e+00,\n",
              "       -1.72159327e+00,  5.68722722e-01,  1.60960641e+00,  1.70849761e+00,\n",
              "        3.77494361e-02,  1.77885147e+00,  1.57017560e+00,  1.31626221e+00,\n",
              "        1.45580659e+00,  9.95670227e-02,  1.49806312e+00,  1.19805866e+00,\n",
              "        1.30759534e+00,  1.69066279e+00,  1.54457758e+00,  3.36164302e-01,\n",
              "        4.71520896e-01,  1.79332637e+00,  1.75802645e+00,  1.11059510e+00,\n",
              "        2.25410298e-02,  1.03402966e+00,  1.46010385e-01,  1.50301824e+00,\n",
              "        5.29563078e-01,  7.23526086e-01,  1.24444151e+00,  7.11308695e-01,\n",
              "        3.65824427e-02,  5.96719268e-01,  1.77160218e-01,  4.50367941e-01,\n",
              "        3.75726453e-02,  2.13641164e-01,  3.24386893e-01,  7.30780825e-01])"
            ]
          },
          "metadata": {},
          "execution_count": 313
        }
      ]
    },
    {
      "cell_type": "code",
      "source": [
        "plt.scatter(x[:,0], x[:,1], c=y)"
      ],
      "metadata": {
        "colab": {
          "base_uri": "https://localhost:8080/",
          "height": 447
        },
        "id": "ZB_ZiOrKeEvY",
        "outputId": "2715946d-6956-4ee6-c24b-4e18df32590c"
      },
      "execution_count": 314,
      "outputs": [
        {
          "output_type": "execute_result",
          "data": {
            "text/plain": [
              "<matplotlib.collections.PathCollection at 0x7bfca3c50c90>"
            ]
          },
          "metadata": {},
          "execution_count": 314
        },
        {
          "output_type": "display_data",
          "data": {
            "text/plain": [
              "<Figure size 640x480 with 1 Axes>"
            ],
            "image/png": "[encoded data removed]"
          },
          "metadata": {}
        }
      ]
    },
    {
      "cell_type": "markdown",
      "metadata": {
        "id": "lT4dPA8siHi_"
      },
      "source": [
        "##1. (2 pt) Create Dataset object."
      ]
    },
    {
      "cell_type": "code",
      "execution_count": 315,
      "metadata": {
        "id": "_oFulJvwiJA_"
      },
      "outputs": [],
      "source": [
        "class MyData(Dataset):\n",
        "    def __init__(self, x, y):\n",
        "        \"\"\"\n",
        "        Initialize the dataset with features (x) and labels (y).\n",
        "        \"\"\"\n",
        "        self.x = torch.tensor(x, dtype=torch.float32)\n",
        "        self.y = torch.tensor(y, dtype=torch.float32)\n",
        "\n",
        "    def __len__(self):\n",
        "        \"\"\"\n",
        "        Return the number of samples in the dataset.\n",
        "        \"\"\"\n",
        "        return len(self.x)\n",
        "\n",
        "    def __getitem__(self, idx):\n",
        "        \"\"\"\n",
        "        Retrieve a single sample (features and label) by index.\n",
        "        \"\"\"\n",
        "        return self.x[idx], self.y[idx]"
      ]
    },
    {
      "cell_type": "code",
      "source": [
        "data = MyData(x,y)"
      ],
      "metadata": {
        "id": "USrdKxDaeik0"
      },
      "execution_count": 316,
      "outputs": []
    },
    {
      "cell_type": "code",
      "source": [
        "data.__len__()"
      ],
      "metadata": {
        "colab": {
          "base_uri": "https://localhost:8080/"
        },
        "id": "yzZIRbp2ekpn",
        "outputId": "0f2c6fad-cc4e-4166-a6b4-b0aa2e66aa80"
      },
      "execution_count": 317,
      "outputs": [
        {
          "output_type": "execute_result",
          "data": {
            "text/plain": [
              "400"
            ]
          },
          "metadata": {},
          "execution_count": 317
        }
      ]
    },
    {
      "cell_type": "code",
      "source": [
        "data.__getitem__(0)"
      ],
      "metadata": {
        "colab": {
          "base_uri": "https://localhost:8080/"
        },
        "id": "xvm8bo3tfmm6",
        "outputId": "4561491d-6457-4236-c432-3c430b8ce5b8"
      },
      "execution_count": 318,
      "outputs": [
        {
          "output_type": "execute_result",
          "data": {
            "text/plain": [
              "(tensor([1.2044, 3.5761]), tensor([0.]))"
            ]
          },
          "metadata": {},
          "execution_count": 318
        }
      ]
    },
    {
      "cell_type": "markdown",
      "metadata": {
        "id": "o6uNanKiiMjH"
      },
      "source": [
        "## 2. (1 pt) Create DataLoader object."
      ]
    },
    {
      "cell_type": "code",
      "execution_count": 319,
      "metadata": {
        "id": "CR-6brtWiSz_"
      },
      "outputs": [],
      "source": [
        "data_loader = DataLoader(data, batch_size=32, shuffle=True)"
      ]
    },
    {
      "cell_type": "code",
      "source": [
        "for x_batch, y_batch in data_loader:\n",
        "  print(x_batch.shape, y_batch.shape)"
      ],
      "metadata": {
        "colab": {
          "base_uri": "https://localhost:8080/"
        },
        "id": "ckQciXLGgFpk",
        "outputId": "5690345a-ae19-4158-87c8-796b345b31a0"
      },
      "execution_count": 320,
      "outputs": [
        {
          "output_type": "stream",
          "name": "stdout",
          "text": [
            "torch.Size([32, 2]) torch.Size([32, 1])\n",
            "torch.Size([32, 2]) torch.Size([32, 1])\n",
            "torch.Size([32, 2]) torch.Size([32, 1])\n",
            "torch.Size([32, 2]) torch.Size([32, 1])\n",
            "torch.Size([32, 2]) torch.Size([32, 1])\n",
            "torch.Size([32, 2]) torch.Size([32, 1])\n",
            "torch.Size([32, 2]) torch.Size([32, 1])\n",
            "torch.Size([32, 2]) torch.Size([32, 1])\n",
            "torch.Size([32, 2]) torch.Size([32, 1])\n",
            "torch.Size([32, 2]) torch.Size([32, 1])\n",
            "torch.Size([32, 2]) torch.Size([32, 1])\n",
            "torch.Size([32, 2]) torch.Size([32, 1])\n",
            "torch.Size([16, 2]) torch.Size([16, 1])\n"
          ]
        }
      ]
    },
    {
      "cell_type": "markdown",
      "metadata": {
        "id": "uFSBUgnqiVzZ"
      },
      "source": [
        "## 3. (3 pt) Construct the model\n",
        "$$\n",
        "hidden\\_1 \\to activation\\_1 \\to hidden\\_2 \\to activation\\_2  \n",
        "$$\n",
        "Use `Sigmoid` function as activation on this step."
      ]
    },
    {
      "cell_type": "code",
      "execution_count": 321,
      "metadata": {
        "id": "UnUP-g9Fi0m9"
      },
      "outputs": [],
      "source": [
        "import torch.nn as nn"
      ]
    },
    {
      "cell_type": "code",
      "source": [
        "# class MyModel(nn.Module):\n",
        "#   # The constructor is what layers are within your model\n",
        "#   def __init__(self, input_size, hidden_1_size, hidden_2_size):\n",
        "#     super().__init__()\n",
        "#     self.fc1 = nn.Linear(input_size, hidden_1_size) #fc stands for \"fully connected\", it fans out to hidden_size number of nodes\n",
        "#     self.activation = nn.Sigmoid() # Activation function\n",
        "#     self.fc2 = nn.Linear(hidden_1_size, hidden_2_size) # create a second hidden layer\n",
        "#     self.output = nn.Linear(hidden_2_size, 1) # we map our hidden_size back down to 1.\n",
        "\n",
        "#   #\n",
        "#   def forward(self, x_batch):\n",
        "#     o = self.fc1(x_batch)\n",
        "#     o = self.activation(o)\n",
        "#     o = self.fc2(o)\n",
        "#     o = self.activation(o)\n",
        "#     o = self.output(o)\n",
        "#     return o"
      ],
      "metadata": {
        "id": "7Nv_LKWFgM9i"
      },
      "execution_count": 322,
      "outputs": []
    },
    {
      "cell_type": "code",
      "source": [
        "class MyModel(nn.Module):\n",
        "    def __init__(self, input_size, hidden_1_size, hidden_2_size, activation_func_1, activation_func_2):\n",
        "        super().__init__()\n",
        "        self.fc1 = nn.Linear(input_size, hidden_1_size)\n",
        "        self.activation_1 = activation_func_1\n",
        "        self.fc2 = nn.Linear(hidden_1_size, hidden_2_size)\n",
        "        self.activation_2 = activation_func_2\n",
        "        self.output = nn.Linear(hidden_2_size, 1)\n",
        "        self.output_activation = activation_func_2  # Add Sigmoid for the output layer\n",
        "\n",
        "    def forward(self, x_batch):\n",
        "        o = self.fc1(x_batch)\n",
        "        o = self.activation_1(o)\n",
        "        o = self.fc2(o)\n",
        "        o = self.activation_2(o)\n",
        "        o = self.output(o)\n",
        "        o = self.output_activation(o)  # Apply Sigmoid here\n",
        "        return o"
      ],
      "metadata": {
        "id": "1wG9d_xrZ2F0"
      },
      "execution_count": 323,
      "outputs": []
    },
    {
      "cell_type": "code",
      "source": [
        "input_size = 2\n",
        "hidden_1_size = 4\n",
        "hidden_2_size = 3\n",
        "activation_func_1 = nn.Sigmoid()\n",
        "activation_func_2 = nn.Sigmoid()\n",
        "my_model = MyModel(input_size, hidden_1_size, hidden_2_size, activation_func_1, activation_func_2)"
      ],
      "metadata": {
        "id": "_Zj8bVE-hOMX"
      },
      "execution_count": 324,
      "outputs": []
    },
    {
      "cell_type": "markdown",
      "metadata": {
        "id": "j6nUGAuEi1_a"
      },
      "source": [
        "## 4. (3 pt) Write the training loop. Use Binary cross-entropy loss. Also, you can use tqdm function to see the training progress. You can start with learning rate 0.01."
      ]
    },
    {
      "cell_type": "code",
      "execution_count": 325,
      "metadata": {
        "id": "rVX9T03yi9rk"
      },
      "outputs": [],
      "source": [
        "from torch.nn import BCELoss\n",
        "from tqdm import tqdm"
      ]
    },
    {
      "cell_type": "code",
      "source": [
        "# Initialize the loss function\n",
        "loss_fn = BCELoss()"
      ],
      "metadata": {
        "id": "LN_iRTeLh5uo"
      },
      "execution_count": 326,
      "outputs": []
    },
    {
      "cell_type": "code",
      "execution_count": 327,
      "metadata": {
        "id": "fZdZcqfkjd8R"
      },
      "outputs": [],
      "source": [
        "# Initialize the optimizer\n",
        "from torch.optim import Adam\n",
        "optimizer = Adam(my_model.parameters(), lr=0.01)"
      ]
    },
    {
      "cell_type": "code",
      "source": [
        "for batch in data_loader:\n",
        "  x_batch, y_batch = batch\n",
        "  print(x_batch.shape, y_batch.shape)"
      ],
      "metadata": {
        "colab": {
          "base_uri": "https://localhost:8080/"
        },
        "id": "8pKYRaDjYm0F",
        "outputId": "7eb911dd-2598-449f-dffd-4edcbabea041"
      },
      "execution_count": 328,
      "outputs": [
        {
          "output_type": "stream",
          "name": "stdout",
          "text": [
            "torch.Size([32, 2]) torch.Size([32, 1])\n",
            "torch.Size([32, 2]) torch.Size([32, 1])\n",
            "torch.Size([32, 2]) torch.Size([32, 1])\n",
            "torch.Size([32, 2]) torch.Size([32, 1])\n",
            "torch.Size([32, 2]) torch.Size([32, 1])\n",
            "torch.Size([32, 2]) torch.Size([32, 1])\n",
            "torch.Size([32, 2]) torch.Size([32, 1])\n",
            "torch.Size([32, 2]) torch.Size([32, 1])\n",
            "torch.Size([32, 2]) torch.Size([32, 1])\n",
            "torch.Size([32, 2]) torch.Size([32, 1])\n",
            "torch.Size([32, 2]) torch.Size([32, 1])\n",
            "torch.Size([32, 2]) torch.Size([32, 1])\n",
            "torch.Size([16, 2]) torch.Size([16, 1])\n"
          ]
        }
      ]
    },
    {
      "cell_type": "code",
      "source": [
        "# Initialize a list to store the loss for each epoch\n",
        "loss_history = []\n",
        "\n",
        "# Training loop\n",
        "epochs = 100  # Number of epochs\n",
        "for epoch in range(epochs):\n",
        "    epoch_loss = 0.0\n",
        "    for batch in tqdm(data_loader, desc=f\"Epoch {epoch+1}/{epochs}\"):\n",
        "        x_batch, y_batch = batch\n",
        "\n",
        "        # Forward pass\n",
        "        predictions = my_model.forward(x_batch)\n",
        "        loss = loss_fn(predictions, y_batch)\n",
        "\n",
        "        # Backward pass\n",
        "        optimizer.zero_grad()\n",
        "        loss.backward()\n",
        "        optimizer.step()\n",
        "\n",
        "        # Accumulate loss\n",
        "        epoch_loss += loss.item()\n",
        "\n",
        "    # Store the average loss for this epoch\n",
        "    loss_history.append(epoch_loss / len(data_loader))\n",
        "    print(f\"Epoch {epoch+1}, Loss: {epoch_loss:.4f}\")"
      ],
      "metadata": {
        "colab": {
          "base_uri": "https://localhost:8080/"
        },
        "collapsed": true,
        "id": "BpLQZTGZWp3I",
        "outputId": "e0c1e84d-06d7-4a63-e3ec-575ede329c58"
      },
      "execution_count": 343,
      "outputs": [
        {
          "output_type": "stream",
          "name": "stderr",
          "text": [
            "Epoch 1/100: 100%|██████████| 13/13 [00:00<00:00, 560.08it/s]\n"
          ]
        },
        {
          "output_type": "stream",
          "name": "stdout",
          "text": [
            "Epoch 1, Loss: 7.5101\n"
          ]
        },
        {
          "output_type": "stream",
          "name": "stderr",
          "text": [
            "Epoch 2/100: 100%|██████████| 13/13 [00:00<00:00, 522.06it/s]\n"
          ]
        },
        {
          "output_type": "stream",
          "name": "stdout",
          "text": [
            "Epoch 2, Loss: 7.4530\n"
          ]
        },
        {
          "output_type": "stream",
          "name": "stderr",
          "text": [
            "Epoch 3/100: 100%|██████████| 13/13 [00:00<00:00, 589.44it/s]\n"
          ]
        },
        {
          "output_type": "stream",
          "name": "stdout",
          "text": [
            "Epoch 3, Loss: 7.4719\n"
          ]
        },
        {
          "output_type": "stream",
          "name": "stderr",
          "text": [
            "Epoch 4/100: 100%|██████████| 13/13 [00:00<00:00, 559.20it/s]\n"
          ]
        },
        {
          "output_type": "stream",
          "name": "stdout",
          "text": [
            "Epoch 4, Loss: 7.4899\n"
          ]
        },
        {
          "output_type": "stream",
          "name": "stderr",
          "text": [
            "Epoch 5/100: 100%|██████████| 13/13 [00:00<00:00, 597.10it/s]\n"
          ]
        },
        {
          "output_type": "stream",
          "name": "stdout",
          "text": [
            "Epoch 5, Loss: 7.5403\n"
          ]
        },
        {
          "output_type": "stream",
          "name": "stderr",
          "text": [
            "Epoch 6/100: 100%|██████████| 13/13 [00:00<00:00, 563.52it/s]\n"
          ]
        },
        {
          "output_type": "stream",
          "name": "stdout",
          "text": [
            "Epoch 6, Loss: 7.5494\n"
          ]
        },
        {
          "output_type": "stream",
          "name": "stderr",
          "text": [
            "Epoch 7/100: 100%|██████████| 13/13 [00:00<00:00, 423.94it/s]\n"
          ]
        },
        {
          "output_type": "stream",
          "name": "stdout",
          "text": [
            "Epoch 7, Loss: 7.5509\n"
          ]
        },
        {
          "output_type": "stream",
          "name": "stderr",
          "text": [
            "Epoch 8/100: 100%|██████████| 13/13 [00:00<00:00, 332.91it/s]\n"
          ]
        },
        {
          "output_type": "stream",
          "name": "stdout",
          "text": [
            "Epoch 8, Loss: 7.5689\n"
          ]
        },
        {
          "output_type": "stream",
          "name": "stderr",
          "text": [
            "Epoch 9/100: 100%|██████████| 13/13 [00:00<00:00, 350.81it/s]\n"
          ]
        },
        {
          "output_type": "stream",
          "name": "stdout",
          "text": [
            "Epoch 9, Loss: 7.5910\n"
          ]
        },
        {
          "output_type": "stream",
          "name": "stderr",
          "text": [
            "Epoch 10/100: 100%|██████████| 13/13 [00:00<00:00, 357.97it/s]\n"
          ]
        },
        {
          "output_type": "stream",
          "name": "stdout",
          "text": [
            "Epoch 10, Loss: 7.5511\n"
          ]
        },
        {
          "output_type": "stream",
          "name": "stderr",
          "text": [
            "Epoch 11/100: 100%|██████████| 13/13 [00:00<00:00, 382.92it/s]\n"
          ]
        },
        {
          "output_type": "stream",
          "name": "stdout",
          "text": [
            "Epoch 11, Loss: 7.4943\n"
          ]
        },
        {
          "output_type": "stream",
          "name": "stderr",
          "text": [
            "Epoch 12/100: 100%|██████████| 13/13 [00:00<00:00, 391.77it/s]\n"
          ]
        },
        {
          "output_type": "stream",
          "name": "stdout",
          "text": [
            "Epoch 12, Loss: 7.5631\n"
          ]
        },
        {
          "output_type": "stream",
          "name": "stderr",
          "text": [
            "Epoch 13/100: 100%|██████████| 13/13 [00:00<00:00, 434.90it/s]\n"
          ]
        },
        {
          "output_type": "stream",
          "name": "stdout",
          "text": [
            "Epoch 13, Loss: 7.4677\n"
          ]
        },
        {
          "output_type": "stream",
          "name": "stderr",
          "text": [
            "Epoch 14/100: 100%|██████████| 13/13 [00:00<00:00, 423.03it/s]\n"
          ]
        },
        {
          "output_type": "stream",
          "name": "stdout",
          "text": [
            "Epoch 14, Loss: 7.5627\n"
          ]
        },
        {
          "output_type": "stream",
          "name": "stderr",
          "text": [
            "Epoch 15/100: 100%|██████████| 13/13 [00:00<00:00, 441.15it/s]\n"
          ]
        },
        {
          "output_type": "stream",
          "name": "stdout",
          "text": [
            "Epoch 15, Loss: 7.5019\n"
          ]
        },
        {
          "output_type": "stream",
          "name": "stderr",
          "text": [
            "Epoch 16/100: 100%|██████████| 13/13 [00:00<00:00, 355.51it/s]\n"
          ]
        },
        {
          "output_type": "stream",
          "name": "stdout",
          "text": [
            "Epoch 16, Loss: 7.5056\n"
          ]
        },
        {
          "output_type": "stream",
          "name": "stderr",
          "text": [
            "Epoch 17/100: 100%|██████████| 13/13 [00:00<00:00, 313.72it/s]\n"
          ]
        },
        {
          "output_type": "stream",
          "name": "stdout",
          "text": [
            "Epoch 17, Loss: 7.4970\n"
          ]
        },
        {
          "output_type": "stream",
          "name": "stderr",
          "text": [
            "Epoch 18/100: 100%|██████████| 13/13 [00:00<00:00, 414.47it/s]\n"
          ]
        },
        {
          "output_type": "stream",
          "name": "stdout",
          "text": [
            "Epoch 18, Loss: 7.5928\n"
          ]
        },
        {
          "output_type": "stream",
          "name": "stderr",
          "text": [
            "Epoch 19/100: 100%|██████████| 13/13 [00:00<00:00, 467.06it/s]\n"
          ]
        },
        {
          "output_type": "stream",
          "name": "stdout",
          "text": [
            "Epoch 19, Loss: 7.5297\n"
          ]
        },
        {
          "output_type": "stream",
          "name": "stderr",
          "text": [
            "Epoch 20/100: 100%|██████████| 13/13 [00:00<00:00, 364.30it/s]\n"
          ]
        },
        {
          "output_type": "stream",
          "name": "stdout",
          "text": [
            "Epoch 20, Loss: 7.5213\n"
          ]
        },
        {
          "output_type": "stream",
          "name": "stderr",
          "text": [
            "Epoch 21/100: 100%|██████████| 13/13 [00:00<00:00, 456.19it/s]\n"
          ]
        },
        {
          "output_type": "stream",
          "name": "stdout",
          "text": [
            "Epoch 21, Loss: 7.4389\n"
          ]
        },
        {
          "output_type": "stream",
          "name": "stderr",
          "text": [
            "Epoch 22/100: 100%|██████████| 13/13 [00:00<00:00, 458.19it/s]\n"
          ]
        },
        {
          "output_type": "stream",
          "name": "stdout",
          "text": [
            "Epoch 22, Loss: 7.4832\n"
          ]
        },
        {
          "output_type": "stream",
          "name": "stderr",
          "text": [
            "Epoch 23/100: 100%|██████████| 13/13 [00:00<00:00, 351.85it/s]\n"
          ]
        },
        {
          "output_type": "stream",
          "name": "stdout",
          "text": [
            "Epoch 23, Loss: 7.4627\n"
          ]
        },
        {
          "output_type": "stream",
          "name": "stderr",
          "text": [
            "Epoch 24/100: 100%|██████████| 13/13 [00:00<00:00, 433.80it/s]\n"
          ]
        },
        {
          "output_type": "stream",
          "name": "stdout",
          "text": [
            "Epoch 24, Loss: 7.4885\n"
          ]
        },
        {
          "output_type": "stream",
          "name": "stderr",
          "text": [
            "Epoch 25/100: 100%|██████████| 13/13 [00:00<00:00, 386.06it/s]\n"
          ]
        },
        {
          "output_type": "stream",
          "name": "stdout",
          "text": [
            "Epoch 25, Loss: 7.5460\n"
          ]
        },
        {
          "output_type": "stream",
          "name": "stderr",
          "text": [
            "Epoch 26/100: 100%|██████████| 13/13 [00:00<00:00, 382.51it/s]\n"
          ]
        },
        {
          "output_type": "stream",
          "name": "stdout",
          "text": [
            "Epoch 26, Loss: 7.4813\n"
          ]
        },
        {
          "output_type": "stream",
          "name": "stderr",
          "text": [
            "Epoch 27/100: 100%|██████████| 13/13 [00:00<00:00, 460.78it/s]\n"
          ]
        },
        {
          "output_type": "stream",
          "name": "stdout",
          "text": [
            "Epoch 27, Loss: 7.5285\n"
          ]
        },
        {
          "output_type": "stream",
          "name": "stderr",
          "text": [
            "Epoch 28/100: 100%|██████████| 13/13 [00:00<00:00, 415.42it/s]\n"
          ]
        },
        {
          "output_type": "stream",
          "name": "stdout",
          "text": [
            "Epoch 28, Loss: 7.5326\n"
          ]
        },
        {
          "output_type": "stream",
          "name": "stderr",
          "text": [
            "Epoch 29/100: 100%|██████████| 13/13 [00:00<00:00, 426.59it/s]\n"
          ]
        },
        {
          "output_type": "stream",
          "name": "stdout",
          "text": [
            "Epoch 29, Loss: 7.5220\n"
          ]
        },
        {
          "output_type": "stream",
          "name": "stderr",
          "text": [
            "Epoch 30/100: 100%|██████████| 13/13 [00:00<00:00, 399.98it/s]\n"
          ]
        },
        {
          "output_type": "stream",
          "name": "stdout",
          "text": [
            "Epoch 30, Loss: 7.4724\n"
          ]
        },
        {
          "output_type": "stream",
          "name": "stderr",
          "text": [
            "Epoch 31/100: 100%|██████████| 13/13 [00:00<00:00, 416.46it/s]\n"
          ]
        },
        {
          "output_type": "stream",
          "name": "stdout",
          "text": [
            "Epoch 31, Loss: 7.5257\n"
          ]
        },
        {
          "output_type": "stream",
          "name": "stderr",
          "text": [
            "Epoch 32/100: 100%|██████████| 13/13 [00:00<00:00, 451.24it/s]\n"
          ]
        },
        {
          "output_type": "stream",
          "name": "stdout",
          "text": [
            "Epoch 32, Loss: 7.5370\n"
          ]
        },
        {
          "output_type": "stream",
          "name": "stderr",
          "text": [
            "Epoch 33/100: 100%|██████████| 13/13 [00:00<00:00, 396.99it/s]\n"
          ]
        },
        {
          "output_type": "stream",
          "name": "stdout",
          "text": [
            "Epoch 33, Loss: 7.4477\n"
          ]
        },
        {
          "output_type": "stream",
          "name": "stderr",
          "text": [
            "Epoch 34/100: 100%|██████████| 13/13 [00:00<00:00, 459.03it/s]\n"
          ]
        },
        {
          "output_type": "stream",
          "name": "stdout",
          "text": [
            "Epoch 34, Loss: 7.5333\n"
          ]
        },
        {
          "output_type": "stream",
          "name": "stderr",
          "text": [
            "Epoch 35/100: 100%|██████████| 13/13 [00:00<00:00, 359.41it/s]\n"
          ]
        },
        {
          "output_type": "stream",
          "name": "stdout",
          "text": [
            "Epoch 35, Loss: 7.5912\n"
          ]
        },
        {
          "output_type": "stream",
          "name": "stderr",
          "text": [
            "Epoch 36/100: 100%|██████████| 13/13 [00:00<00:00, 390.27it/s]\n"
          ]
        },
        {
          "output_type": "stream",
          "name": "stdout",
          "text": [
            "Epoch 36, Loss: 7.4830\n"
          ]
        },
        {
          "output_type": "stream",
          "name": "stderr",
          "text": [
            "Epoch 37/100: 100%|██████████| 13/13 [00:00<00:00, 378.23it/s]\n"
          ]
        },
        {
          "output_type": "stream",
          "name": "stdout",
          "text": [
            "Epoch 37, Loss: 7.4214\n"
          ]
        },
        {
          "output_type": "stream",
          "name": "stderr",
          "text": [
            "Epoch 38/100: 100%|██████████| 13/13 [00:00<00:00, 431.56it/s]\n"
          ]
        },
        {
          "output_type": "stream",
          "name": "stdout",
          "text": [
            "Epoch 38, Loss: 7.5108\n"
          ]
        },
        {
          "output_type": "stream",
          "name": "stderr",
          "text": [
            "Epoch 39/100: 100%|██████████| 13/13 [00:00<00:00, 437.66it/s]\n"
          ]
        },
        {
          "output_type": "stream",
          "name": "stdout",
          "text": [
            "Epoch 39, Loss: 7.4857\n"
          ]
        },
        {
          "output_type": "stream",
          "name": "stderr",
          "text": [
            "Epoch 40/100: 100%|██████████| 13/13 [00:00<00:00, 405.21it/s]\n"
          ]
        },
        {
          "output_type": "stream",
          "name": "stdout",
          "text": [
            "Epoch 40, Loss: 7.5650\n"
          ]
        },
        {
          "output_type": "stream",
          "name": "stderr",
          "text": [
            "Epoch 41/100: 100%|██████████| 13/13 [00:00<00:00, 407.31it/s]\n"
          ]
        },
        {
          "output_type": "stream",
          "name": "stdout",
          "text": [
            "Epoch 41, Loss: 7.3978\n"
          ]
        },
        {
          "output_type": "stream",
          "name": "stderr",
          "text": [
            "Epoch 42/100: 100%|██████████| 13/13 [00:00<00:00, 400.25it/s]\n"
          ]
        },
        {
          "output_type": "stream",
          "name": "stdout",
          "text": [
            "Epoch 42, Loss: 7.4500\n"
          ]
        },
        {
          "output_type": "stream",
          "name": "stderr",
          "text": [
            "Epoch 43/100: 100%|██████████| 13/13 [00:00<00:00, 435.71it/s]\n"
          ]
        },
        {
          "output_type": "stream",
          "name": "stdout",
          "text": [
            "Epoch 43, Loss: 7.5723\n"
          ]
        },
        {
          "output_type": "stream",
          "name": "stderr",
          "text": [
            "Epoch 44/100: 100%|██████████| 13/13 [00:00<00:00, 405.51it/s]\n"
          ]
        },
        {
          "output_type": "stream",
          "name": "stdout",
          "text": [
            "Epoch 44, Loss: 7.5046\n"
          ]
        },
        {
          "output_type": "stream",
          "name": "stderr",
          "text": [
            "Epoch 45/100: 100%|██████████| 13/13 [00:00<00:00, 349.10it/s]\n"
          ]
        },
        {
          "output_type": "stream",
          "name": "stdout",
          "text": [
            "Epoch 45, Loss: 7.4347\n"
          ]
        },
        {
          "output_type": "stream",
          "name": "stderr",
          "text": [
            "Epoch 46/100: 100%|██████████| 13/13 [00:00<00:00, 345.97it/s]\n"
          ]
        },
        {
          "output_type": "stream",
          "name": "stdout",
          "text": [
            "Epoch 46, Loss: 7.4724\n"
          ]
        },
        {
          "output_type": "stream",
          "name": "stderr",
          "text": [
            "Epoch 47/100: 100%|██████████| 13/13 [00:00<00:00, 394.65it/s]\n"
          ]
        },
        {
          "output_type": "stream",
          "name": "stdout",
          "text": [
            "Epoch 47, Loss: 7.4179\n"
          ]
        },
        {
          "output_type": "stream",
          "name": "stderr",
          "text": [
            "Epoch 48/100: 100%|██████████| 13/13 [00:00<00:00, 472.54it/s]\n"
          ]
        },
        {
          "output_type": "stream",
          "name": "stdout",
          "text": [
            "Epoch 48, Loss: 7.4933\n"
          ]
        },
        {
          "output_type": "stream",
          "name": "stderr",
          "text": [
            "Epoch 49/100: 100%|██████████| 13/13 [00:00<00:00, 443.40it/s]\n"
          ]
        },
        {
          "output_type": "stream",
          "name": "stdout",
          "text": [
            "Epoch 49, Loss: 7.4385\n"
          ]
        },
        {
          "output_type": "stream",
          "name": "stderr",
          "text": [
            "Epoch 50/100: 100%|██████████| 13/13 [00:00<00:00, 330.47it/s]\n"
          ]
        },
        {
          "output_type": "stream",
          "name": "stdout",
          "text": [
            "Epoch 50, Loss: 7.5186\n"
          ]
        },
        {
          "output_type": "stream",
          "name": "stderr",
          "text": [
            "Epoch 51/100: 100%|██████████| 13/13 [00:00<00:00, 301.50it/s]\n"
          ]
        },
        {
          "output_type": "stream",
          "name": "stdout",
          "text": [
            "Epoch 51, Loss: 7.4605\n"
          ]
        },
        {
          "output_type": "stream",
          "name": "stderr",
          "text": [
            "Epoch 52/100: 100%|██████████| 13/13 [00:00<00:00, 326.04it/s]\n"
          ]
        },
        {
          "output_type": "stream",
          "name": "stdout",
          "text": [
            "Epoch 52, Loss: 7.5831\n"
          ]
        },
        {
          "output_type": "stream",
          "name": "stderr",
          "text": [
            "Epoch 53/100: 100%|██████████| 13/13 [00:00<00:00, 412.77it/s]\n"
          ]
        },
        {
          "output_type": "stream",
          "name": "stdout",
          "text": [
            "Epoch 53, Loss: 7.5907\n"
          ]
        },
        {
          "output_type": "stream",
          "name": "stderr",
          "text": [
            "Epoch 54/100: 100%|██████████| 13/13 [00:00<00:00, 422.92it/s]\n"
          ]
        },
        {
          "output_type": "stream",
          "name": "stdout",
          "text": [
            "Epoch 54, Loss: 7.5250\n"
          ]
        },
        {
          "output_type": "stream",
          "name": "stderr",
          "text": [
            "Epoch 55/100: 100%|██████████| 13/13 [00:00<00:00, 401.71it/s]\n"
          ]
        },
        {
          "output_type": "stream",
          "name": "stdout",
          "text": [
            "Epoch 55, Loss: 7.4511\n"
          ]
        },
        {
          "output_type": "stream",
          "name": "stderr",
          "text": [
            "Epoch 56/100: 100%|██████████| 13/13 [00:00<00:00, 403.47it/s]\n"
          ]
        },
        {
          "output_type": "stream",
          "name": "stdout",
          "text": [
            "Epoch 56, Loss: 7.4880\n"
          ]
        },
        {
          "output_type": "stream",
          "name": "stderr",
          "text": [
            "Epoch 57/100: 100%|██████████| 13/13 [00:00<00:00, 404.38it/s]\n"
          ]
        },
        {
          "output_type": "stream",
          "name": "stdout",
          "text": [
            "Epoch 57, Loss: 7.5006\n"
          ]
        },
        {
          "output_type": "stream",
          "name": "stderr",
          "text": [
            "Epoch 58/100: 100%|██████████| 13/13 [00:00<00:00, 381.38it/s]\n"
          ]
        },
        {
          "output_type": "stream",
          "name": "stdout",
          "text": [
            "Epoch 58, Loss: 7.4329\n"
          ]
        },
        {
          "output_type": "stream",
          "name": "stderr",
          "text": [
            "Epoch 59/100: 100%|██████████| 13/13 [00:00<00:00, 399.92it/s]\n"
          ]
        },
        {
          "output_type": "stream",
          "name": "stdout",
          "text": [
            "Epoch 59, Loss: 7.4760\n"
          ]
        },
        {
          "output_type": "stream",
          "name": "stderr",
          "text": [
            "Epoch 60/100: 100%|██████████| 13/13 [00:00<00:00, 440.10it/s]\n"
          ]
        },
        {
          "output_type": "stream",
          "name": "stdout",
          "text": [
            "Epoch 60, Loss: 7.3854\n"
          ]
        },
        {
          "output_type": "stream",
          "name": "stderr",
          "text": [
            "Epoch 61/100: 100%|██████████| 13/13 [00:00<00:00, 391.58it/s]\n"
          ]
        },
        {
          "output_type": "stream",
          "name": "stdout",
          "text": [
            "Epoch 61, Loss: 7.5285\n"
          ]
        },
        {
          "output_type": "stream",
          "name": "stderr",
          "text": [
            "Epoch 62/100: 100%|██████████| 13/13 [00:00<00:00, 405.96it/s]\n"
          ]
        },
        {
          "output_type": "stream",
          "name": "stdout",
          "text": [
            "Epoch 62, Loss: 7.5032\n"
          ]
        },
        {
          "output_type": "stream",
          "name": "stderr",
          "text": [
            "Epoch 63/100: 100%|██████████| 13/13 [00:00<00:00, 400.47it/s]\n"
          ]
        },
        {
          "output_type": "stream",
          "name": "stdout",
          "text": [
            "Epoch 63, Loss: 7.4944\n"
          ]
        },
        {
          "output_type": "stream",
          "name": "stderr",
          "text": [
            "Epoch 64/100: 100%|██████████| 13/13 [00:00<00:00, 373.33it/s]\n"
          ]
        },
        {
          "output_type": "stream",
          "name": "stdout",
          "text": [
            "Epoch 64, Loss: 7.4320\n"
          ]
        },
        {
          "output_type": "stream",
          "name": "stderr",
          "text": [
            "Epoch 65/100: 100%|██████████| 13/13 [00:00<00:00, 286.85it/s]\n"
          ]
        },
        {
          "output_type": "stream",
          "name": "stdout",
          "text": [
            "Epoch 65, Loss: 7.5218\n"
          ]
        },
        {
          "output_type": "stream",
          "name": "stderr",
          "text": [
            "Epoch 66/100: 100%|██████████| 13/13 [00:00<00:00, 453.29it/s]\n"
          ]
        },
        {
          "output_type": "stream",
          "name": "stdout",
          "text": [
            "Epoch 66, Loss: 7.4626\n"
          ]
        },
        {
          "output_type": "stream",
          "name": "stderr",
          "text": [
            "Epoch 67/100: 100%|██████████| 13/13 [00:00<00:00, 332.85it/s]\n"
          ]
        },
        {
          "output_type": "stream",
          "name": "stdout",
          "text": [
            "Epoch 67, Loss: 7.4975\n"
          ]
        },
        {
          "output_type": "stream",
          "name": "stderr",
          "text": [
            "Epoch 68/100: 100%|██████████| 13/13 [00:00<00:00, 387.09it/s]\n"
          ]
        },
        {
          "output_type": "stream",
          "name": "stdout",
          "text": [
            "Epoch 68, Loss: 7.4254\n"
          ]
        },
        {
          "output_type": "stream",
          "name": "stderr",
          "text": [
            "Epoch 69/100: 100%|██████████| 13/13 [00:00<00:00, 409.89it/s]\n"
          ]
        },
        {
          "output_type": "stream",
          "name": "stdout",
          "text": [
            "Epoch 69, Loss: 7.5825\n"
          ]
        },
        {
          "output_type": "stream",
          "name": "stderr",
          "text": [
            "Epoch 70/100: 100%|██████████| 13/13 [00:00<00:00, 431.47it/s]\n"
          ]
        },
        {
          "output_type": "stream",
          "name": "stdout",
          "text": [
            "Epoch 70, Loss: 7.3932\n"
          ]
        },
        {
          "output_type": "stream",
          "name": "stderr",
          "text": [
            "Epoch 71/100: 100%|██████████| 13/13 [00:00<00:00, 416.81it/s]\n"
          ]
        },
        {
          "output_type": "stream",
          "name": "stdout",
          "text": [
            "Epoch 71, Loss: 7.5257\n"
          ]
        },
        {
          "output_type": "stream",
          "name": "stderr",
          "text": [
            "Epoch 72/100: 100%|██████████| 13/13 [00:00<00:00, 369.58it/s]\n"
          ]
        },
        {
          "output_type": "stream",
          "name": "stdout",
          "text": [
            "Epoch 72, Loss: 7.5660\n"
          ]
        },
        {
          "output_type": "stream",
          "name": "stderr",
          "text": [
            "Epoch 73/100: 100%|██████████| 13/13 [00:00<00:00, 404.98it/s]\n"
          ]
        },
        {
          "output_type": "stream",
          "name": "stdout",
          "text": [
            "Epoch 73, Loss: 7.4139\n"
          ]
        },
        {
          "output_type": "stream",
          "name": "stderr",
          "text": [
            "Epoch 74/100: 100%|██████████| 13/13 [00:00<00:00, 327.07it/s]\n"
          ]
        },
        {
          "output_type": "stream",
          "name": "stdout",
          "text": [
            "Epoch 74, Loss: 7.4085\n"
          ]
        },
        {
          "output_type": "stream",
          "name": "stderr",
          "text": [
            "Epoch 75/100: 100%|██████████| 13/13 [00:00<00:00, 298.30it/s]\n"
          ]
        },
        {
          "output_type": "stream",
          "name": "stdout",
          "text": [
            "Epoch 75, Loss: 7.4367\n"
          ]
        },
        {
          "output_type": "stream",
          "name": "stderr",
          "text": [
            "Epoch 76/100: 100%|██████████| 13/13 [00:00<00:00, 380.33it/s]\n"
          ]
        },
        {
          "output_type": "stream",
          "name": "stdout",
          "text": [
            "Epoch 76, Loss: 7.4726\n"
          ]
        },
        {
          "output_type": "stream",
          "name": "stderr",
          "text": [
            "Epoch 77/100: 100%|██████████| 13/13 [00:00<00:00, 357.92it/s]\n"
          ]
        },
        {
          "output_type": "stream",
          "name": "stdout",
          "text": [
            "Epoch 77, Loss: 7.4472\n"
          ]
        },
        {
          "output_type": "stream",
          "name": "stderr",
          "text": [
            "Epoch 78/100: 100%|██████████| 13/13 [00:00<00:00, 278.69it/s]\n"
          ]
        },
        {
          "output_type": "stream",
          "name": "stdout",
          "text": [
            "Epoch 78, Loss: 7.3900\n"
          ]
        },
        {
          "output_type": "stream",
          "name": "stderr",
          "text": [
            "Epoch 79/100: 100%|██████████| 13/13 [00:00<00:00, 396.01it/s]\n"
          ]
        },
        {
          "output_type": "stream",
          "name": "stdout",
          "text": [
            "Epoch 79, Loss: 7.4261\n"
          ]
        },
        {
          "output_type": "stream",
          "name": "stderr",
          "text": [
            "Epoch 80/100: 100%|██████████| 13/13 [00:00<00:00, 391.41it/s]\n"
          ]
        },
        {
          "output_type": "stream",
          "name": "stdout",
          "text": [
            "Epoch 80, Loss: 7.5078\n"
          ]
        },
        {
          "output_type": "stream",
          "name": "stderr",
          "text": [
            "Epoch 81/100: 100%|██████████| 13/13 [00:00<00:00, 416.35it/s]\n"
          ]
        },
        {
          "output_type": "stream",
          "name": "stdout",
          "text": [
            "Epoch 81, Loss: 7.4662\n"
          ]
        },
        {
          "output_type": "stream",
          "name": "stderr",
          "text": [
            "Epoch 82/100: 100%|██████████| 13/13 [00:00<00:00, 318.20it/s]\n"
          ]
        },
        {
          "output_type": "stream",
          "name": "stdout",
          "text": [
            "Epoch 82, Loss: 7.4024\n"
          ]
        },
        {
          "output_type": "stream",
          "name": "stderr",
          "text": [
            "Epoch 83/100: 100%|██████████| 13/13 [00:00<00:00, 380.35it/s]\n"
          ]
        },
        {
          "output_type": "stream",
          "name": "stdout",
          "text": [
            "Epoch 83, Loss: 7.4741\n"
          ]
        },
        {
          "output_type": "stream",
          "name": "stderr",
          "text": [
            "Epoch 84/100: 100%|██████████| 13/13 [00:00<00:00, 386.48it/s]\n"
          ]
        },
        {
          "output_type": "stream",
          "name": "stdout",
          "text": [
            "Epoch 84, Loss: 7.4778\n"
          ]
        },
        {
          "output_type": "stream",
          "name": "stderr",
          "text": [
            "Epoch 85/100: 100%|██████████| 13/13 [00:00<00:00, 353.61it/s]\n"
          ]
        },
        {
          "output_type": "stream",
          "name": "stdout",
          "text": [
            "Epoch 85, Loss: 7.4825\n"
          ]
        },
        {
          "output_type": "stream",
          "name": "stderr",
          "text": [
            "Epoch 86/100: 100%|██████████| 13/13 [00:00<00:00, 398.86it/s]\n"
          ]
        },
        {
          "output_type": "stream",
          "name": "stdout",
          "text": [
            "Epoch 86, Loss: 7.4668\n"
          ]
        },
        {
          "output_type": "stream",
          "name": "stderr",
          "text": [
            "Epoch 87/100: 100%|██████████| 13/13 [00:00<00:00, 367.04it/s]\n"
          ]
        },
        {
          "output_type": "stream",
          "name": "stdout",
          "text": [
            "Epoch 87, Loss: 7.4231\n"
          ]
        },
        {
          "output_type": "stream",
          "name": "stderr",
          "text": [
            "Epoch 88/100: 100%|██████████| 13/13 [00:00<00:00, 286.72it/s]\n"
          ]
        },
        {
          "output_type": "stream",
          "name": "stdout",
          "text": [
            "Epoch 88, Loss: 7.4380\n"
          ]
        },
        {
          "output_type": "stream",
          "name": "stderr",
          "text": [
            "Epoch 89/100: 100%|██████████| 13/13 [00:00<00:00, 342.73it/s]\n"
          ]
        },
        {
          "output_type": "stream",
          "name": "stdout",
          "text": [
            "Epoch 89, Loss: 7.3971\n"
          ]
        },
        {
          "output_type": "stream",
          "name": "stderr",
          "text": [
            "Epoch 90/100: 100%|██████████| 13/13 [00:00<00:00, 385.37it/s]\n"
          ]
        },
        {
          "output_type": "stream",
          "name": "stdout",
          "text": [
            "Epoch 90, Loss: 7.5304\n"
          ]
        },
        {
          "output_type": "stream",
          "name": "stderr",
          "text": [
            "Epoch 91/100: 100%|██████████| 13/13 [00:00<00:00, 332.82it/s]\n"
          ]
        },
        {
          "output_type": "stream",
          "name": "stdout",
          "text": [
            "Epoch 91, Loss: 7.4436\n"
          ]
        },
        {
          "output_type": "stream",
          "name": "stderr",
          "text": [
            "Epoch 92/100: 100%|██████████| 13/13 [00:00<00:00, 419.40it/s]\n"
          ]
        },
        {
          "output_type": "stream",
          "name": "stdout",
          "text": [
            "Epoch 92, Loss: 7.4879\n"
          ]
        },
        {
          "output_type": "stream",
          "name": "stderr",
          "text": [
            "Epoch 93/100: 100%|██████████| 13/13 [00:00<00:00, 413.59it/s]\n"
          ]
        },
        {
          "output_type": "stream",
          "name": "stdout",
          "text": [
            "Epoch 93, Loss: 7.5468\n"
          ]
        },
        {
          "output_type": "stream",
          "name": "stderr",
          "text": [
            "Epoch 94/100: 100%|██████████| 13/13 [00:00<00:00, 532.37it/s]\n"
          ]
        },
        {
          "output_type": "stream",
          "name": "stdout",
          "text": [
            "Epoch 94, Loss: 7.4526\n"
          ]
        },
        {
          "output_type": "stream",
          "name": "stderr",
          "text": [
            "Epoch 95/100: 100%|██████████| 13/13 [00:00<00:00, 524.72it/s]\n"
          ]
        },
        {
          "output_type": "stream",
          "name": "stdout",
          "text": [
            "Epoch 95, Loss: 7.4461\n"
          ]
        },
        {
          "output_type": "stream",
          "name": "stderr",
          "text": [
            "Epoch 96/100: 100%|██████████| 13/13 [00:00<00:00, 526.84it/s]\n"
          ]
        },
        {
          "output_type": "stream",
          "name": "stdout",
          "text": [
            "Epoch 96, Loss: 7.5329\n"
          ]
        },
        {
          "output_type": "stream",
          "name": "stderr",
          "text": [
            "Epoch 97/100: 100%|██████████| 13/13 [00:00<00:00, 513.85it/s]\n"
          ]
        },
        {
          "output_type": "stream",
          "name": "stdout",
          "text": [
            "Epoch 97, Loss: 7.4411\n"
          ]
        },
        {
          "output_type": "stream",
          "name": "stderr",
          "text": [
            "Epoch 98/100: 100%|██████████| 13/13 [00:00<00:00, 519.58it/s]\n"
          ]
        },
        {
          "output_type": "stream",
          "name": "stdout",
          "text": [
            "Epoch 98, Loss: 7.4300\n"
          ]
        },
        {
          "output_type": "stream",
          "name": "stderr",
          "text": [
            "Epoch 99/100: 100%|██████████| 13/13 [00:00<00:00, 517.42it/s]\n"
          ]
        },
        {
          "output_type": "stream",
          "name": "stdout",
          "text": [
            "Epoch 99, Loss: 7.3633\n"
          ]
        },
        {
          "output_type": "stream",
          "name": "stderr",
          "text": [
            "Epoch 100/100: 100%|██████████| 13/13 [00:00<00:00, 507.07it/s]"
          ]
        },
        {
          "output_type": "stream",
          "name": "stdout",
          "text": [
            "Epoch 100, Loss: 7.3872\n"
          ]
        },
        {
          "output_type": "stream",
          "name": "stderr",
          "text": [
            "\n"
          ]
        }
      ]
    },
    {
      "cell_type": "code",
      "execution_count": 329,
      "metadata": {
        "id": "EBgVLAatjeB3"
      },
      "outputs": [],
      "source": []
    },
    {
      "cell_type": "code",
      "execution_count": 329,
      "metadata": {
        "id": "Z38BrpoojeFR"
      },
      "outputs": [],
      "source": []
    },
    {
      "cell_type": "markdown",
      "metadata": {
        "id": "-gSYSPMTjP-y"
      },
      "source": [
        "## 5. (2 pt) Write the prediction class to use it in plot_decision_regions function."
      ]
    },
    {
      "cell_type": "code",
      "execution_count": 344,
      "metadata": {
        "id": "JwsHA_kCjcmS"
      },
      "outputs": [],
      "source": [
        "class MyPrediction:\n",
        "    def __init__(self, model):\n",
        "        \"\"\"\n",
        "        Initialize the Prediction class with the trained model.\n",
        "        \"\"\"\n",
        "        self.model = model\n",
        "\n",
        "    def predict(self, x):\n",
        "        \"\"\"\n",
        "        Predict the class labels for the input data.\n",
        "        Args:\n",
        "            x (torch.Tensor or np.ndarray): Input data of shape (n_samples, n_features).\n",
        "        Returns:\n",
        "            np.ndarray: Predicted class labels (0 or 1) of shape (n_samples,).\n",
        "        \"\"\"\n",
        "        if isinstance(x, np.ndarray):\n",
        "            x = torch.tensor(x, dtype=torch.float32)  # Convert to torch.Tensor if input is a NumPy array\n",
        "\n",
        "        with torch.no_grad():  # Disable gradient computation for inference\n",
        "            probabilities = self.model(x)  # Get probabilities from the model\n",
        "            predictions = (probabilities >= 0.5).float()  # Convert probabilities to binary labels (0 or 1)\n",
        "\n",
        "        return predictions.numpy().flatten()  # Convert to NumPy array and flatten to 1D"
      ]
    },
    {
      "cell_type": "code",
      "source": [
        "# Initialize the Prediction class with the trained model\n",
        "my_predictor = MyPrediction(my_model)"
      ],
      "metadata": {
        "id": "mmgt7075cDzK"
      },
      "execution_count": 345,
      "outputs": []
    },
    {
      "cell_type": "code",
      "source": [],
      "metadata": {
        "id": "x4HLezxkcFYe"
      },
      "execution_count": 331,
      "outputs": []
    },
    {
      "cell_type": "markdown",
      "metadata": {
        "id": "lhpE7gXhjg_1"
      },
      "source": [
        "## 6. (2 pt) Plot the loss and decision boundary after the training."
      ]
    },
    {
      "cell_type": "code",
      "execution_count": 346,
      "metadata": {
        "id": "co704Qk2jnZP",
        "colab": {
          "base_uri": "https://localhost:8080/",
          "height": 472
        },
        "outputId": "ea03c19f-d951-42ee-c3b0-0368111bcf17"
      },
      "outputs": [
        {
          "output_type": "display_data",
          "data": {
            "text/plain": [
              "<Figure size 640x480 with 1 Axes>"
            ],
            "image/png": "[encoded data removed]"
          },
          "metadata": {}
        }
      ],
      "source": [
        "# Plot the loss curve\n",
        "plt.plot(range(1, epochs + 1), loss_history, label=\"Loss\")\n",
        "plt.xlabel(\"Epoch\")\n",
        "plt.ylabel(\"Loss\")\n",
        "plt.title(\"Training Loss Curve\")\n",
        "plt.legend()\n",
        "plt.show()"
      ]
    },
    {
      "cell_type": "code",
      "execution_count": 347,
      "metadata": {
        "id": "hYRtPcTzjoMc"
      },
      "outputs": [],
      "source": [
        "from mlxtend.plotting import plot_decision_regions"
      ]
    },
    {
      "cell_type": "code",
      "execution_count": 348,
      "metadata": {
        "id": "7nMmkB0mjoTL",
        "colab": {
          "base_uri": "https://localhost:8080/",
          "height": 447
        },
        "outputId": "0e077e00-e23a-43ae-e89a-dcdcb250c598"
      },
      "outputs": [
        {
          "output_type": "execute_result",
          "data": {
            "text/plain": [
              "<Axes: >"
            ]
          },
          "metadata": {},
          "execution_count": 348
        },
        {
          "output_type": "display_data",
          "data": {
            "text/plain": [
              "<Figure size 640x480 with 1 Axes>"
            ],
            "image/png": "[encoded data removed]"
          },
          "metadata": {}
        }
      ],
      "source": [
        "plot_decision_regions(x,y.reshape(-1,),my_predictor)"
      ]
    },
    {
      "cell_type": "markdown",
      "metadata": {
        "id": "UPGy5kg-joiY"
      },
      "source": [
        "## 7. Experiments 1: Try LeakyReLU as `activation_1` with the size of `hidden_1` = 4, 5, and 10. You can reuse the same model without copying it."
      ]
    },
    {
      "cell_type": "code",
      "execution_count": null,
      "metadata": {
        "id": "qBmcAwoJkFW7"
      },
      "outputs": [],
      "source": [
        "activation_func = nn.LeakyReLU()\n",
        "input_size = 2\n",
        "hidden_1_size = 4\n",
        "hidden_2_size = 3\n",
        "my_model_leakyReLU = MyModel(input_size, hidden_1_size, hidden_2_size, activation_func)"
      ]
    },
    {
      "cell_type": "code",
      "execution_count": null,
      "metadata": {
        "id": "tKyf0_JQkJ0N"
      },
      "outputs": [],
      "source": []
    },
    {
      "cell_type": "code",
      "execution_count": null,
      "metadata": {
        "id": "alMDK5qikJ3x"
      },
      "outputs": [],
      "source": []
    },
    {
      "cell_type": "markdown",
      "metadata": {
        "id": "vbbLNEG8kKH3"
      },
      "source": [
        "## 8. (3 pt) Comment on the number of the straight lines with respect to the size of the hidden layer."
      ]
    },
    {
      "cell_type": "markdown",
      "metadata": {
        "id": "3r_u4JH_kTiX"
      },
      "source": []
    },
    {
      "cell_type": "code",
      "execution_count": null,
      "metadata": {
        "id": "Zt5imS_NkO9_"
      },
      "outputs": [],
      "source": []
    },
    {
      "cell_type": "markdown",
      "metadata": {
        "id": "aaqxYYITkWIF"
      },
      "source": [
        "## 9. Experiments 2: with the `hidden_1` layer of the size 4 try Sigmoind, ReLU, LeakyReLU, ELU, and SiLU as `activation_1`. Do this for batch sizes 4 and 50."
      ]
    },
    {
      "cell_type": "code",
      "execution_count": null,
      "metadata": {
        "id": "13DPPUK2kQgv"
      },
      "outputs": [],
      "source": []
    },
    {
      "cell_type": "code",
      "execution_count": null,
      "metadata": {
        "id": "uPdwChLgk6hn"
      },
      "outputs": [],
      "source": []
    },
    {
      "cell_type": "code",
      "execution_count": null,
      "metadata": {
        "id": "5rvuPqwgk6lG"
      },
      "outputs": [],
      "source": []
    },
    {
      "cell_type": "markdown",
      "metadata": {
        "id": "ZUaEa0ECk6zu"
      },
      "source": [
        "## 10. (4 pt) Comment on the shape of the decision boundaries with respect to the activation function and the batch size. Did you adjust the learning rate? Did you try to start with small learning rate like 0.001 instead of 0.01 and if so, which worked better?"
      ]
    },
    {
      "cell_type": "code",
      "execution_count": null,
      "metadata": {
        "id": "uEfF86FJk-lu"
      },
      "outputs": [],
      "source": []
    }
  ],
  "metadata": {
    "colab": {
      "provenance": [],
      "include_colab_link": true
    },
    "kernelspec": {
      "display_name": "Python 3",
      "name": "python3"
    },
    "language_info": {
      "name": "python"
    }
  },
  "nbformat": 4,
  "nbformat_minor": 0
}