{
  "nbformat": 4,
  "nbformat_minor": 0,
  "metadata": {
    "colab": {
      "provenance": [],
      "authorship_tag": "ABX9TyOrNny8AGWZZ6Yjjk3bLnQE",
      "include_colab_link": true
    },
    "kernelspec": {
      "name": "python3",
      "display_name": "Python 3"
    },
    "language_info": {
      "name": "python"
    }
  },
  "cells": [
    {
      "cell_type": "markdown",
      "metadata": {
        "id": "view-in-github",
        "colab_type": "text"
      },
      "source": [
        "<a href=\"https://colab.research.google.com/github/Nick-Azzarano/Machine-Learning-Practice/blob/main/Nick_Azzarano_ML_HW_2.ipynb\" target=\"_parent\"><img src=\"https://colab.research.google.com/assets/colab-badge.svg\" alt=\"Open In Colab\"/></a>"
      ]
    },
    {
      "cell_type": "markdown",
      "source": [
        "CSCI 335 Sections 2 and 3\n",
        "\n",
        "**Homework 2**\n",
        "\n",
        "\n",
        "---\n",
        "\n",
        "\n",
        "# Programming Assignment (16 points)\n",
        "\n",
        "Predict the `median_house_value`. The file `houses.csv` contains\n",
        "Information about houses in Californian districts. Write a Python program (in jupyter notebook)\n",
        "that does the following:\n",
        "\n",
        "• (1 point) Load the dataset.\n",
        "\n",
        "• (2 point) Asses the data and clean them.\n",
        "\n",
        "• (1 point) Create features `X` and targets `y`.\n",
        "\n",
        "• (1 point) Divide the dataset into training, validation, and testing sets: (`X_train, y_train`), (`X_val, y_val`), and (`X_test, y_test`)\n",
        "\n",
        "• (1 point) Create a transformation (ColumnTransformer) that applies OneHotEncoder to the\n",
        "nominal column only (`remainder='passthrough'`). Fit it with `X_train` and print the first five lines\n",
        "of the transformed `X_train`.\n",
        "\n",
        "• (3 points) Train `KNeighborsRegressor` on the transformed `X_train` and select the value of *k* on the transformed `X_val`. Choose a metric that you think evaluates this problem the best. Please, state why you chose it.\n",
        "\n",
        "• (1 point) Report the results using `X_test` and an appropriate metric.\n",
        "\n",
        "• (1 point) Modify the transformation applying a scaler to all numerical columns\n",
        "\n",
        "• (3 point) Repeat the training with the scaled data.\n",
        "\n",
        "• (2 point) Discuss the results. I would suggest plotting histograms of the errors for both cases. If the results are different, can you think of the reason?\n",
        "\n",
        "---\n",
        "\n",
        "# Writing Assignment (4 points) Use Markdown/Text cell in your jupyter notebook\n",
        "• (2 point) What is the difference between supervised and unsupervised problems?\n",
        "\n",
        "• (2 point) What is the purpose of splitting data into training, validation, and testing sets? What is a\n",
        "typical split-up?\n",
        "\n",
        "---"
      ],
      "metadata": {
        "id": "4DTWnpP7UEb8"
      }
    },
    {
      "cell_type": "markdown",
      "source": [
        "# PART 1: Programming Assignment (16 points)"
      ],
      "metadata": {
        "id": "-GLTRFvLXq0Z"
      }
    },
    {
      "cell_type": "code",
      "execution_count": 1,
      "metadata": {
        "id": "TH0Mf06GTavP"
      },
      "outputs": [],
      "source": [
        "import numpy as np\n",
        "import pandas as pd\n",
        "import matplotlib.pyplot as plt\n",
        "\n",
        "import seaborn as sns"
      ]
    },
    {
      "cell_type": "markdown",
      "source": [
        "1. (1 point) Load the dataset."
      ],
      "metadata": {
        "id": "FuJAZRmKWxSe"
      }
    },
    {
      "cell_type": "code",
      "source": [
        "!wget https://github.com/anton-selitskiy/RIT_ML/blob/main/2024_spring/Homeworks/HW2/HW2/houses.csv\n",
        "\n",
        "Data = pd.read_csv(\"houses.csv\", sep=\";\")\n",
        "\n",
        "!ls"
      ],
      "metadata": {
        "colab": {
          "base_uri": "https://localhost:8080/"
        },
        "id": "giVHbk9YWjMz",
        "outputId": "356bbd11-ecf7-4094-a457-18ed0fe50d6a"
      },
      "execution_count": 6,
      "outputs": [
        {
          "output_type": "stream",
          "name": "stdout",
          "text": [
            "--2024-02-02 20:32:27--  https://github.com/anton-selitskiy/RIT_ML/blob/main/2024_spring/Homeworks/HW2/HW2/houses.csv\n",
            "Resolving github.com (github.com)... 140.82.114.4\n",
            "Connecting to github.com (github.com)|140.82.114.4|:443... connected.\n",
            "HTTP request sent, awaiting response... 200 OK\n",
            "Length: 5306 (5.2K) [text/plain]\n",
            "Saving to: ‘houses.csv.4’\n",
            "\n",
            "\rhouses.csv.4          0%[                    ]       0  --.-KB/s               \rhouses.csv.4        100%[===================>]   5.18K  --.-KB/s    in 0s      \n",
            "\n",
            "2024-02-02 20:32:27 (55.4 MB/s) - ‘houses.csv.4’ saved [5306/5306]\n",
            "\n",
            "houses.csv  houses.csv.1  houses.csv.2\thouses.csv.3  houses.csv.4  sample_data\n"
          ]
        }
      ]
    },
    {
      "cell_type": "markdown",
      "source": [
        "2. • (2 point) Asses the data and clean them."
      ],
      "metadata": {
        "id": "4SyHewz6XBSX"
      }
    },
    {
      "cell_type": "code",
      "source": [],
      "metadata": {
        "id": "YXA1LpKwW-V2"
      },
      "execution_count": null,
      "outputs": []
    },
    {
      "cell_type": "markdown",
      "source": [
        "3. • (1 point) Create features `X` and targets `y`."
      ],
      "metadata": {
        "id": "Vu_wCOVqXyes"
      }
    },
    {
      "cell_type": "code",
      "source": [],
      "metadata": {
        "id": "3XEm3le-X2Ab"
      },
      "execution_count": null,
      "outputs": []
    },
    {
      "cell_type": "markdown",
      "source": [
        "4. • (1 point) Divide the dataset into training, validation, and testing sets: (`X_train, y_train`), (`X_val, y_val`), and (`X_test, y_test`)"
      ],
      "metadata": {
        "id": "8b-PZyCDX2c-"
      }
    },
    {
      "cell_type": "code",
      "source": [],
      "metadata": {
        "id": "EKmfdGaIX5c7"
      },
      "execution_count": null,
      "outputs": []
    },
    {
      "cell_type": "markdown",
      "source": [
        "5. • (1 point) Create a transformation (`ColumnTransformer`) that applies OneHotEncoder to the nominal column only (`remainder='passthrough'`). Fit it with `X_train` and print the first five lines of the transformed `X_train`."
      ],
      "metadata": {
        "id": "qcVbY1cTX9SZ"
      }
    },
    {
      "cell_type": "code",
      "source": [],
      "metadata": {
        "id": "RGibuCDdX-Eb"
      },
      "execution_count": null,
      "outputs": []
    },
    {
      "cell_type": "markdown",
      "source": [
        "6. • (3 points) Train `KNeighborsRegressor` on the transformed `X_train` and select the value of *k* on the transformed `X_val`. Choose a metric that you think evaluates this problem the best. Please, state why you chose it."
      ],
      "metadata": {
        "id": "q1VSZVSsexGn"
      }
    },
    {
      "cell_type": "code",
      "source": [],
      "metadata": {
        "id": "ur_iD49eezps"
      },
      "execution_count": null,
      "outputs": []
    },
    {
      "cell_type": "markdown",
      "source": [
        "7. • (1 point) Report the results using `X_test` and an appropriate metric."
      ],
      "metadata": {
        "id": "eH4IFK60e3lP"
      }
    },
    {
      "cell_type": "code",
      "source": [],
      "metadata": {
        "id": "dRm8whgMe4vd"
      },
      "execution_count": null,
      "outputs": []
    },
    {
      "cell_type": "markdown",
      "source": [
        "8. • (1 point) Modify the transformation applying a scaler to all numerical columns."
      ],
      "metadata": {
        "id": "WnQYaGpBe7Ha"
      }
    },
    {
      "cell_type": "code",
      "source": [],
      "metadata": {
        "id": "BYkVLX9Ye9D9"
      },
      "execution_count": null,
      "outputs": []
    },
    {
      "cell_type": "markdown",
      "source": [
        "9. • (3 point) Repeat the training with the scaled data."
      ],
      "metadata": {
        "id": "OLesrLase-FL"
      }
    },
    {
      "cell_type": "code",
      "source": [],
      "metadata": {
        "id": "whN6rTAJe_F8"
      },
      "execution_count": null,
      "outputs": []
    },
    {
      "cell_type": "markdown",
      "source": [
        "10. • (2 point) Discuss the results. I would suggest plotting histograms of the errors for both cases. If the results are different, can you think of the reason?"
      ],
      "metadata": {
        "id": "KjvrIQaofANW"
      }
    },
    {
      "cell_type": "code",
      "source": [],
      "metadata": {
        "id": "7TDAOcXafBV6"
      },
      "execution_count": null,
      "outputs": []
    },
    {
      "cell_type": "markdown",
      "source": [
        "\n",
        "---\n",
        "\n",
        "# PART TWO: Writing Assignment (4 points)"
      ],
      "metadata": {
        "id": "JKTCqSC_fE_t"
      }
    },
    {
      "cell_type": "markdown",
      "source": [
        "11. • (2 point) What is the difference between supervised and unsupervised problems?"
      ],
      "metadata": {
        "id": "iQh9Ye3YfRxK"
      }
    },
    {
      "cell_type": "markdown",
      "source": [
        "ANSWER"
      ],
      "metadata": {
        "id": "aepB72f0fVKJ"
      }
    },
    {
      "cell_type": "markdown",
      "source": [
        "12. • (2 point) What is the purpose of splitting data into training, validation, and testing sets? What is a\n",
        "typical split-up?"
      ],
      "metadata": {
        "id": "B1X0x7Uvfcmi"
      }
    },
    {
      "cell_type": "markdown",
      "source": [
        "ANSWER"
      ],
      "metadata": {
        "id": "Yi9dkXkVfhgR"
      }
    },
    {
      "cell_type": "code",
      "source": [],
      "metadata": {
        "id": "5O7kN_ZnfiKW"
      },
      "execution_count": null,
      "outputs": []
    }
  ]
}