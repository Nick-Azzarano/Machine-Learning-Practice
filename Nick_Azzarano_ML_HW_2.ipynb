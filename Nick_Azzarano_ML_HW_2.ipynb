{
  "nbformat": 4,
  "nbformat_minor": 0,
  "metadata": {
    "colab": {
      "provenance": [],
      "authorship_tag": "ABX9TyNsnVolnOpUz1GyhLhD6FMm",
      "include_colab_link": true
    },
    "kernelspec": {
      "name": "python3",
      "display_name": "Python 3"
    },
    "language_info": {
      "name": "python"
    }
  },
  "cells": [
    {
      "cell_type": "markdown",
      "metadata": {
        "id": "view-in-github",
        "colab_type": "text"
      },
      "source": [
        "<a href=\"https://colab.research.google.com/github/Nick-Azzarano/Machine-Learning-Practice/blob/main/Nick_Azzarano_ML_HW_2.ipynb\" target=\"_parent\"><img src=\"https://colab.research.google.com/assets/colab-badge.svg\" alt=\"Open In Colab\"/></a>"
      ]
    },
    {
      "cell_type": "markdown",
      "source": [
        "CSCI 335 Sections 2 and 3\n",
        "\n",
        "**Homework 2**\n",
        "\n",
        "\n",
        "---\n",
        "\n",
        "\n",
        "# Programming Assignment (16 points)\n",
        "\n",
        "Predict the `median_house_value`. The file `houses.csv` contains\n",
        "Information about houses in Californian districts. Write a Python program (in jupyter notebook)\n",
        "that does the following:\n",
        "\n",
        "• (1 point) Load the dataset.\n",
        "\n",
        "• (2 point) Asses the data and clean them.\n",
        "\n",
        "• (1 point) Create features `X` and targets `y`.\n",
        "\n",
        "• (1 point) Divide the dataset into training, validation, and testing sets: (`X_train, y_train`), (`X_val, y_val`), and (`X_test, y_test`)\n",
        "\n",
        "• (1 point) Create a transformation (ColumnTransformer) that applies OneHotEncoder to the\n",
        "nominal column only (`remainder='passthrough'`). Fit it with `X_train` and print the first five lines\n",
        "of the transformed `X_train`.\n",
        "\n",
        "• (3 points) Train `KNeighborsRegressor` on the transformed `X_train` and select the value of *k* on the transformed `X_val`. Choose a metric that you think evaluates this problem the best. Please, state why you chose it.\n",
        "\n",
        "• (1 point) Report the results using `X_test` and an appropriate metric.\n",
        "\n",
        "• (1 point) Modify the transformation applying a scaler to all numerical columns\n",
        "\n",
        "• (3 point) Repeat the training with the scaled data.\n",
        "\n",
        "• (2 point) Discuss the results. I would suggest plotting histograms of the errors for both cases. If the results are different, can you think of the reason?\n",
        "\n",
        "---\n",
        "\n",
        "# Writing Assignment (4 points) Use Markdown/Text cell in your jupyter notebook\n",
        "• (2 point) What is the difference between supervised and unsupervised problems?\n",
        "\n",
        "• (2 point) What is the purpose of splitting data into training, validation, and testing sets? What is a\n",
        "typical split-up?\n",
        "\n",
        "---"
      ],
      "metadata": {
        "id": "4DTWnpP7UEb8"
      }
    },
    {
      "cell_type": "markdown",
      "source": [
        "# PART 1: Programming Assignment (16 points)"
      ],
      "metadata": {
        "id": "-GLTRFvLXq0Z"
      }
    },
    {
      "cell_type": "code",
      "execution_count": 1,
      "metadata": {
        "id": "TH0Mf06GTavP"
      },
      "outputs": [],
      "source": [
        "import numpy as np\n",
        "import pandas as pd\n",
        "import matplotlib.pyplot as plt\n",
        "\n",
        "import seaborn as sns"
      ]
    },
    {
      "cell_type": "markdown",
      "source": [
        "1. (1 point) Load the dataset."
      ],
      "metadata": {
        "id": "FuJAZRmKWxSe"
      }
    },
    {
      "cell_type": "code",
      "source": [
        "!wget https://raw.githubusercontent.com/anton-selitskiy/RIT_ML/main/2024_spring/Homeworks/HW2/HW2/houses.csv\n",
        "\n",
        "Data = pd.read_csv(\"houses.csv\")\n",
        "\n",
        "!ls"
      ],
      "metadata": {
        "colab": {
          "base_uri": "https://localhost:8080/"
        },
        "id": "giVHbk9YWjMz",
        "outputId": "ae0a0d41-b583-4dc8-a751-1b495982ed7f"
      },
      "execution_count": 13,
      "outputs": [
        {
          "output_type": "stream",
          "name": "stdout",
          "text": [
            "--2024-02-02 20:38:15--  https://raw.githubusercontent.com/anton-selitskiy/RIT_ML/main/2024_spring/Homeworks/HW2/HW2/houses.csv\n",
            "Resolving raw.githubusercontent.com (raw.githubusercontent.com)... 185.199.108.133, 185.199.109.133, 185.199.110.133, ...\n",
            "Connecting to raw.githubusercontent.com (raw.githubusercontent.com)|185.199.108.133|:443... connected.\n",
            "HTTP request sent, awaiting response... 200 OK\n",
            "Length: 1423529 (1.4M) [text/plain]\n",
            "Saving to: ‘houses.csv.7’\n",
            "\n",
            "\rhouses.csv.7          0%[                    ]       0  --.-KB/s               \rhouses.csv.7        100%[===================>]   1.36M  --.-KB/s    in 0.06s   \n",
            "\n",
            "2024-02-02 20:38:15 (24.2 MB/s) - ‘houses.csv.7’ saved [1423529/1423529]\n",
            "\n",
            "houses.csv    houses.csv.2  houses.csv.4  houses.csv.6\tsample_data\n",
            "houses.csv.1  houses.csv.3  houses.csv.5  houses.csv.7\n"
          ]
        }
      ]
    },
    {
      "cell_type": "code",
      "source": [
        "Data.head() #tail(6)"
      ],
      "metadata": {
        "colab": {
          "base_uri": "https://localhost:8080/",
          "height": 133
        },
        "id": "RGOy1oUlhndn",
        "outputId": "ba3a798f-8a42-4d38-fe92-aedd8c04af50"
      },
      "execution_count": 15,
      "outputs": [
        {
          "output_type": "execute_result",
          "data": {
            "text/plain": [
              "Empty DataFrame\n",
              "Columns: [{\"payload\":{\"allShortcutsEnabled\":false, fileTree:{\"2024_spring/Homeworks/HW2/HW2\":{\"items\":[{\"name\":\"HW2.pdf\", path:\"2024_spring/Homeworks/HW2/HW2/HW2.pdf\", contentType:\"file\"}, {\"name\":\"houses.csv\", path:\"2024_spring/Homeworks/HW2/HW2/houses.csv\", contentType:\"file\"}], totalCount:2}, 2024_spring/Homeworks/HW2:{\"items\":[{\"name\":\"HW2\", path:\"2024_spring/Homeworks/HW2/HW2\", contentType:\"directory\"}], totalCount:1}, 2024_spring/Homeworks:{\"items\":[{\"name\":\"HW2\", path:\"2024_spring/Homeworks/HW2\", contentType:\"directory\"}, {\"name\":\"Description.txt\", path:\"2024_spring/Homeworks/Description.txt\", contentType:\"file\"}.1, {\"name\":\"HW1.ipynb\", path:\"2024_spring/Homeworks/HW1.ipynb\", contentType:\"file\"}.2, {\"name\":\"HW3.ipynb\", path:\"2024_spring/Homeworks/HW3.ipynb\", contentType:\"file\"}].1, totalCount:4}, 2024_spring:{\"items\":[{\"name\":\"Homeworks\", path:\"2024_spring/Homeworks\", contentType:\"directory\"}.1, {\"name\":\"Lectures\", path:\"2024_spring/Lectures\", contentType:\"directory\"}].1, totalCount:2}.1, :{\"items\":[{\"name\":\"2023_fall\", path:\"2023_fall\", contentType:\"directory\"}.2, {\"name\":\"2024_spring\", path:\"2024_spring\", contentType:\"directory\"}].2, totalCount:2}}, fileTreeProcessingTime:5.5677, foldersToFetch:[], reducedMotionEnabled:null, repo:{\"id\":685338847, defaultBranch:\"main\", name:\"RIT_ML\", ownerLogin:\"anton-selitskiy\", currentUserCanPush:false, isFork:false, isEmpty:false, createdAt:\"2023-08-31T02:35:31.000Z\", ownerAvatar:\"https://avatars.githubusercontent.com/u/72204657?v=4\", public:true, private:false, isOrgOwned:false}, symbolsExpanded:false, treeExpanded:true, refInfo:{\"name\":\"main\", listCacheKey:\"v0:1702070718.0\", canEdit:false, refType:\"branch\", currentOid:\"0ae41b2293c80cccae58e5232648ead5c4561390\"}, path:\"2024_spring/Homeworks/HW2/HW2/houses.csv\".1, currentUser:null, blob:{\"rawLines\":null, stylingDirectives:[], csv:null, csvError:null, dependabotInfo:{\"showConfigurationBanner\":false, configFilePath:null, networkDependabotPath:\"/anton-selitskiy/RIT_ML/network/updates\", dismissConfigurationNoticePath:\"/settings/dismiss-notice/dependabot_configuration_notice\", configurationNoticeDismissed:null, repoAlertsPath:\"/anton-selitskiy/RIT_ML/security/dependabot\", repoSecurityAndAnalysisPath:\"/anton-selitskiy/RIT_ML/settings/security_analysis\", repoOwnerIsOrg:false, currentUserCanAdminRepo:false}, displayName:\"houses.csv\", displayUrl:\"https://github.com/anton-selitskiy/RIT_ML/blob/main/2024_spring/Homeworks/HW2/HW2/houses.csv?raw=true\", headerInfo:{\"blobSize\":\"1.36 MB\", deleteInfo:{\"deleteTooltip\":\"You must be signed in to make or propose changes\"}, editInfo:{\"editTooltip\":\"You must be signed in to make or propose changes\"}, ghDesktopPath:\"https://desktop.github.com\", gitLfsPath:null, onBranch:true, shortPath:\"d5e3fa2\", siteNavLoginPath:\"/login?return_to=https%3A%2F%2Fgithub.com%2Fanton-selitskiy%2FRIT_ML%2Fblob%2Fmain%2F2024_spring%2FHomeworks%2FHW2%2FHW2%2Fhouses.csv\", isCSV:false, isRichtext:false, toc:null, lineInfo:{\"truncatedLoc\":null, truncatedSloc:null}, mode:\"file\"}, image:false, isCodeownersFile:null, isPlain:false, isValidLegacyIssueTemplate:false, issueTemplateHelpUrl:\"https://docs.github.com/articles/about-issue-and-pull-request-templates\", issueTemplate:null, discussionTemplate:null, language:null, ...]\n",
              "Index: []\n",
              "\n",
              "[0 rows x 146 columns]"
            ],
            "text/html": [
              "\n",
              "  <div id=\"df-da72d61d-53f4-4abc-99cb-f0cbd2b9256b\" class=\"colab-df-container\">\n",
              "    <div>\n",
              "<style scoped>\n",
              "    .dataframe tbody tr th:only-of-type {\n",
              "        vertical-align: middle;\n",
              "    }\n",
              "\n",
              "    .dataframe tbody tr th {\n",
              "        vertical-align: top;\n",
              "    }\n",
              "\n",
              "    .dataframe thead th {\n",
              "        text-align: right;\n",
              "    }\n",
              "</style>\n",
              "<table border=\"1\" class=\"dataframe\">\n",
              "  <thead>\n",
              "    <tr style=\"text-align: right;\">\n",
              "      <th></th>\n",
              "      <th>{\"payload\":{\"allShortcutsEnabled\":false</th>\n",
              "      <th>fileTree:{\"2024_spring/Homeworks/HW2/HW2\":{\"items\":[{\"name\":\"HW2.pdf\"</th>\n",
              "      <th>path:\"2024_spring/Homeworks/HW2/HW2/HW2.pdf\"</th>\n",
              "      <th>contentType:\"file\"}</th>\n",
              "      <th>{\"name\":\"houses.csv\"</th>\n",
              "      <th>path:\"2024_spring/Homeworks/HW2/HW2/houses.csv\"</th>\n",
              "      <th>contentType:\"file\"}]</th>\n",
              "      <th>totalCount:2}</th>\n",
              "      <th>2024_spring/Homeworks/HW2:{\"items\":[{\"name\":\"HW2\"</th>\n",
              "      <th>path:\"2024_spring/Homeworks/HW2/HW2\"</th>\n",
              "      <th>...</th>\n",
              "      <th>not_analyzed:true</th>\n",
              "      <th>symbols:[]</th>\n",
              "      <th>error:{\"code\":\"invalid_argument\"</th>\n",
              "      <th>msg:\"content required\"</th>\n",
              "      <th>meta:{}}}}</th>\n",
              "      <th>copilotInfo:null</th>\n",
              "      <th>copilotAccessAllowed:false</th>\n",
              "      <th>csrf_tokens:{\"/anton-selitskiy/RIT_ML/branches\":{\"post\":\"H7PLzZm3hgd4dFeTXap1rtpVj4A4oJtEmm9dLtzn5cp-pXAee4vHPxn-sgSsjNgv3dqB_dc5WIleJRYJhjPmIA\"}</th>\n",
              "      <th>/repos/preferences:{\"post\":\"DTEiIX6RyV8PC_fHe415Ibr4KaMnAVlkSOc7zGaQTnYmmZtHbzVPMnmGhRTlr4IHFHMR6Ux5tANwrusRybfUXQ\"}}}</th>\n",
              "      <th>title:\"RIT_ML/2024_spring/Homeworks/HW2/HW2/houses.csv at main · anton-selitskiy/RIT_ML\"}</th>\n",
              "    </tr>\n",
              "  </thead>\n",
              "  <tbody>\n",
              "  </tbody>\n",
              "</table>\n",
              "<p>0 rows × 146 columns</p>\n",
              "</div>\n",
              "    <div class=\"colab-df-buttons\">\n",
              "\n",
              "  <div class=\"colab-df-container\">\n",
              "    <button class=\"colab-df-convert\" onclick=\"convertToInteractive('df-da72d61d-53f4-4abc-99cb-f0cbd2b9256b')\"\n",
              "            title=\"Convert this dataframe to an interactive table.\"\n",
              "            style=\"display:none;\">\n",
              "\n",
              "  <svg xmlns=\"http://www.w3.org/2000/svg\" height=\"24px\" viewBox=\"0 -960 960 960\">\n",
              "    <path d=\"M120-120v-720h720v720H120Zm60-500h600v-160H180v160Zm220 220h160v-160H400v160Zm0 220h160v-160H400v160ZM180-400h160v-160H180v160Zm440 0h160v-160H620v160ZM180-180h160v-160H180v160Zm440 0h160v-160H620v160Z\"/>\n",
              "  </svg>\n",
              "    </button>\n",
              "\n",
              "  <style>\n",
              "    .colab-df-container {\n",
              "      display:flex;\n",
              "      gap: 12px;\n",
              "    }\n",
              "\n",
              "    .colab-df-convert {\n",
              "      background-color: #E8F0FE;\n",
              "      border: none;\n",
              "      border-radius: 50%;\n",
              "      cursor: pointer;\n",
              "      display: none;\n",
              "      fill: #1967D2;\n",
              "      height: 32px;\n",
              "      padding: 0 0 0 0;\n",
              "      width: 32px;\n",
              "    }\n",
              "\n",
              "    .colab-df-convert:hover {\n",
              "      background-color: #E2EBFA;\n",
              "      box-shadow: 0px 1px 2px rgba(60, 64, 67, 0.3), 0px 1px 3px 1px rgba(60, 64, 67, 0.15);\n",
              "      fill: #174EA6;\n",
              "    }\n",
              "\n",
              "    .colab-df-buttons div {\n",
              "      margin-bottom: 4px;\n",
              "    }\n",
              "\n",
              "    [theme=dark] .colab-df-convert {\n",
              "      background-color: #3B4455;\n",
              "      fill: #D2E3FC;\n",
              "    }\n",
              "\n",
              "    [theme=dark] .colab-df-convert:hover {\n",
              "      background-color: #434B5C;\n",
              "      box-shadow: 0px 1px 3px 1px rgba(0, 0, 0, 0.15);\n",
              "      filter: drop-shadow(0px 1px 2px rgba(0, 0, 0, 0.3));\n",
              "      fill: #FFFFFF;\n",
              "    }\n",
              "  </style>\n",
              "\n",
              "    <script>\n",
              "      const buttonEl =\n",
              "        document.querySelector('#df-da72d61d-53f4-4abc-99cb-f0cbd2b9256b button.colab-df-convert');\n",
              "      buttonEl.style.display =\n",
              "        google.colab.kernel.accessAllowed ? 'block' : 'none';\n",
              "\n",
              "      async function convertToInteractive(key) {\n",
              "        const element = document.querySelector('#df-da72d61d-53f4-4abc-99cb-f0cbd2b9256b');\n",
              "        const dataTable =\n",
              "          await google.colab.kernel.invokeFunction('convertToInteractive',\n",
              "                                                    [key], {});\n",
              "        if (!dataTable) return;\n",
              "\n",
              "        const docLinkHtml = 'Like what you see? Visit the ' +\n",
              "          '<a target=\"_blank\" href=https://colab.research.google.com/notebooks/data_table.ipynb>data table notebook</a>'\n",
              "          + ' to learn more about interactive tables.';\n",
              "        element.innerHTML = '';\n",
              "        dataTable['output_type'] = 'display_data';\n",
              "        await google.colab.output.renderOutput(dataTable, element);\n",
              "        const docLink = document.createElement('div');\n",
              "        docLink.innerHTML = docLinkHtml;\n",
              "        element.appendChild(docLink);\n",
              "      }\n",
              "    </script>\n",
              "  </div>\n",
              "\n",
              "    </div>\n",
              "  </div>\n"
            ]
          },
          "metadata": {},
          "execution_count": 15
        }
      ]
    },
    {
      "cell_type": "code",
      "source": [
        "Data.columns #.values"
      ],
      "metadata": {
        "colab": {
          "base_uri": "https://localhost:8080/"
        },
        "id": "DVvslu9ZiE70",
        "outputId": "79a3c361-1b19-4016-c655-6a504357e864"
      },
      "execution_count": 10,
      "outputs": [
        {
          "output_type": "execute_result",
          "data": {
            "text/plain": [
              "Index(['{\"payload\":{\"allShortcutsEnabled\":false',\n",
              "       'fileTree:{\"2024_spring/Homeworks/HW2/HW2\":{\"items\":[{\"name\":\"HW2.pdf\"',\n",
              "       'path:\"2024_spring/Homeworks/HW2/HW2/HW2.pdf\"', 'contentType:\"file\"}',\n",
              "       '{\"name\":\"houses.csv\"',\n",
              "       'path:\"2024_spring/Homeworks/HW2/HW2/houses.csv\"',\n",
              "       'contentType:\"file\"}]', 'totalCount:2}',\n",
              "       '2024_spring/Homeworks/HW2:{\"items\":[{\"name\":\"HW2\"',\n",
              "       'path:\"2024_spring/Homeworks/HW2/HW2\"',\n",
              "       ...\n",
              "       'not_analyzed:true', 'symbols:[]', 'error:{\"code\":\"invalid_argument\"',\n",
              "       'msg:\"content required\"', 'meta:{}}}}', 'copilotInfo:null',\n",
              "       'copilotAccessAllowed:false',\n",
              "       'csrf_tokens:{\"/anton-selitskiy/RIT_ML/branches\":{\"post\":\"H7PLzZm3hgd4dFeTXap1rtpVj4A4oJtEmm9dLtzn5cp-pXAee4vHPxn-sgSsjNgv3dqB_dc5WIleJRYJhjPmIA\"}',\n",
              "       '/repos/preferences:{\"post\":\"DTEiIX6RyV8PC_fHe415Ibr4KaMnAVlkSOc7zGaQTnYmmZtHbzVPMnmGhRTlr4IHFHMR6Ux5tANwrusRybfUXQ\"}}}',\n",
              "       'title:\"RIT_ML/2024_spring/Homeworks/HW2/HW2/houses.csv at main · anton-selitskiy/RIT_ML\"}'],\n",
              "      dtype='object', length=146)"
            ]
          },
          "metadata": {},
          "execution_count": 10
        }
      ]
    },
    {
      "cell_type": "markdown",
      "source": [
        "2. • (2 point) Asses the data and clean them."
      ],
      "metadata": {
        "id": "4SyHewz6XBSX"
      }
    },
    {
      "cell_type": "code",
      "source": [],
      "metadata": {
        "id": "YXA1LpKwW-V2"
      },
      "execution_count": null,
      "outputs": []
    },
    {
      "cell_type": "markdown",
      "source": [
        "3. • (1 point) Create features `X` and targets `y`."
      ],
      "metadata": {
        "id": "Vu_wCOVqXyes"
      }
    },
    {
      "cell_type": "code",
      "source": [],
      "metadata": {
        "id": "3XEm3le-X2Ab"
      },
      "execution_count": null,
      "outputs": []
    },
    {
      "cell_type": "markdown",
      "source": [
        "4. • (1 point) Divide the dataset into training, validation, and testing sets: (`X_train, y_train`), (`X_val, y_val`), and (`X_test, y_test`)"
      ],
      "metadata": {
        "id": "8b-PZyCDX2c-"
      }
    },
    {
      "cell_type": "code",
      "source": [],
      "metadata": {
        "id": "EKmfdGaIX5c7"
      },
      "execution_count": null,
      "outputs": []
    },
    {
      "cell_type": "markdown",
      "source": [
        "5. • (1 point) Create a transformation (`ColumnTransformer`) that applies OneHotEncoder to the nominal column only (`remainder='passthrough'`). Fit it with `X_train` and print the first five lines of the transformed `X_train`."
      ],
      "metadata": {
        "id": "qcVbY1cTX9SZ"
      }
    },
    {
      "cell_type": "code",
      "source": [],
      "metadata": {
        "id": "RGibuCDdX-Eb"
      },
      "execution_count": null,
      "outputs": []
    },
    {
      "cell_type": "markdown",
      "source": [
        "6. • (3 points) Train `KNeighborsRegressor` on the transformed `X_train` and select the value of *k* on the transformed `X_val`. Choose a metric that you think evaluates this problem the best. Please, state why you chose it."
      ],
      "metadata": {
        "id": "q1VSZVSsexGn"
      }
    },
    {
      "cell_type": "code",
      "source": [],
      "metadata": {
        "id": "ur_iD49eezps"
      },
      "execution_count": null,
      "outputs": []
    },
    {
      "cell_type": "markdown",
      "source": [
        "7. • (1 point) Report the results using `X_test` and an appropriate metric."
      ],
      "metadata": {
        "id": "eH4IFK60e3lP"
      }
    },
    {
      "cell_type": "code",
      "source": [],
      "metadata": {
        "id": "dRm8whgMe4vd"
      },
      "execution_count": null,
      "outputs": []
    },
    {
      "cell_type": "markdown",
      "source": [
        "8. • (1 point) Modify the transformation applying a scaler to all numerical columns."
      ],
      "metadata": {
        "id": "WnQYaGpBe7Ha"
      }
    },
    {
      "cell_type": "code",
      "source": [],
      "metadata": {
        "id": "BYkVLX9Ye9D9"
      },
      "execution_count": null,
      "outputs": []
    },
    {
      "cell_type": "markdown",
      "source": [
        "9. • (3 point) Repeat the training with the scaled data."
      ],
      "metadata": {
        "id": "OLesrLase-FL"
      }
    },
    {
      "cell_type": "code",
      "source": [],
      "metadata": {
        "id": "whN6rTAJe_F8"
      },
      "execution_count": null,
      "outputs": []
    },
    {
      "cell_type": "markdown",
      "source": [
        "10. • (2 point) Discuss the results. I would suggest plotting histograms of the errors for both cases. If the results are different, can you think of the reason?"
      ],
      "metadata": {
        "id": "KjvrIQaofANW"
      }
    },
    {
      "cell_type": "code",
      "source": [],
      "metadata": {
        "id": "7TDAOcXafBV6"
      },
      "execution_count": null,
      "outputs": []
    },
    {
      "cell_type": "markdown",
      "source": [
        "\n",
        "---\n",
        "\n",
        "# PART TWO: Writing Assignment (4 points)"
      ],
      "metadata": {
        "id": "JKTCqSC_fE_t"
      }
    },
    {
      "cell_type": "markdown",
      "source": [
        "11. • (2 point) What is the difference between supervised and unsupervised problems?"
      ],
      "metadata": {
        "id": "iQh9Ye3YfRxK"
      }
    },
    {
      "cell_type": "markdown",
      "source": [
        "ANSWER"
      ],
      "metadata": {
        "id": "aepB72f0fVKJ"
      }
    },
    {
      "cell_type": "markdown",
      "source": [
        "12. • (2 point) What is the purpose of splitting data into training, validation, and testing sets? What is a\n",
        "typical split-up?"
      ],
      "metadata": {
        "id": "B1X0x7Uvfcmi"
      }
    },
    {
      "cell_type": "markdown",
      "source": [
        "ANSWER"
      ],
      "metadata": {
        "id": "Yi9dkXkVfhgR"
      }
    },
    {
      "cell_type": "code",
      "source": [],
      "metadata": {
        "id": "5O7kN_ZnfiKW"
      },
      "execution_count": null,
      "outputs": []
    }
  ]
}