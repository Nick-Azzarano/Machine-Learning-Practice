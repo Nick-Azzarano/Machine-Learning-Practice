{
  "nbformat": 4,
  "nbformat_minor": 0,
  "metadata": {
    "colab": {
      "provenance": [],
      "authorship_tag": "ABX9TyPIRZJ3Qupkym64TTyqVjZ9",
      "include_colab_link": true
    },
    "kernelspec": {
      "name": "python3",
      "display_name": "Python 3"
    },
    "language_info": {
      "name": "python"
    }
  },
  "cells": [
    {
      "cell_type": "markdown",
      "metadata": {
        "id": "view-in-github",
        "colab_type": "text"
      },
      "source": [
        "<a href=\"https://colab.research.google.com/github/Nick-Azzarano/Machine-Learning-Practice/blob/main/Nick_Azzarano_ML_HW_2.ipynb\" target=\"_parent\"><img src=\"https://colab.research.google.com/assets/colab-badge.svg\" alt=\"Open In Colab\"/></a>"
      ]
    },
    {
      "cell_type": "markdown",
      "source": [
        "CSCI 335 Sections 2 and 3\n",
        "\n",
        "**Homework 2**\n",
        "\n",
        "\n",
        "---\n",
        "\n",
        "\n",
        "# Programming Assignment (16 points)\n",
        "\n",
        "Predict the median_house_value. The file houses.csv contains\n",
        "Information about houses in Californian districts. Write a Python program (in jupyter notebook)\n",
        "that does the following:\n",
        "\n",
        "• (1 point) Load the dataset.\n",
        "\n",
        "• (2 point) Asses the data and clean them.\n",
        "\n",
        "• (1 point) Create features X and targets y.\n",
        "\n",
        "• (1 point) Divide the dataset into training, validation, and testing sets: (X_train, y_train), (X_val,\n",
        "y_val), and (X_test, y_test)\n",
        "\n",
        "• (1 point) Create a transformation (ColumnTransformer) that applies OneHotEncoder to the\n",
        "nominal column only (remainder='passthrough'). Fit it with X_train and print the first five lines\n",
        "of the transformed X_train.\n",
        "\n",
        "• (3 points) Train KNeighborsRegressor on the transformed X_train and select the value of k on\n",
        "the transformed X_val. Choose a metric that you think evaluates this problem the best. Please,\n",
        "state why you chose it.\n",
        "\n",
        "• (1 point) Report the results using X_test and an appropriate metric.\n",
        "\n",
        "• (1 point) Modify the transformation applying a scaler to all numerical columns\n",
        "\n",
        "• (3 point) Repeat the training with the scaled data.\n",
        "\n",
        "• (2 point) Discuss the results. I would suggest plotting histograms of the errors for both cases. If\n",
        "the results are different, can you think of the reason?\n",
        "\n",
        "---\n",
        "\n",
        "# Writing Assignment (4 points) Use Markdown/Text cell in your jupyter notebook\n",
        "• (2 point) What is the difference between supervised and unsupervised problems?\n",
        "\n",
        "• (2 point) What is the purpose of splitting data into training, validation, and testing sets? What is a\n",
        "typical split-up?\n",
        "\n",
        "---"
      ],
      "metadata": {
        "id": "4DTWnpP7UEb8"
      }
    },
    {
      "cell_type": "code",
      "execution_count": null,
      "metadata": {
        "id": "TH0Mf06GTavP"
      },
      "outputs": [],
      "source": []
    }
  ]
}